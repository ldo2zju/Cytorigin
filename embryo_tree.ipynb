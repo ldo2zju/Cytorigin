{
 "cells": [
  {
   "cell_type": "code",
   "execution_count": 2,
   "id": "75e89f0c-785d-4643-a2d2-83838a4df8ae",
   "metadata": {
    "execution": {
     "iopub.execute_input": "2025-09-08T04:55:42.452220Z",
     "iopub.status.busy": "2025-09-08T04:55:42.451482Z",
     "iopub.status.idle": "2025-09-08T04:55:43.999379Z",
     "shell.execute_reply": "2025-09-08T04:55:43.998284Z",
     "shell.execute_reply.started": "2025-09-08T04:55:42.452180Z"
    },
    "tags": []
   },
   "outputs": [],
   "source": [
    "import scanpy as sc\n",
    "import anndata as ad\n",
    "import pandas as pd\n",
    "import numpy as np"
   ]
  },
  {
   "cell_type": "code",
   "execution_count": null,
   "id": "9b5535e2-fa51-4af4-af2e-886ca1316c54",
   "metadata": {
    "execution": {
     "iopub.execute_input": "2025-08-26T11:46:47.827940Z",
     "iopub.status.busy": "2025-08-26T11:46:47.827219Z",
     "iopub.status.idle": "2025-08-26T11:47:00.553860Z",
     "shell.execute_reply": "2025-08-26T11:47:00.552498Z",
     "shell.execute_reply.started": "2025-08-26T11:46:47.827920Z"
    },
    "tags": []
   },
   "outputs": [],
   "source": [
    "adata = sc.read_csv(\"/slurm/home/yrd/liaolab/wangtianhao/data/embryo/data_clean_sub_v2_mnn.csv\").T\n",
    "meta = pd.read_csv(\"/slurm/home/yrd/liaolab/wangtianhao/data/embryo/meta_clean_sub_v2_mnn.csv\")\n",
    "reduction = pd.read_csv(\"/slurm/home/yrd/liaolab/wangtianhao/data/embryo/umap_clean_sub_v2_mnn.csv\")\n",
    "umap = pd.read_csv(\"/slurm/home/yrd/liaolab/wangtianhao/data/embryo/reduction_clean_sub_v2_mnn.csv\")"
   ]
  },
  {
   "cell_type": "code",
   "execution_count": 5,
   "id": "2e28053a-7c91-4e7e-9614-1ba452e2eff4",
   "metadata": {
    "execution": {
     "iopub.execute_input": "2025-08-26T11:47:00.556231Z",
     "iopub.status.busy": "2025-08-26T11:47:00.555666Z",
     "iopub.status.idle": "2025-08-26T11:47:00.564363Z",
     "shell.execute_reply": "2025-08-26T11:47:00.563556Z",
     "shell.execute_reply.started": "2025-08-26T11:47:00.556190Z"
    },
    "tags": []
   },
   "outputs": [],
   "source": [
    "meta.set_index(\"Unnamed: 0\", inplace=True)\n",
    "umap.set_index(\"Unnamed: 0\", inplace=True)\n",
    "reduction.set_index(\"Unnamed: 0\", inplace=True)"
   ]
  },
  {
   "cell_type": "code",
   "execution_count": 7,
   "id": "fa7be57c-41bf-4bd2-a4d1-f7c53926b716",
   "metadata": {
    "execution": {
     "iopub.execute_input": "2025-08-26T11:47:00.590865Z",
     "iopub.status.busy": "2025-08-26T11:47:00.590125Z",
     "iopub.status.idle": "2025-08-26T11:47:00.596907Z",
     "shell.execute_reply": "2025-08-26T11:47:00.596106Z",
     "shell.execute_reply.started": "2025-08-26T11:47:00.590829Z"
    },
    "tags": []
   },
   "outputs": [],
   "source": [
    "adata.obs = meta\n",
    "adata.obsm[\"mnn\"] = np.array(reduction)\n",
    "adata.obsm[\"X_umap\"] = np.array(umap)"
   ]
  },
  {
   "cell_type": "code",
   "execution_count": 12,
   "id": "186880d7-79ba-4b63-92ad-dd7ad6f3fdb0",
   "metadata": {
    "execution": {
     "iopub.execute_input": "2025-08-26T11:47:57.070549Z",
     "iopub.status.busy": "2025-08-26T11:47:57.070069Z",
     "iopub.status.idle": "2025-08-26T11:47:57.165118Z",
     "shell.execute_reply": "2025-08-26T11:47:57.164284Z",
     "shell.execute_reply.started": "2025-08-26T11:47:57.070512Z"
    },
    "tags": []
   },
   "outputs": [],
   "source": [
    "sc.set_figure_params(dpi=300, color_map='viridis')  # low dpi (dots per inch) yields small inline figures\n",
    "sc.settings.verbosity = 3  # verbosity: errors (0), warnings (1), info (2), hints (3)\n",
    "#sc.logging.print_versions()"
   ]
  },
  {
   "cell_type": "code",
   "execution_count": 13,
   "id": "d75337df-17b9-4a28-b0f2-4650c84b856a",
   "metadata": {
    "execution": {
     "iopub.execute_input": "2025-08-26T11:47:57.385821Z",
     "iopub.status.busy": "2025-08-26T11:47:57.385150Z",
     "iopub.status.idle": "2025-08-26T11:48:09.308203Z",
     "shell.execute_reply": "2025-08-26T11:48:09.307144Z",
     "shell.execute_reply.started": "2025-08-26T11:47:57.385780Z"
    },
    "tags": []
   },
   "outputs": [
    {
     "name": "stdout",
     "output_type": "stream",
     "text": [
      "computing neighbors\n"
     ]
    },
    {
     "name": "stderr",
     "output_type": "stream",
     "text": [
      "/slurm/home/yrd/liaolab/wangtianhao/anaconda3/envs/sc3.9/lib/python3.9/site-packages/tqdm/auto.py:21: TqdmWarning: IProgress not found. Please update jupyter and ipywidgets. See https://ipywidgets.readthedocs.io/en/stable/user_install.html\n",
      "  from .autonotebook import tqdm as notebook_tqdm\n"
     ]
    },
    {
     "name": "stdout",
     "output_type": "stream",
     "text": [
      "    finished: added to `.uns['neighbors']`\n",
      "    `.obsp['distances']`, distances for each pair of neighbors\n",
      "    `.obsp['connectivities']`, weighted adjacency matrix (0:00:11)\n"
     ]
    }
   ],
   "source": [
    "sc.pp.neighbors(adata, n_pcs=50, use_rep=\"mnn\", knn=15)"
   ]
  },
  {
   "cell_type": "code",
   "execution_count": null,
   "id": "8c7409a3-22b8-4666-b6ce-9b94d114acbf",
   "metadata": {
    "execution": {
     "iopub.execute_input": "2025-08-26T11:47:40.585867Z",
     "iopub.status.busy": "2025-08-26T11:47:40.584913Z",
     "iopub.status.idle": "2025-08-26T11:47:40.613232Z",
     "shell.execute_reply": "2025-08-26T11:47:40.612277Z",
     "shell.execute_reply.started": "2025-08-26T11:47:40.585801Z"
    },
    "tags": []
   },
   "outputs": [],
   "source": [
    "adata.obs[\"stage\"] = pd.Categorical(adata.obs[\"stage\"])\n",
    "adata.obs[\"stage\"] = adata.obs[\"stage\"].cat.reorder_categories([\"Zygote\",\"E1\",\"E2\",\"E3\",\"E4\",\"E5\",\"E6\",\"E7\",\"E8\",\"E9\",\"E10\",\"E12\",\"E14\",\"CS7\",\"CS8_CytOrgin\",\"CS9\",\"CS10\",\"CS11\",\"CS12\",\"CS13-14\",\"CS15-16\"])\n",
    "adata.obs[\"stage_celltype\"] = adata.obs[\"cell_types_final_ordered\"].str.cat(adata.obs[\"stage\"], sep=\"_\")\n",
    "adata.obs[\"stage_celltype\"] = [\"_\".join(i.split(\" \")) for i in adata.obs[\"stage_celltype\"]]\n",
    "adata.obs[\"stage_celltype\"] = pd.Categorical(adata.obs[\"stage_celltype\"])"
   ]
  },
  {
   "cell_type": "code",
   "execution_count": 14,
   "id": "db63a2f5-561f-4f23-be37-95b07985e9fd",
   "metadata": {
    "execution": {
     "iopub.execute_input": "2025-08-26T11:48:09.310939Z",
     "iopub.status.busy": "2025-08-26T11:48:09.309947Z",
     "iopub.status.idle": "2025-08-26T11:48:09.458588Z",
     "shell.execute_reply": "2025-08-26T11:48:09.457945Z",
     "shell.execute_reply.started": "2025-08-26T11:48:09.310899Z"
    },
    "tags": []
   },
   "outputs": [
    {
     "name": "stdout",
     "output_type": "stream",
     "text": [
      "running PAGA\n",
      "    finished: added\n",
      "    'paga/connectivities', connectivities adjacency (adata.uns)\n",
      "    'paga/connectivities_tree', connectivities subtree (adata.uns) (0:00:00)\n"
     ]
    }
   ],
   "source": [
    "sc.tl.paga(adata, groups='stage_celltype', model='v1.0')"
   ]
  },
  {
   "cell_type": "code",
   "execution_count": 15,
   "id": "312a3519-9125-42cf-a347-170418a70eed",
   "metadata": {
    "execution": {
     "iopub.execute_input": "2025-08-26T11:48:09.459753Z",
     "iopub.status.busy": "2025-08-26T11:48:09.459259Z",
     "iopub.status.idle": "2025-08-26T11:48:09.462816Z",
     "shell.execute_reply": "2025-08-26T11:48:09.462244Z",
     "shell.execute_reply.started": "2025-08-26T11:48:09.459732Z"
    },
    "tags": []
   },
   "outputs": [],
   "source": [
    "tree = pd.DataFrame(adata.uns[\"paga\"][\"connectivities\"].todense())"
   ]
  },
  {
   "cell_type": "code",
   "execution_count": 16,
   "id": "a34a5e07-c0d8-4250-91b0-a4fb9f2fa296",
   "metadata": {
    "execution": {
     "iopub.execute_input": "2025-08-26T11:48:09.464334Z",
     "iopub.status.busy": "2025-08-26T11:48:09.463802Z",
     "iopub.status.idle": "2025-08-26T11:48:09.479248Z",
     "shell.execute_reply": "2025-08-26T11:48:09.478590Z",
     "shell.execute_reply.started": "2025-08-26T11:48:09.464318Z"
    },
    "tags": []
   },
   "outputs": [],
   "source": [
    "tree.columns = adata.obs[\"stage_celltype\"].cat.categories\n",
    "tree.index = adata.obs[\"stage_celltype\"].cat.categories"
   ]
  },
  {
   "cell_type": "code",
   "execution_count": 42,
   "id": "6bcc3901-fed6-420e-9d58-a6616b24db55",
   "metadata": {
    "execution": {
     "iopub.execute_input": "2025-08-01T02:56:26.016140Z",
     "iopub.status.busy": "2025-08-01T02:56:26.015215Z",
     "iopub.status.idle": "2025-08-01T02:56:26.067343Z",
     "shell.execute_reply": "2025-08-01T02:56:26.066488Z",
     "shell.execute_reply.started": "2025-08-01T02:56:26.016083Z"
    },
    "tags": []
   },
   "outputs": [],
   "source": [
    "tree.to_csv(\"~/data/embryo/tree.csv\")"
   ]
  },
  {
   "cell_type": "code",
   "execution_count": null,
   "id": "c27185a6-8aaa-49e5-82f2-523f75c912e6",
   "metadata": {
    "execution": {
     "iopub.execute_input": "2025-07-31T14:23:51.057843Z",
     "iopub.status.busy": "2025-07-31T14:23:51.056847Z",
     "iopub.status.idle": "2025-07-31T14:23:57.627272Z",
     "shell.execute_reply": "2025-07-31T14:23:57.626149Z",
     "shell.execute_reply.started": "2025-07-31T14:23:51.057792Z"
    },
    "tags": []
   },
   "outputs": [],
   "source": [
    "import matplotlib as mpl\n",
    "import numpy as np\n",
    "import matplotlib.pyplot as plt\n",
    "from matplotlib_venn import venn3, venn3_circles\n",
    "import warnings\n",
    "\n",
    "plt.rcParams['font.family'] = 'Arial'\n",
    "\n",
    "warnings.filterwarnings(\"ignore\")"
   ]
  },
  {
   "cell_type": "code",
   "execution_count": null,
   "id": "0b5cc8d3-2772-491e-9d6f-1e9504421755",
   "metadata": {
    "execution": {
     "iopub.execute_input": "2025-07-31T14:23:59.193942Z",
     "iopub.status.busy": "2025-07-31T14:23:59.193101Z",
     "iopub.status.idle": "2025-07-31T14:23:59.204052Z",
     "shell.execute_reply": "2025-07-31T14:23:59.203093Z",
     "shell.execute_reply.started": "2025-07-31T14:23:59.193899Z"
    },
    "tags": []
   },
   "outputs": [],
   "source": [
    "features = [\"Zygote\",\"E1\",\"E2\",\"E3\",\"E4\",\"E5\",\"E6\",\"E7\",\"E8\",\"E9\",\"E10\",\"E12\",\"E14\",\"CS7\",\"CS8_CytOrgin\",\"CS9\",\"CS10\",\"CS11\",\"CS12\",\"CS13-14\",\"CS15-16\"]\n",
    "lscmap = mpl.colormaps.get_cmap(\"RdBu\")\n",
    "features_hex_list = [mpl.colors.to_hex(lscmap(i)) for i in np.linspace(0, 1, len(features))]\n",
    "features_colors = {i: j for i, j in zip(features, features_hex_list)}"
   ]
  },
  {
   "cell_type": "code",
   "execution_count": 3,
   "id": "38cc3d04-5a8b-40c4-8016-e6e33685afcf",
   "metadata": {
    "execution": {
     "iopub.execute_input": "2025-07-31T14:24:01.876587Z",
     "iopub.status.busy": "2025-07-31T14:24:01.875975Z",
     "iopub.status.idle": "2025-07-31T14:24:05.450465Z",
     "shell.execute_reply": "2025-07-31T14:24:05.449506Z",
     "shell.execute_reply.started": "2025-07-31T14:24:01.876551Z"
    },
    "tags": []
   },
   "outputs": [],
   "source": [
    "from pycirclize import Circos\n",
    "from pycirclize.utils import ColorCycler\n",
    "import numpy as np\n",
    "import pandas as pd\n",
    "np.random.seed(0)"
   ]
  },
  {
   "cell_type": "code",
   "execution_count": null,
   "id": "e95d741f-d3a5-4247-93bf-957892b2c462",
   "metadata": {
    "execution": {
     "iopub.execute_input": "2025-07-31T14:28:53.063804Z",
     "iopub.status.busy": "2025-07-31T14:28:53.062968Z",
     "iopub.status.idle": "2025-07-31T14:28:53.104386Z",
     "shell.execute_reply": "2025-07-31T14:28:53.103540Z",
     "shell.execute_reply.started": "2025-07-31T14:28:53.063764Z"
    },
    "tags": []
   },
   "outputs": [
    {
     "name": "stdout",
     "output_type": "stream",
     "text": [
      "mean_exp_datas shapes: [(1, 10), (1, 10), (1, 10), (1, 10), (3, 10), (6, 10), (4, 10), (4, 10), (5, 10), (4, 10), (4, 10), (6, 10), (6, 10), (11, 10), (13, 10), (16, 10), (18, 10), (30, 10), (21, 10), (22, 10), (21, 10)]\n"
     ]
    }
   ],
   "source": [
    "TF_data = pd.read_csv(\"/slurm/home/yrd/liaolab/wangtianhao/data/embryo/Morphogen_data_avg.csv\", index_col=0)\n",
    "#genes = [\"GATA6\", \"GATA3\", \"NANOG\", \"SOX17\", \"TBXT\", \"EOMES\", \"FOXA2\", \"PAX6\", \"OTX2\", \"SOX2\"]\n",
    "#genes.reverse() # for morphogens\n",
    "genes = ['BMP2', 'BMP4', 'BMP7', 'NODAL', 'WNT3', 'WNT6', 'FGF2', 'FGF8', 'SHH', 'ALDH1A2']\n",
    "celltypes = TF_data[\"celltype\"]\n",
    "groups = TF_data[\"group\"].unique().tolist()\n",
    "\n",
    "mean_exp_datas, qv_datas = [], []\n",
    "for group in groups:\n",
    "    group_data = TF_data[TF_data[\"group\"] == group]\n",
    "    group_exp = group_data[genes]\n",
    "    group_exp.index = group_data[\"celltype\"]\n",
    "    mean_exp_datas.append(group_exp)\n",
    "    #\n",
    "    #qv_datas.append(group_qvals)group_qvals = group_data[\"qval\"].values\n",
    "print(\"mean_exp_datas shapes:\", [data.shape for data in mean_exp_datas])\n",
    "#print(\"qv_datas lengths:\", [len(qvs) for qvs in qv_datas])"
   ]
  },
  {
   "cell_type": "code",
   "execution_count": null,
   "id": "d9264833-fc05-44a5-a50b-ae7321d35bf5",
   "metadata": {
    "execution": {
     "iopub.execute_input": "2025-07-31T14:29:17.849940Z",
     "iopub.status.busy": "2025-07-31T14:29:17.849448Z",
     "iopub.status.idle": "2025-07-31T14:29:19.951295Z",
     "shell.execute_reply": "2025-07-31T14:29:19.950690Z",
     "shell.execute_reply.started": "2025-07-31T14:29:17.849901Z"
    },
    "tags": []
   },
   "outputs": [],
   "source": [
    "sectors = {\"Zygote\": mean_exp_datas[0].shape[0],\n",
    "           \"E1\": mean_exp_datas[1].shape[0],\n",
    "           \"E2\": mean_exp_datas[2].shape[0],\n",
    "           \"E3\": mean_exp_datas[3].shape[0],\n",
    "           \"E4\": mean_exp_datas[4].shape[0],\n",
    "           \"E5\": mean_exp_datas[5].shape[0],\n",
    "           \"E6\": mean_exp_datas[6].shape[0],\n",
    "           \"E7\": mean_exp_datas[7].shape[0],\n",
    "           \"E8\": mean_exp_datas[8].shape[0],\n",
    "           \"E9\": mean_exp_datas[9].shape[0],\n",
    "           \"E10\": mean_exp_datas[10].shape[0],\n",
    "           \"E12\": mean_exp_datas[11].shape[0],\n",
    "           \"E14\": mean_exp_datas[12].shape[0],\n",
    "           \"CS7\": mean_exp_datas[13].shape[0],\n",
    "           \"CS8_CytOrgin\": mean_exp_datas[14].shape[0],\n",
    "           \"CS9\": mean_exp_datas[15].shape[0],\n",
    "           \"CS10\": mean_exp_datas[16].shape[0],\n",
    "           \"CS11\": mean_exp_datas[17].shape[0],\n",
    "           \"CS12\": mean_exp_datas[18].shape[0],\n",
    "           \"CS13-14\": mean_exp_datas[19].shape[0],\n",
    "           \"CS15-16\": mean_exp_datas[20].shape[0]}\n",
    "circos = Circos(sectors, space=2, start=30, end=360, endspace=False)\n",
    "circos.textprops = {\n",
    "    \"color\": \"black\",\n",
    "    \"weight\": \"normal\",\n",
    "    #\"family\": \"monospace\",\n",
    "    \"ha\": \"center\",\n",
    "    \"va\": \"center\",\n",
    "    \"fontsize\": 2}\n",
    "\n",
    "#vmin_qv, vmax_qv = 1e-20, 1e-10\n",
    "vmin_exp, vmax_exp = 0, 1.2\n",
    "\n",
    "for i, sector in enumerate(circos.sectors):\n",
    "    start_col = 205\n",
    "    track_exp = sector.add_track((start_col-25, start_col))\n",
    "    track_exp.axis()\n",
    "    sub_exp_data = mean_exp_datas[i].T\n",
    "    sub_exp_data[sub_exp_data>=1] = 1\n",
    "    track_exp.heatmap(sub_exp_data, vmin=vmin_exp, vmax=vmax_exp, cmap=\"OrRd\", text_kws=dict(size=10), rect_kws=dict(ec=\"white\", lw=0)) # GnBu OrRd\n",
    "    x = np.linspace(1, int(track_exp.size), int(track_exp.size)) - 0.5\n",
    "    xlabels = list(sub_exp_data.columns)\n",
    "    track_exp.xticks(x, xlabels, outer=True, label_size=10, label_orientation=\"vertical\")\n",
    "    if i + 1 == len(sectors):\n",
    "        track_exp.yticks([9.5, 8.5, 7.5, 6.5, 5.5, 4.5, 3.5, 2.5, 1.5, 0.5], genes, label_size=10, vmin=0, vmax=10)\n",
    "        \n",
    "    \n",
    "    \n",
    "    #track_qv = sector.add_track((start_col-25, start_col-22.5))\n",
    "    #x = np.linspace(1, int(track_qv.size), int(track_qv.size)) - 0.5\n",
    "    #y = np.ones(shape=(int(track_qv.size),)) - 0.5\n",
    "    #c = np.asarray(qv_datas[i])\n",
    "    #track_qv.scatter(x, y, s=15, marker=\"D\", cmap=\"gist_heat_r\")\n",
    "    #if i + 1 == len(sectors):\n",
    "        #track_qv.yticks([1], [\"qval\"], vmin=0, vmax=1)\n",
    "    track_label = sector.add_track((start_col-30, start_col-25))\n",
    "    track_label.axis(fc=features_colors[sector.name], alpha=0.4)\n",
    "    track_label.text(sector.name, color=\"black\", size=10, r=start_col-27.5)\n",
    "circos.colorbar(bounds=(0.9, 0.6, 0.02, 0.2), label=\"Expression\\nfraction\", label_kws={\"labelpad\": -60,\"size\": 10,\"ha\": \"center\", \"va\": \"top\"}, vmin=vmin_exp, vmax=vmax_exp, orientation=\"vertical\", cmap=\"RdBu_r\")\n",
    "#circos.colorbar(bounds=(0.9, 0.2, 0.02, 0.2), label=\"qval\", label_kws={\"labelpad\": -50,\"size\": 10,\"ha\": \"left\"}, vmin=vmin_qv, vmax=vmax_qv, orientation=\"vertical\", cmap=\"gist_heat_r\")\n",
    "fig = circos.plotfig()\n",
    "plt.show()"
   ]
  },
  {
   "cell_type": "code",
   "execution_count": null,
   "id": "ce2a82a5",
   "metadata": {},
   "outputs": [],
   "source": [
    "fig.savefig(\"/slurm/home/yrd/liaolab/wangtianhao/data/embryo/circos_plot_outer.pdf\",\n",
    "            bbox_inches=\"tight\",\n",
    "            dpi=100,\n",
    "            facecolor=\"white\")\n",
    "plt.close()"
   ]
  },
  {
   "cell_type": "code",
   "execution_count": 13,
   "id": "26617fb0-9479-4ea7-bf47-0538f7feffc7",
   "metadata": {
    "execution": {
     "iopub.execute_input": "2025-07-31T14:30:38.046044Z",
     "iopub.status.busy": "2025-07-31T14:30:38.045077Z",
     "iopub.status.idle": "2025-07-31T14:30:38.059215Z",
     "shell.execute_reply": "2025-07-31T14:30:38.058395Z",
     "shell.execute_reply.started": "2025-07-31T14:30:38.045990Z"
    },
    "tags": []
   },
   "outputs": [],
   "source": [
    "data = pd.read_csv(\"/slurm/home/yrd/liaolab/wangtianhao/data/embryo/ratio_data.csv\", index_col=0)\n",
    "data = data"
   ]
  },
  {
   "cell_type": "code",
   "execution_count": null,
   "id": "99c4fb45-1780-4663-8c9a-195d0c0fcfeb",
   "metadata": {
    "execution": {
     "iopub.execute_input": "2025-07-31T14:30:38.638659Z",
     "iopub.status.busy": "2025-07-31T14:30:38.637933Z",
     "iopub.status.idle": "2025-07-31T14:30:38.673703Z",
     "shell.execute_reply": "2025-07-31T14:30:38.672974Z",
     "shell.execute_reply.started": "2025-07-31T14:30:38.638622Z"
    },
    "tags": []
   },
   "outputs": [],
   "source": [
    "batches = data.columns.to_list()[:-2]\n",
    "celltypes = data[\"celltype\"]\n",
    "groups = data[\"group\"].unique().tolist()\n",
    "\n",
    "mean_exp_datas, qv_datas =[], []\n",
    "for group in groups:\n",
    "    group_data = data[data[\"group\"] == group]\n",
    "    group_exp = np.array(group_data[batches])\n",
    "    mean_exp_datas.append(group_exp)\n",
    "    #\n",
    "    #qv_datas.append(group_qvals)group_qvals = group_data[\"qval\"].values\n",
    "print(\"mean_exp_datas shapes:\", [len(data) for data in mean_exp_datas])\n",
    "#print(\"qv_datas lengths:\", [len(qvs) for qvs in qv_datas])"
   ]
  },
  {
   "cell_type": "code",
   "execution_count": null,
   "id": "4aea3757-778f-4053-b4d6-a2fc80dea94e",
   "metadata": {
    "execution": {
     "iopub.execute_input": "2025-07-31T14:30:39.138969Z",
     "iopub.status.busy": "2025-07-31T14:30:39.138659Z",
     "iopub.status.idle": "2025-07-31T14:30:55.587442Z",
     "shell.execute_reply": "2025-07-31T14:30:55.586566Z",
     "shell.execute_reply.started": "2025-07-31T14:30:39.138945Z"
    },
    "tags": []
   },
   "outputs": [],
   "source": [
    "sectors = {\"Zygote\": mean_exp_datas[0].shape[0],\n",
    "           \"E1\": mean_exp_datas[1].shape[0],\n",
    "           \"E2\": mean_exp_datas[2].shape[0],\n",
    "           \"E3\": mean_exp_datas[3].shape[0],\n",
    "           \"E4\": mean_exp_datas[4].shape[0],\n",
    "           \"E5\": mean_exp_datas[5].shape[0],\n",
    "           \"E6\": mean_exp_datas[6].shape[0],\n",
    "           \"E7\": mean_exp_datas[7].shape[0],\n",
    "           \"E8\": mean_exp_datas[8].shape[0],\n",
    "           \"E9\": mean_exp_datas[9].shape[0],\n",
    "           \"E10\": mean_exp_datas[10].shape[0],\n",
    "           \"E12\": mean_exp_datas[11].shape[0],\n",
    "           \"E14\": mean_exp_datas[12].shape[0],\n",
    "           \"CS7\": mean_exp_datas[13].shape[0],\n",
    "           \"CS8_CytOrgin\": mean_exp_datas[14].shape[0],\n",
    "           \"CS9\": mean_exp_datas[15].shape[0],\n",
    "           \"CS10\": mean_exp_datas[16].shape[0],\n",
    "           \"CS11\": mean_exp_datas[17].shape[0],\n",
    "           \"CS12\": mean_exp_datas[18].shape[0],\n",
    "           \"CS13-14\": mean_exp_datas[19].shape[0],\n",
    "           \"CS15-16\": mean_exp_datas[20].shape[0]}\n",
    "circos = Circos(sectors, space=2, start=30, end=360, endspace=False)\n",
    "circos.textprops = {\n",
    "    \"color\": \"black\",\n",
    "    \"weight\": \"normal\",\n",
    "    #\"family\": \"monospace\",\n",
    "    \"ha\": \"center\",\n",
    "    \"va\": \"center\",\n",
    "    \"fontsize\": 2}\n",
    "vmin, vmax = 0, 1\n",
    "number_of_batch = 55\n",
    "for i, sector in enumerate(circos.sectors):\n",
    "    start_col = 100\n",
    "    \n",
    "    sub_exp_data = mean_exp_datas[i].T\n",
    "    x = np.linspace(sector.start + 0.5, sector.end - 0.5, int(sector.size))\n",
    "    \n",
    "    # Plot stacked bar with user-specified params\n",
    "    track2 = sector.add_track((95, 100))\n",
    "    track2.axis()\n",
    "    #track2.xticks_by_interval(1, outer=False)\n",
    "\n",
    "    ColorCycler.set_cmap(\"tab20c\")\n",
    "    tab10_colors = [ColorCycler() for _ in range(number_of_batch)]\n",
    "    bottom = np.zeros(len(x))\n",
    "    for j in range(number_of_batch):\n",
    "        y = sub_exp_data[j,:]\n",
    "        track2.bar(x, y, bottom=bottom, width=1.0, color=tab10_colors[j], ec=\"white\", lw=0.1, vmax=vmax)\n",
    "        bottom += y\n",
    "\n",
    "fig = circos.plotfig()\n",
    "plt.show()"
   ]
  },
  {
   "cell_type": "code",
   "execution_count": 16,
   "id": "8a662708-231f-4e8c-bc28-78e74347639e",
   "metadata": {
    "execution": {
     "iopub.execute_input": "2025-07-31T14:31:43.921195Z",
     "iopub.status.busy": "2025-07-31T14:31:43.920541Z",
     "iopub.status.idle": "2025-07-31T14:31:55.159881Z",
     "shell.execute_reply": "2025-07-31T14:31:55.159217Z",
     "shell.execute_reply.started": "2025-07-31T14:31:43.921157Z"
    },
    "tags": []
   },
   "outputs": [],
   "source": [
    "fig.savefig(\"/slurm/home/yrd/liaolab/wangtianhao/data/embryo/circos_plot_inner.pdf\",\n",
    "            bbox_inches=\"tight\",\n",
    "            dpi=100,\n",
    "            facecolor=\"white\")\n",
    "plt.close()"
   ]
  },
  {
   "cell_type": "code",
   "execution_count": 17,
   "id": "a7570c1d-38b9-454c-9e6e-6d6a1319ea3b",
   "metadata": {
    "execution": {
     "iopub.execute_input": "2025-07-31T14:31:55.161753Z",
     "iopub.status.busy": "2025-07-31T14:31:55.161189Z",
     "iopub.status.idle": "2025-07-31T14:31:55.173189Z",
     "shell.execute_reply": "2025-07-31T14:31:55.172343Z",
     "shell.execute_reply.started": "2025-07-31T14:31:55.161715Z"
    },
    "tags": []
   },
   "outputs": [],
   "source": [
    "data = pd.read_csv(\"/slurm/home/yrd/liaolab/wangtianhao/data/embryo/stage_ct_ratio_data.csv\", index_col=0)"
   ]
  },
  {
   "cell_type": "code",
   "execution_count": null,
   "id": "a3edb32b-9861-47f5-bc5d-30d372e2f2ae",
   "metadata": {
    "execution": {
     "iopub.execute_input": "2025-07-31T14:31:56.724430Z",
     "iopub.status.busy": "2025-07-31T14:31:56.723876Z",
     "iopub.status.idle": "2025-07-31T14:31:56.744426Z",
     "shell.execute_reply": "2025-07-31T14:31:56.743721Z",
     "shell.execute_reply.started": "2025-07-31T14:31:56.724394Z"
    },
    "tags": []
   },
   "outputs": [],
   "source": [
    "batches = data.columns.to_list()[:-2]\n",
    "celltypes = data[\"celltype\"]\n",
    "groups = data[\"group\"].unique().tolist()\n",
    "\n",
    "mean_exp_datas, qv_datas =[], []\n",
    "for group in groups:\n",
    "    group_data = data.loc[data[\"group\"] == group, group].to_list()\n",
    "    mean_exp_datas.append(group_data)\n",
    "    #\n",
    "    #qv_datas.append(group_qvals)group_qvals = group_data[\"qval\"].values\n",
    "print(\"mean_exp_datas shapes:\", [len(data) for data in mean_exp_datas])\n",
    "#print(\"qv_datas lengths:\", [len(qvs) for qvs in qv_datas])"
   ]
  },
  {
   "cell_type": "code",
   "execution_count": null,
   "id": "ae3c9862-c0ac-4597-9999-26d3711577a6",
   "metadata": {
    "execution": {
     "iopub.execute_input": "2025-07-31T14:31:57.129665Z",
     "iopub.status.busy": "2025-07-31T14:31:57.128783Z",
     "iopub.status.idle": "2025-07-31T14:31:57.705140Z",
     "shell.execute_reply": "2025-07-31T14:31:57.704539Z",
     "shell.execute_reply.started": "2025-07-31T14:31:57.129615Z"
    },
    "tags": []
   },
   "outputs": [],
   "source": [
    "# celltype ratio of each celltype in the corresponding stage\n",
    "sectors = {\"Zygote\": len(mean_exp_datas[0]),\n",
    "           \"E1\": len(mean_exp_datas[1]),\n",
    "           \"E2\": len(mean_exp_datas[2]),\n",
    "           \"E3\": len(mean_exp_datas[3]),\n",
    "           \"E4\": len(mean_exp_datas[4]),\n",
    "           \"E5\": len(mean_exp_datas[5]),\n",
    "           \"E6\": len(mean_exp_datas[6]),\n",
    "           \"E7\": len(mean_exp_datas[7]),\n",
    "           \"E8\": len(mean_exp_datas[8]),\n",
    "           \"E9\": len(mean_exp_datas[9]),\n",
    "           \"E10\": len(mean_exp_datas[10]),\n",
    "           \"E12\": len(mean_exp_datas[11]),\n",
    "           \"E14\": len(mean_exp_datas[12]),\n",
    "           \"CS7\": len(mean_exp_datas[13]),\n",
    "           \"CS8_CytOrgin\": len(mean_exp_datas[14]),\n",
    "           \"CS9\": len(mean_exp_datas[15]),\n",
    "           \"CS10\": len(mean_exp_datas[16]),\n",
    "           \"CS11\": len(mean_exp_datas[17]),\n",
    "           \"CS12\": len(mean_exp_datas[18]),\n",
    "           \"CS13-14\": len(mean_exp_datas[19]),\n",
    "           \"CS15-16\": len(mean_exp_datas[20])}\n",
    "circos = Circos(sectors, space=2, start=30, end=360, endspace=False)\n",
    "circos.textprops = {\n",
    "    \"color\": \"black\",\n",
    "    \"weight\": \"normal\",\n",
    "    #\"family\": \"monospace\",\n",
    "    \"ha\": \"center\",\n",
    "    \"va\": \"center\",\n",
    "    \"fontsize\": 2}\n",
    "vmin, vmax = 0, 1\n",
    "for i, sector in enumerate(circos.sectors):\n",
    "    start_col = 100\n",
    "    \n",
    "    y = mean_exp_datas[i]\n",
    "    x = np.linspace(sector.start + 0.5, sector.end - 0.5, int(sector.size))\n",
    "    \n",
    "    # Plot stacked bar with user-specified params\n",
    "    track2 = sector.add_track((92, 100))\n",
    "    track2.axis()\n",
    "    #track2.xticks_by_interval(1, outer=False)\n",
    "\n",
    "    track2.bar(x, y, width=1.0, color=\"#cccccc\", ec=\"white\", lw=0.1, vmax=vmax)\n",
    "\n",
    "fig = circos.plotfig()\n",
    "plt.show()"
   ]
  },
  {
   "cell_type": "code",
   "execution_count": 20,
   "id": "40974f4b-04cf-48d2-bc1c-73a50fd92024",
   "metadata": {
    "execution": {
     "iopub.execute_input": "2025-07-31T14:32:22.273725Z",
     "iopub.status.busy": "2025-07-31T14:32:22.272774Z",
     "iopub.status.idle": "2025-07-31T14:32:22.698761Z",
     "shell.execute_reply": "2025-07-31T14:32:22.698141Z",
     "shell.execute_reply.started": "2025-07-31T14:32:22.273683Z"
    },
    "tags": []
   },
   "outputs": [],
   "source": [
    "fig.savefig(\"/slurm/home/yrd/liaolab/wangtianhao/data/embryo/circos_plot_cellratio.pdf\",\n",
    "            bbox_inches=\"tight\",\n",
    "            dpi=100,\n",
    "            facecolor=\"white\")\n",
    "plt.close()"
   ]
  }
 ],
 "metadata": {
  "kernelspec": {
   "display_name": "sc3.9",
   "language": "python",
   "name": "sc3.9"
  },
  "language_info": {
   "codemirror_mode": {
    "name": "ipython",
    "version": 3
   },
   "file_extension": ".py",
   "mimetype": "text/x-python",
   "name": "python",
   "nbconvert_exporter": "python",
   "pygments_lexer": "ipython3",
   "version": "3.9.0"
  }
 },
 "nbformat": 4,
 "nbformat_minor": 5
}
