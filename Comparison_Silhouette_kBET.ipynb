{
 "cells": [
  {
   "cell_type": "code",
   "execution_count": 1,
   "id": "bddf4d28-9297-4387-b31d-688999da6d32",
   "metadata": {
    "execution": {
     "iopub.execute_input": "2025-08-18T09:12:44.292605Z",
     "iopub.status.busy": "2025-08-18T09:12:44.292156Z",
     "iopub.status.idle": "2025-08-18T09:13:34.670834Z",
     "shell.execute_reply": "2025-08-18T09:13:34.669971Z",
     "shell.execute_reply.started": "2025-08-18T09:12:44.292569Z"
    },
    "tags": []
   },
   "outputs": [
    {
     "name": "stderr",
     "output_type": "stream",
     "text": [
      "/slurm/home/yrd/liaolab/caohaoxue/anaconda3/envs/my_env/lib/python3.13/site-packages/tqdm/auto.py:21: TqdmWarning: IProgress not found. Please update jupyter and ipywidgets. See https://ipywidgets.readthedocs.io/en/stable/user_install.html\n",
      "  from .autonotebook import tqdm as notebook_tqdm\n"
     ]
    }
   ],
   "source": [
    "import scanpy as sc\n",
    "import anndata as an\n",
    "import pandas as pd\n",
    "import numpy as np\n",
    "import matplotlib.pyplot as plt\n",
    "from typing import Optional, Union\n",
    "import seaborn as sns\n",
    "import scipy\n",
    "import bbknn\n",
    "from scipy.io import mmread"
   ]
  },
  {
   "cell_type": "code",
   "execution_count": 2,
   "id": "b6770abe-02da-449a-8e01-d7b652dbe6ed",
   "metadata": {
    "execution": {
     "iopub.execute_input": "2025-08-18T09:13:34.673662Z",
     "iopub.status.busy": "2025-08-18T09:13:34.672590Z",
     "iopub.status.idle": "2025-08-18T09:13:35.040062Z",
     "shell.execute_reply": "2025-08-18T09:13:35.039345Z",
     "shell.execute_reply.started": "2025-08-18T09:13:34.673624Z"
    },
    "tags": []
   },
   "outputs": [],
   "source": [
    "import scib\n",
    "from scib.metrics import silhouette_batch\n",
    "from scib.metrics import kBET"
   ]
  },
  {
   "cell_type": "code",
   "execution_count": 3,
   "id": "3eaf54d5-4499-4087-bdae-34ec98dc9d67",
   "metadata": {
    "execution": {
     "iopub.execute_input": "2025-08-18T09:13:35.041775Z",
     "iopub.status.busy": "2025-08-18T09:13:35.041017Z",
     "iopub.status.idle": "2025-08-18T09:13:35.045407Z",
     "shell.execute_reply": "2025-08-18T09:13:35.044529Z",
     "shell.execute_reply.started": "2025-08-18T09:13:35.041743Z"
    },
    "tags": []
   },
   "outputs": [],
   "source": [
    "from scipy import sparse"
   ]
  },
  {
   "cell_type": "markdown",
   "id": "38d310f5-9547-4dde-a93f-f1fd7050a311",
   "metadata": {
    "jp-MarkdownHeadingCollapsed": true,
    "tags": []
   },
   "source": [
    "# E12"
   ]
  },
  {
   "cell_type": "code",
   "execution_count": 5,
   "id": "1d930fb3-73d9-4fec-8690-e5804d29ef44",
   "metadata": {
    "execution": {
     "iopub.execute_input": "2025-08-17T15:24:53.975193Z",
     "iopub.status.busy": "2025-08-17T15:24:53.974456Z",
     "iopub.status.idle": "2025-08-17T15:24:54.899517Z",
     "shell.execute_reply": "2025-08-17T15:24:54.898968Z",
     "shell.execute_reply.started": "2025-08-17T15:24:53.975161Z"
    },
    "tags": []
   },
   "outputs": [
    {
     "name": "stderr",
     "output_type": "stream",
     "text": [
      "/slurm/home/yrd/liaolab/caohaoxue/anaconda3/envs/my_env/lib/python3.13/site-packages/anndata/_core/anndata.py:1756: UserWarning: Observation names are not unique. To make them unique, call `.obs_names_make_unique`.\n",
      "  utils.warn_names_duplicates(\"obs\")\n"
     ]
    }
   ],
   "source": [
    "cyto = sc.read_h5ad('/slurm/home/yrd/liaolab/caohaoxue/embryo_work/benchmark/simulated_matrix/h5ad_format/E12f_CytO.h5ad')\n",
    "spla = sc.read_h5ad('/slurm/home/yrd/liaolab/caohaoxue/embryo_work/benchmark/simulated_matrix/h5ad_format/E12f_splatter.h5ad')\n",
    "simp = sc.read_h5ad('/slurm/home/yrd/liaolab/caohaoxue/embryo_work/benchmark/simulated_matrix/h5ad_format/E12f_splatter_simple.h5ad')\n",
    "scde = sc.read_h5ad('/slurm/home/yrd/liaolab/caohaoxue/embryo_work/benchmark/simulated_matrix/h5ad_format/E12f_scDesign3.h5ad')\n",
    "scva = sc.read_h5ad('/slurm/home/yrd/liaolab/caohaoxue/embryo_work/benchmark/simulated_matrix/h5ad_format/E12f_scVAEDer.h5ad')\n",
    "real = sc.read_h5ad('/slurm/home/yrd/liaolab/caohaoxue/embryo_work/data_standard/Zygote_to_CS7.h5ad')"
   ]
  },
  {
   "cell_type": "code",
   "execution_count": 6,
   "id": "b618ad54-7412-4aef-a90c-8ceefa16c1ef",
   "metadata": {
    "execution": {
     "iopub.execute_input": "2025-08-17T15:24:54.900341Z",
     "iopub.status.busy": "2025-08-17T15:24:54.900203Z",
     "iopub.status.idle": "2025-08-17T15:24:55.079323Z",
     "shell.execute_reply": "2025-08-17T15:24:55.078807Z",
     "shell.execute_reply.started": "2025-08-17T15:24:54.900328Z"
    },
    "tags": []
   },
   "outputs": [],
   "source": [
    "real = real[real.obs.time == 'E12']\n",
    "real.var = real.var.rename(columns = {'x':'features'})\n",
    "real.var.index = real.var.features"
   ]
  },
  {
   "cell_type": "code",
   "execution_count": 7,
   "id": "7ece820c-87d9-468b-a5e4-08b418b911ca",
   "metadata": {
    "execution": {
     "iopub.execute_input": "2025-08-17T15:24:55.080633Z",
     "iopub.status.busy": "2025-08-17T15:24:55.080099Z",
     "iopub.status.idle": "2025-08-17T15:24:55.372371Z",
     "shell.execute_reply": "2025-08-17T15:24:55.371823Z",
     "shell.execute_reply.started": "2025-08-17T15:24:55.080603Z"
    },
    "tags": []
   },
   "outputs": [
    {
     "name": "stderr",
     "output_type": "stream",
     "text": [
      "/slurm/home/yrd/liaolab/caohaoxue/anaconda3/envs/my_env/lib/python3.13/site-packages/anndata/_core/anndata.py:1756: UserWarning: Observation names are not unique. To make them unique, call `.obs_names_make_unique`.\n",
      "  utils.warn_names_duplicates(\"obs\")\n",
      "/slurm/home/yrd/liaolab/caohaoxue/anaconda3/envs/my_env/lib/python3.13/site-packages/anndata/_core/anndata.py:1756: UserWarning: Observation names are not unique. To make them unique, call `.obs_names_make_unique`.\n",
      "  utils.warn_names_duplicates(\"obs\")\n"
     ]
    }
   ],
   "source": [
    "adata_int = sc.concat([cyto,spla,simp,scde,scva],\n",
    "                      join = 'outer',\n",
    "                      fill_value = 0)\n",
    "\n",
    "adata = sc.concat([real,adata_int],\n",
    "                 label = 'source',\n",
    "                 keys = ['real','simulated'],\n",
    "                 index_unique = '-')"
   ]
  },
  {
   "cell_type": "code",
   "execution_count": 8,
   "id": "b4a9cab6-7190-41b2-8f66-f5be7ab25012",
   "metadata": {
    "execution": {
     "iopub.execute_input": "2025-08-17T15:24:57.883945Z",
     "iopub.status.busy": "2025-08-17T15:24:57.883177Z",
     "iopub.status.idle": "2025-08-17T15:24:58.034509Z",
     "shell.execute_reply": "2025-08-17T15:24:58.033901Z",
     "shell.execute_reply.started": "2025-08-17T15:24:57.883912Z"
    },
    "tags": []
   },
   "outputs": [
    {
     "name": "stderr",
     "output_type": "stream",
     "text": [
      "/slurm/home/yrd/liaolab/caohaoxue/anaconda3/envs/my_env/lib/python3.13/site-packages/anndata/_core/anndata.py:1756: UserWarning: Observation names are not unique. To make them unique, call `.obs_names_make_unique`.\n",
      "  utils.warn_names_duplicates(\"obs\")\n"
     ]
    }
   ],
   "source": [
    "adata_raw = sc.concat([real,adata_int],\n",
    "                 label = 'source',\n",
    "                 keys = ['real','simulated'],\n",
    "                 index_unique = '-')"
   ]
  },
  {
   "cell_type": "code",
   "execution_count": 9,
   "id": "d815a73f-119e-4708-b77d-617acce21f97",
   "metadata": {
    "execution": {
     "iopub.execute_input": "2025-08-17T15:25:02.879995Z",
     "iopub.status.busy": "2025-08-17T15:25:02.879405Z",
     "iopub.status.idle": "2025-08-17T15:25:02.884783Z",
     "shell.execute_reply": "2025-08-17T15:25:02.883904Z",
     "shell.execute_reply.started": "2025-08-17T15:25:02.879963Z"
    },
    "tags": []
   },
   "outputs": [],
   "source": [
    "adata.obs['stage'] = 'E12'\n",
    "adata_raw.obs['stage'] = 'E12'"
   ]
  },
  {
   "cell_type": "code",
   "execution_count": 10,
   "id": "96cb0b73-ce9f-4586-8091-f0c51e0b8cb9",
   "metadata": {
    "execution": {
     "iopub.execute_input": "2025-08-17T15:25:21.470528Z",
     "iopub.status.busy": "2025-08-17T15:25:21.469955Z",
     "iopub.status.idle": "2025-08-17T15:25:28.064574Z",
     "shell.execute_reply": "2025-08-17T15:25:28.064013Z",
     "shell.execute_reply.started": "2025-08-17T15:25:21.470498Z"
    },
    "tags": []
   },
   "outputs": [
    {
     "name": "stderr",
     "output_type": "stream",
     "text": [
      "/slurm/home/yrd/liaolab/caohaoxue/anaconda3/envs/my_env/lib/python3.13/site-packages/sklearn/manifold/_spectral_embedding.py:329: UserWarning: Graph is not fully connected, spectral embedding may not work as expected.\n",
      "  warnings.warn(\n"
     ]
    }
   ],
   "source": [
    "sc.tl.pca(adata_raw, svd_solver='arpack')\n",
    "sc.pp.neighbors(adata_raw)\n",
    "sc.tl.umap(adata_raw)"
   ]
  },
  {
   "cell_type": "code",
   "execution_count": 11,
   "id": "8fedb562-f265-4860-84ce-d8ad19cfda48",
   "metadata": {
    "execution": {
     "iopub.execute_input": "2025-08-17T15:25:28.065562Z",
     "iopub.status.busy": "2025-08-17T15:25:28.065339Z",
     "iopub.status.idle": "2025-08-17T15:25:31.327621Z",
     "shell.execute_reply": "2025-08-17T15:25:31.327040Z",
     "shell.execute_reply.started": "2025-08-17T15:25:28.065548Z"
    },
    "tags": []
   },
   "outputs": [
    {
     "name": "stdout",
     "output_type": "stream",
     "text": [
      "WARNING: consider updating your call to make use of `computation`\n"
     ]
    }
   ],
   "source": [
    "sc.tl.pca(adata, svd_solver='arpack')\n",
    "sc.external.pp.bbknn(adata, batch_key='source')\n",
    "sc.tl.umap(adata)"
   ]
  },
  {
   "cell_type": "code",
   "execution_count": 50,
   "id": "ab64b6e5-e1c7-41ee-9fa8-832f08a43841",
   "metadata": {
    "collapsed": true,
    "execution": {
     "iopub.execute_input": "2025-08-18T02:40:55.222601Z",
     "iopub.status.busy": "2025-08-18T02:40:55.221798Z",
     "iopub.status.idle": "2025-08-18T02:40:55.293918Z",
     "shell.execute_reply": "2025-08-18T02:40:55.293075Z",
     "shell.execute_reply.started": "2025-08-18T02:40:55.222567Z"
    },
    "jupyter": {
     "outputs_hidden": true
    },
    "tags": []
   },
   "outputs": [
    {
     "name": "stdout",
     "output_type": "stream",
     "text": [
      "Variance contribution increased after integration!\n",
      "Setting PCR comparison score to 0.\n"
     ]
    },
    {
     "name": "stderr",
     "output_type": "stream",
     "text": [
      "/slurm/home/yrd/liaolab/caohaoxue/anaconda3/envs/my_env/lib/python3.13/site-packages/scanpy/preprocessing/_pca/__init__.py:438: FutureWarning: Argument `use_highly_variable` is deprecated, consider using the mask argument. Use_highly_variable=True can be called through mask_var=\"highly_variable\". Use_highly_variable=False can be called through mask_var=None\n",
      "  warn(msg, FutureWarning)\n",
      "/slurm/home/yrd/liaolab/caohaoxue/anaconda3/envs/my_env/lib/python3.13/site-packages/scanpy/preprocessing/_pca/__init__.py:438: FutureWarning: Argument `use_highly_variable` is deprecated, consider using the mask argument. Use_highly_variable=True can be called through mask_var=\"highly_variable\". Use_highly_variable=False can be called through mask_var=None\n",
      "  warn(msg, FutureWarning)\n",
      "/slurm/home/yrd/liaolab/caohaoxue/anaconda3/envs/my_env/lib/python3.13/site-packages/scanpy/preprocessing/_pca/__init__.py:438: FutureWarning: Argument `use_highly_variable` is deprecated, consider using the mask argument. Use_highly_variable=True can be called through mask_var=\"highly_variable\". Use_highly_variable=False can be called through mask_var=None\n",
      "  warn(msg, FutureWarning)\n",
      "/slurm/home/yrd/liaolab/caohaoxue/anaconda3/envs/my_env/lib/python3.13/site-packages/scanpy/preprocessing/_pca/__init__.py:438: FutureWarning: Argument `use_highly_variable` is deprecated, consider using the mask argument. Use_highly_variable=True can be called through mask_var=\"highly_variable\". Use_highly_variable=False can be called through mask_var=None\n",
      "  warn(msg, FutureWarning)\n",
      "/slurm/home/yrd/liaolab/caohaoxue/anaconda3/envs/my_env/lib/python3.13/site-packages/scanpy/preprocessing/_pca/__init__.py:438: FutureWarning: Argument `use_highly_variable` is deprecated, consider using the mask argument. Use_highly_variable=True can be called through mask_var=\"highly_variable\". Use_highly_variable=False can be called through mask_var=None\n",
      "  warn(msg, FutureWarning)\n"
     ]
    }
   ],
   "source": [
    "kbet_score_cyto = pcr_comparison(\n",
    "    adata_raw[adata_raw.obs.time.isin(['E12','E12-CytOrigin'])],\n",
    "    adata[adata.obs.time.isin(['E12','E12-CytOrigin'])],\n",
    "    embed=\"X_umap\",\n",
    "    covariate='time'\n",
    ")\n",
    "\n",
    "kbet_score_scde = pcr_comparison(\n",
    "    adata_raw[adata_raw.obs.time.isin(['E12','E12-scDesign3'])],\n",
    "    adata[adata.obs.time.isin(['E12','E12-scDesign3'])],\n",
    "    embed=\"X_umap\",\n",
    "    covariate='time'\n",
    ")\n",
    "\n",
    "kbet_score_scva = pcr_comparison(\n",
    "    adata_raw[adata_raw.obs.time.isin(['E12','E12-scVAEDer'])],\n",
    "    adata[adata.obs.time.isin(['E12','E12-scVAEDer'])],\n",
    "    embed=\"X_umap\",\n",
    "    covariate='time'\n",
    ")\n",
    "\n",
    "kbet_score_spla = pcr_comparison(\n",
    "    adata_raw[adata_raw.obs.time.isin(['E12','E12-Splatter'])],\n",
    "    adata[adata.obs.time.isin(['E12','E12-Splatter'])],\n",
    "    embed=\"X_umap\",\n",
    "    covariate='time'\n",
    ")\n",
    "\n",
    "kbet_score_simp = pcr_comparison(\n",
    "    adata_raw[adata_raw.obs.time.isin(['E12','E12-Splatter-Simple'])],\n",
    "    adata[adata.obs.time.isin(['E12','E12-Splatter-Simple'])],\n",
    "    embed=\"X_umap\",\n",
    "    covariate='time'\n",
    ")"
   ]
  },
  {
   "cell_type": "code",
   "execution_count": 53,
   "id": "2ae32fba-5460-4dd8-9987-8d41635a9f97",
   "metadata": {
    "execution": {
     "iopub.execute_input": "2025-08-18T02:45:53.395747Z",
     "iopub.status.busy": "2025-08-18T02:45:53.395149Z",
     "iopub.status.idle": "2025-08-18T02:45:53.434576Z",
     "shell.execute_reply": "2025-08-18T02:45:53.433799Z",
     "shell.execute_reply.started": "2025-08-18T02:45:53.395715Z"
    }
   },
   "outputs": [],
   "source": [
    "kbet = pd.DataFrame(data = [kbet_score_cyto,kbet_score_spla,kbet_score_simp,kbet_score_scde,kbet_score_scva],\n",
    "                   index = ['CytOrigin', 'Splatter', 'Splatter-Simple', 'scDesign3', 'scVAEDer'],\n",
    "                   columns = ['E12'])\n",
    "kbet.to_csv('/slurm/home/yrd/liaolab/caohaoxue/embryo_work/benchmark/E12_kbet.csv')"
   ]
  },
  {
   "cell_type": "code",
   "execution_count": 121,
   "id": "1ac94652-15d9-443b-a7f3-3896a2117fcf",
   "metadata": {
    "execution": {
     "iopub.execute_input": "2025-08-02T09:14:53.826229Z",
     "iopub.status.busy": "2025-08-02T09:14:53.825651Z",
     "iopub.status.idle": "2025-08-02T09:14:53.945945Z",
     "shell.execute_reply": "2025-08-02T09:14:53.945299Z",
     "shell.execute_reply.started": "2025-08-02T09:14:53.826198Z"
    },
    "tags": []
   },
   "outputs": [
    {
     "name": "stdout",
     "output_type": "stream",
     "text": [
      "mean silhouette per group:        silhouette_score\n",
      "group                  \n",
      "E12             0.80211\n",
      "mean silhouette per group:        silhouette_score\n",
      "group                  \n",
      "E12            0.785801\n",
      "mean silhouette per group:        silhouette_score\n",
      "group                  \n",
      "E12            0.631209\n",
      "mean silhouette per group:        silhouette_score\n",
      "group                  \n",
      "E12            0.363142\n",
      "mean silhouette per group:        silhouette_score\n",
      "group                  \n",
      "E12            0.200342\n"
     ]
    },
    {
     "name": "stderr",
     "output_type": "stream",
     "text": [
      "/slurm/home/yrd/liaolab/caohaoxue/anaconda3/envs/my_env/lib/python3.13/site-packages/IPython/core/interactiveshell.py:3667: FutureWarning: In function `silhouette_batch`, argument `group_key` was renamed to `label_key`.\n",
      "  exec(code_obj, self.user_global_ns, self.user_ns)\n",
      "/slurm/home/yrd/liaolab/caohaoxue/anaconda3/envs/my_env/lib/python3.13/site-packages/IPython/core/interactiveshell.py:3667: FutureWarning: In function `silhouette_batch`, argument `group_key` was renamed to `label_key`.\n",
      "  exec(code_obj, self.user_global_ns, self.user_ns)\n",
      "/slurm/home/yrd/liaolab/caohaoxue/anaconda3/envs/my_env/lib/python3.13/site-packages/IPython/core/interactiveshell.py:3667: FutureWarning: In function `silhouette_batch`, argument `group_key` was renamed to `label_key`.\n",
      "  exec(code_obj, self.user_global_ns, self.user_ns)\n",
      "/slurm/home/yrd/liaolab/caohaoxue/anaconda3/envs/my_env/lib/python3.13/site-packages/IPython/core/interactiveshell.py:3667: FutureWarning: In function `silhouette_batch`, argument `group_key` was renamed to `label_key`.\n",
      "  exec(code_obj, self.user_global_ns, self.user_ns)\n",
      "/slurm/home/yrd/liaolab/caohaoxue/anaconda3/envs/my_env/lib/python3.13/site-packages/IPython/core/interactiveshell.py:3667: FutureWarning: In function `silhouette_batch`, argument `group_key` was renamed to `label_key`.\n",
      "  exec(code_obj, self.user_global_ns, self.user_ns)\n"
     ]
    }
   ],
   "source": [
    "asw_score_cyto = silhouette_batch(\n",
    "    adata[adata.obs.time.isin(['E12','E12-CytOrigin'])],\n",
    "    batch_key=\"source\",\n",
    "    group_key=\"stage\",\n",
    "    embed=\"X_umap\",\n",
    "    metric=\"euclidean\"\n",
    ")\n",
    "\n",
    "asw_score_scde = silhouette_batch(\n",
    "    adata[adata.obs.time.isin(['E12','E12-scDesign3'])],\n",
    "    batch_key=\"source\",\n",
    "    group_key=\"stage\",\n",
    "    embed=\"X_umap\",\n",
    "    metric=\"euclidean\"\n",
    ")\n",
    "\n",
    "asw_score_scva = silhouette_batch(\n",
    "    adata[adata.obs.time.isin(['E12','E12-scVAEDer'])],\n",
    "    batch_key=\"source\",\n",
    "    group_key=\"stage\",\n",
    "    embed=\"X_umap\",\n",
    "    metric=\"euclidean\"\n",
    ")\n",
    "\n",
    "asw_score_spla = silhouette_batch(\n",
    "    adata[adata.obs.time.isin(['E12','E12-Splatter'])],\n",
    "    batch_key=\"source\",\n",
    "    group_key=\"stage\",\n",
    "    embed=\"X_umap\",\n",
    "    metric=\"euclidean\"\n",
    ")\n",
    "\n",
    "asw_score_simp = silhouette_batch(\n",
    "    adata[adata.obs.time.isin(['E12','E12-Splatter-Simple'])],\n",
    "    batch_key=\"source\",\n",
    "    group_key=\"stage\",\n",
    "    embed=\"X_umap\",\n",
    "    metric=\"euclidean\"\n",
    ")"
   ]
  },
  {
   "cell_type": "code",
   "execution_count": 127,
   "id": "1fde6f3b-915f-4c52-9516-ba869db0d1aa",
   "metadata": {
    "execution": {
     "iopub.execute_input": "2025-08-02T09:21:01.719510Z",
     "iopub.status.busy": "2025-08-02T09:21:01.719020Z",
     "iopub.status.idle": "2025-08-02T09:21:01.744433Z",
     "shell.execute_reply": "2025-08-02T09:21:01.743815Z",
     "shell.execute_reply.started": "2025-08-02T09:21:01.719480Z"
    },
    "tags": []
   },
   "outputs": [],
   "source": [
    "asw = pd.DataFrame(data = [asw_score_cyto,asw_score_spla,asw_score_simp,asw_score_scde,asw_score_scva],\n",
    "                   index = ['CytOrigin', 'Splatter', 'Splatter-Simple', 'scDesign3', 'scVAEDer'],\n",
    "                   columns = ['E12'])\n",
    "asw.to_csv('/slurm/home/yrd/liaolab/caohaoxue/embryo_work/benchmark/E12_asw.csv')"
   ]
  },
  {
   "cell_type": "markdown",
   "id": "70e35a13-1be9-4d7e-959a-d3cc86b9cf68",
   "metadata": {
    "execution": {
     "iopub.execute_input": "2025-07-31T08:36:09.820008Z",
     "iopub.status.busy": "2025-07-31T08:36:09.819425Z",
     "iopub.status.idle": "2025-07-31T08:36:09.825255Z",
     "shell.execute_reply": "2025-07-31T08:36:09.824608Z",
     "shell.execute_reply.started": "2025-07-31T08:36:09.819976Z"
    },
    "jp-MarkdownHeadingCollapsed": true,
    "tags": []
   },
   "source": [
    "# E14"
   ]
  },
  {
   "cell_type": "code",
   "execution_count": 55,
   "id": "647ed5e7-4f31-4a3b-bbd6-4f09f5df5b2a",
   "metadata": {
    "execution": {
     "iopub.execute_input": "2025-08-18T02:46:19.466661Z",
     "iopub.status.busy": "2025-08-18T02:46:19.466048Z",
     "iopub.status.idle": "2025-08-18T02:46:21.744706Z",
     "shell.execute_reply": "2025-08-18T02:46:21.744132Z",
     "shell.execute_reply.started": "2025-08-18T02:46:19.466629Z"
    },
    "tags": []
   },
   "outputs": [
    {
     "name": "stderr",
     "output_type": "stream",
     "text": [
      "/slurm/home/yrd/liaolab/caohaoxue/anaconda3/envs/my_env/lib/python3.13/site-packages/anndata/_core/anndata.py:1756: UserWarning: Observation names are not unique. To make them unique, call `.obs_names_make_unique`.\n",
      "  utils.warn_names_duplicates(\"obs\")\n"
     ]
    }
   ],
   "source": [
    "cyto = sc.read_h5ad('/slurm/home/yrd/liaolab/caohaoxue/embryo_work/benchmark/simulated_matrix/h5ad_format/E14f_CytO.h5ad')\n",
    "spla = sc.read_h5ad('/slurm/home/yrd/liaolab/caohaoxue/embryo_work/benchmark/simulated_matrix/h5ad_format/E14f_splatter.h5ad')\n",
    "simp = sc.read_h5ad('/slurm/home/yrd/liaolab/caohaoxue/embryo_work/benchmark/simulated_matrix/h5ad_format/E14f_splatter_simple.h5ad')\n",
    "scde = sc.read_h5ad('/slurm/home/yrd/liaolab/caohaoxue/embryo_work/benchmark/simulated_matrix/h5ad_format/E14f_scDesign3.h5ad')\n",
    "scva = sc.read_h5ad('/slurm/home/yrd/liaolab/caohaoxue/embryo_work/benchmark/simulated_matrix/h5ad_format/E14f_scVAEDer.h5ad')\n",
    "real = sc.read_h5ad('/slurm/home/yrd/liaolab/caohaoxue/embryo_work/data_standard/Zygote_to_CS7.h5ad')"
   ]
  },
  {
   "cell_type": "code",
   "execution_count": 56,
   "id": "1d92eaa7-6652-4f15-94a0-58a57edb307b",
   "metadata": {
    "execution": {
     "iopub.execute_input": "2025-08-18T02:46:29.441987Z",
     "iopub.status.busy": "2025-08-18T02:46:29.441391Z",
     "iopub.status.idle": "2025-08-18T02:46:29.482941Z",
     "shell.execute_reply": "2025-08-18T02:46:29.482254Z",
     "shell.execute_reply.started": "2025-08-18T02:46:29.441953Z"
    },
    "tags": []
   },
   "outputs": [],
   "source": [
    "real = real[real.obs.time == 'E14']\n",
    "real.var = real.var.rename(columns = {'x':'features'})\n",
    "real.var.index = real.var.features"
   ]
  },
  {
   "cell_type": "code",
   "execution_count": 61,
   "id": "f13d8130-fd2d-429a-a5f6-2b03d9c52d4d",
   "metadata": {
    "execution": {
     "iopub.execute_input": "2025-08-18T02:51:02.383408Z",
     "iopub.status.busy": "2025-08-18T02:51:02.382940Z",
     "iopub.status.idle": "2025-08-18T02:51:02.935754Z",
     "shell.execute_reply": "2025-08-18T02:51:02.934981Z",
     "shell.execute_reply.started": "2025-08-18T02:51:02.383375Z"
    },
    "tags": []
   },
   "outputs": [
    {
     "name": "stderr",
     "output_type": "stream",
     "text": [
      "/slurm/home/yrd/liaolab/caohaoxue/anaconda3/envs/my_env/lib/python3.13/site-packages/anndata/_core/anndata.py:1756: UserWarning: Observation names are not unique. To make them unique, call `.obs_names_make_unique`.\n",
      "  utils.warn_names_duplicates(\"obs\")\n",
      "/slurm/home/yrd/liaolab/caohaoxue/anaconda3/envs/my_env/lib/python3.13/site-packages/anndata/_core/anndata.py:1756: UserWarning: Observation names are not unique. To make them unique, call `.obs_names_make_unique`.\n",
      "  utils.warn_names_duplicates(\"obs\")\n",
      "/slurm/home/yrd/liaolab/caohaoxue/anaconda3/envs/my_env/lib/python3.13/site-packages/anndata/_core/anndata.py:1756: UserWarning: Observation names are not unique. To make them unique, call `.obs_names_make_unique`.\n",
      "  utils.warn_names_duplicates(\"obs\")\n"
     ]
    }
   ],
   "source": [
    "adata_int = sc.concat([cyto,scde,spla,simp,scva],\n",
    "                      join = 'outer',\n",
    "                      fill_value = 0)\n",
    "\n",
    "adata = sc.concat([real,adata_int],\n",
    "                 label = 'source',\n",
    "                 keys = ['real','simulated'],\n",
    "                 index_unique = '-')\n",
    "\n",
    "adata_raw = sc.concat([real,adata_int],\n",
    "                 label = 'source',\n",
    "                 keys = ['real','simulated'],\n",
    "                 index_unique = '-')"
   ]
  },
  {
   "cell_type": "code",
   "execution_count": 62,
   "id": "f6860464-e0f7-4dae-b04e-70d24b2c2ab9",
   "metadata": {
    "execution": {
     "iopub.execute_input": "2025-08-18T02:53:32.066950Z",
     "iopub.status.busy": "2025-08-18T02:53:32.066576Z",
     "iopub.status.idle": "2025-08-18T02:53:54.201611Z",
     "shell.execute_reply": "2025-08-18T02:53:54.200740Z",
     "shell.execute_reply.started": "2025-08-18T02:53:32.066927Z"
    },
    "tags": []
   },
   "outputs": [
    {
     "name": "stdout",
     "output_type": "stream",
     "text": [
      "WARNING: consider updating your call to make use of `computation`\n"
     ]
    },
    {
     "name": "stderr",
     "output_type": "stream",
     "text": [
      "/slurm/home/yrd/liaolab/caohaoxue/anaconda3/envs/my_env/lib/python3.13/site-packages/sklearn/manifold/_spectral_embedding.py:329: UserWarning: Graph is not fully connected, spectral embedding may not work as expected.\n",
      "  warnings.warn(\n"
     ]
    }
   ],
   "source": [
    "sc.tl.pca(adata, svd_solver='arpack')\n",
    "adata.obs['stage'] = 'E14'\n",
    "sc.external.pp.bbknn(adata, batch_key='source')\n",
    "sc.tl.umap(adata)\n",
    "\n",
    "sc.tl.pca(adata_raw, svd_solver='arpack')\n",
    "adata_raw.obs['stage'] = 'E14'\n",
    "sc.pp.neighbors(adata_raw)\n",
    "sc.tl.umap(adata_raw)"
   ]
  },
  {
   "cell_type": "code",
   "execution_count": 45,
   "id": "2f54556c-31b6-4222-a5f8-130cc8a94d4d",
   "metadata": {
    "execution": {
     "iopub.execute_input": "2025-08-02T09:31:07.711196Z",
     "iopub.status.busy": "2025-08-02T09:31:07.710583Z",
     "iopub.status.idle": "2025-08-02T09:31:07.921829Z",
     "shell.execute_reply": "2025-08-02T09:31:07.921444Z",
     "shell.execute_reply.started": "2025-08-02T09:31:07.711166Z"
    },
    "tags": []
   },
   "outputs": [
    {
     "name": "stdout",
     "output_type": "stream",
     "text": [
      "mean silhouette per group:        silhouette_score\n",
      "group                  \n",
      "E14            0.826259\n",
      "mean silhouette per group:        silhouette_score\n",
      "group                  \n",
      "E14            0.733383\n",
      "mean silhouette per group:        silhouette_score\n",
      "group                  \n",
      "E14            0.577555\n",
      "mean silhouette per group:        silhouette_score\n",
      "group                  \n",
      "E14             0.29796\n",
      "mean silhouette per group:        silhouette_score\n",
      "group                  \n",
      "E14            0.184581\n"
     ]
    },
    {
     "name": "stderr",
     "output_type": "stream",
     "text": [
      "/slurm/home/yrd/liaolab/caohaoxue/anaconda3/envs/my_env/lib/python3.13/site-packages/IPython/core/interactiveshell.py:3667: FutureWarning: In function `silhouette_batch`, argument `group_key` was renamed to `label_key`.\n",
      "  exec(code_obj, self.user_global_ns, self.user_ns)\n",
      "/slurm/home/yrd/liaolab/caohaoxue/anaconda3/envs/my_env/lib/python3.13/site-packages/IPython/core/interactiveshell.py:3667: FutureWarning: In function `silhouette_batch`, argument `group_key` was renamed to `label_key`.\n",
      "  exec(code_obj, self.user_global_ns, self.user_ns)\n",
      "/slurm/home/yrd/liaolab/caohaoxue/anaconda3/envs/my_env/lib/python3.13/site-packages/IPython/core/interactiveshell.py:3667: FutureWarning: In function `silhouette_batch`, argument `group_key` was renamed to `label_key`.\n",
      "  exec(code_obj, self.user_global_ns, self.user_ns)\n",
      "/slurm/home/yrd/liaolab/caohaoxue/anaconda3/envs/my_env/lib/python3.13/site-packages/IPython/core/interactiveshell.py:3667: FutureWarning: In function `silhouette_batch`, argument `group_key` was renamed to `label_key`.\n",
      "  exec(code_obj, self.user_global_ns, self.user_ns)\n",
      "/slurm/home/yrd/liaolab/caohaoxue/anaconda3/envs/my_env/lib/python3.13/site-packages/IPython/core/interactiveshell.py:3667: FutureWarning: In function `silhouette_batch`, argument `group_key` was renamed to `label_key`.\n",
      "  exec(code_obj, self.user_global_ns, self.user_ns)\n"
     ]
    }
   ],
   "source": [
    "asw_score_cyto = silhouette_batch(\n",
    "    adata[adata.obs.time.isin(['E14','E14-CytOrigin'])],\n",
    "    batch_key=\"source\",\n",
    "    group_key=\"stage\",\n",
    "    embed=\"X_umap\",\n",
    "    metric=\"euclidean\"\n",
    ")\n",
    "\n",
    "asw_score_scde = silhouette_batch(\n",
    "    adata[adata.obs.time.isin(['E14','E14-scDesign3'])],\n",
    "    batch_key=\"source\",\n",
    "    group_key=\"stage\",\n",
    "    embed=\"X_umap\",\n",
    "    metric=\"euclidean\"\n",
    ")\n",
    "\n",
    "asw_score_scva = silhouette_batch(\n",
    "    adata[adata.obs.time.isin(['E14','E14-scVAEDer'])],\n",
    "    batch_key=\"source\",\n",
    "    group_key=\"stage\",\n",
    "    embed=\"X_umap\",\n",
    "    metric=\"euclidean\"\n",
    ")\n",
    "\n",
    "asw_score_spla = silhouette_batch(\n",
    "    adata[adata.obs.time.isin(['E14','E14-Splatter'])],\n",
    "    batch_key=\"source\",\n",
    "    group_key=\"stage\",\n",
    "    embed=\"X_umap\",\n",
    "    metric=\"euclidean\"\n",
    ")\n",
    "\n",
    "asw_score_simp = silhouette_batch(\n",
    "    adata[adata.obs.time.isin(['E14','E14-Splatter-Simple'])],\n",
    "    batch_key=\"source\",\n",
    "    group_key=\"stage\",\n",
    "    embed=\"X_umap\",\n",
    "    metric=\"euclidean\"\n",
    ")\n"
   ]
  },
  {
   "cell_type": "code",
   "execution_count": 46,
   "id": "17d2ad0f-744b-4617-b96c-f769edd0325b",
   "metadata": {
    "execution": {
     "iopub.execute_input": "2025-08-02T09:31:26.816091Z",
     "iopub.status.busy": "2025-08-02T09:31:26.815837Z",
     "iopub.status.idle": "2025-08-02T09:31:26.833642Z",
     "shell.execute_reply": "2025-08-02T09:31:26.833319Z",
     "shell.execute_reply.started": "2025-08-02T09:31:26.816076Z"
    }
   },
   "outputs": [],
   "source": [
    "asw = pd.DataFrame(data = [asw_score_cyto,asw_score_spla,asw_score_simp,asw_score_scde,asw_score_scva],\n",
    "                   index = ['CytOrigin', 'Splatter', 'Splatter-Simple', 'scDesign3', 'scVAEDer'],\n",
    "                   columns = ['E14'])\n",
    "asw.to_csv('/slurm/home/yrd/liaolab/caohaoxue/embryo_work/benchmark/E14_asw.csv')"
   ]
  },
  {
   "cell_type": "code",
   "execution_count": 63,
   "id": "54092f5b-b249-4bea-9f80-1b14b5240829",
   "metadata": {
    "execution": {
     "iopub.execute_input": "2025-08-18T02:56:22.331077Z",
     "iopub.status.busy": "2025-08-18T02:56:22.330446Z",
     "iopub.status.idle": "2025-08-18T02:56:22.408184Z",
     "shell.execute_reply": "2025-08-18T02:56:22.407351Z",
     "shell.execute_reply.started": "2025-08-18T02:56:22.331044Z"
    }
   },
   "outputs": [
    {
     "name": "stderr",
     "output_type": "stream",
     "text": [
      "/slurm/home/yrd/liaolab/caohaoxue/anaconda3/envs/my_env/lib/python3.13/site-packages/scanpy/preprocessing/_pca/__init__.py:438: FutureWarning: Argument `use_highly_variable` is deprecated, consider using the mask argument. Use_highly_variable=True can be called through mask_var=\"highly_variable\". Use_highly_variable=False can be called through mask_var=None\n",
      "  warn(msg, FutureWarning)\n",
      "/slurm/home/yrd/liaolab/caohaoxue/anaconda3/envs/my_env/lib/python3.13/site-packages/scanpy/preprocessing/_pca/__init__.py:438: FutureWarning: Argument `use_highly_variable` is deprecated, consider using the mask argument. Use_highly_variable=True can be called through mask_var=\"highly_variable\". Use_highly_variable=False can be called through mask_var=None\n",
      "  warn(msg, FutureWarning)\n",
      "/slurm/home/yrd/liaolab/caohaoxue/anaconda3/envs/my_env/lib/python3.13/site-packages/scanpy/preprocessing/_pca/__init__.py:438: FutureWarning: Argument `use_highly_variable` is deprecated, consider using the mask argument. Use_highly_variable=True can be called through mask_var=\"highly_variable\". Use_highly_variable=False can be called through mask_var=None\n",
      "  warn(msg, FutureWarning)\n",
      "/slurm/home/yrd/liaolab/caohaoxue/anaconda3/envs/my_env/lib/python3.13/site-packages/scanpy/preprocessing/_pca/__init__.py:438: FutureWarning: Argument `use_highly_variable` is deprecated, consider using the mask argument. Use_highly_variable=True can be called through mask_var=\"highly_variable\". Use_highly_variable=False can be called through mask_var=None\n",
      "  warn(msg, FutureWarning)\n",
      "/slurm/home/yrd/liaolab/caohaoxue/anaconda3/envs/my_env/lib/python3.13/site-packages/scanpy/preprocessing/_pca/__init__.py:438: FutureWarning: Argument `use_highly_variable` is deprecated, consider using the mask argument. Use_highly_variable=True can be called through mask_var=\"highly_variable\". Use_highly_variable=False can be called through mask_var=None\n",
      "  warn(msg, FutureWarning)\n"
     ]
    }
   ],
   "source": [
    "kbet_score_cyto = pcr_comparison(\n",
    "    adata_raw[adata_raw.obs.time.isin(['E14','E14-CytOrigin'])],\n",
    "    adata[adata.obs.time.isin(['E14','E14-CytOrigin'])],\n",
    "    embed=\"X_umap\",\n",
    "    covariate='time'\n",
    ")\n",
    "\n",
    "kbet_score_scde = pcr_comparison(\n",
    "    adata_raw[adata_raw.obs.time.isin(['E14','E14-scDesign3'])],\n",
    "    adata[adata.obs.time.isin(['E14','E14-scDesign3'])],\n",
    "    embed=\"X_umap\",\n",
    "    covariate='time'\n",
    ")\n",
    "\n",
    "kbet_score_scva = pcr_comparison(\n",
    "    adata_raw[adata_raw.obs.time.isin(['E14','E14-scVAEDer'])],\n",
    "    adata[adata.obs.time.isin(['E14','E14-scVAEDer'])],\n",
    "    embed=\"X_umap\",\n",
    "    covariate='time'\n",
    ")\n",
    "\n",
    "kbet_score_spla = pcr_comparison(\n",
    "    adata_raw[adata_raw.obs.time.isin(['E14','E14-Splatter'])],\n",
    "    adata[adata.obs.time.isin(['E14','E14-Splatter'])],\n",
    "    embed=\"X_umap\",\n",
    "    covariate='time'\n",
    ")\n",
    "\n",
    "kbet_score_simp = pcr_comparison(\n",
    "    adata_raw[adata_raw.obs.time.isin(['E14','E14-Splatter-Simple'])],\n",
    "    adata[adata.obs.time.isin(['E14','E14-Splatter-Simple'])],\n",
    "    embed=\"X_umap\",\n",
    "    covariate='time'\n",
    ")"
   ]
  },
  {
   "cell_type": "code",
   "execution_count": 64,
   "id": "a91a46fb-aa0c-400d-9181-651b0c46fe4c",
   "metadata": {
    "execution": {
     "iopub.execute_input": "2025-08-18T02:56:50.561885Z",
     "iopub.status.busy": "2025-08-18T02:56:50.561136Z",
     "iopub.status.idle": "2025-08-18T02:56:50.568090Z",
     "shell.execute_reply": "2025-08-18T02:56:50.567440Z",
     "shell.execute_reply.started": "2025-08-18T02:56:50.561852Z"
    }
   },
   "outputs": [],
   "source": [
    "kbet = pd.DataFrame(data = [kbet_score_cyto,kbet_score_spla,kbet_score_simp,kbet_score_scde,kbet_score_scva],\n",
    "                   index = ['CytOrigin', 'Splatter', 'Splatter-Simple', 'scDesign3', 'scVAEDer'],\n",
    "                   columns = ['E14'])\n",
    "kbet.to_csv('/slurm/home/yrd/liaolab/caohaoxue/embryo_work/benchmark/E14_kbet.csv')"
   ]
  },
  {
   "cell_type": "markdown",
   "id": "dec31691-2027-43ec-a61c-e5e414d8eee1",
   "metadata": {},
   "source": [
    "# CS10"
   ]
  },
  {
   "cell_type": "code",
   "execution_count": 12,
   "id": "4442779a-a326-4c27-8387-204ed9ab6c06",
   "metadata": {
    "execution": {
     "iopub.execute_input": "2025-08-18T09:25:43.158899Z",
     "iopub.status.busy": "2025-08-18T09:25:43.158431Z",
     "iopub.status.idle": "2025-08-18T09:26:27.534207Z",
     "shell.execute_reply": "2025-08-18T09:26:27.533491Z",
     "shell.execute_reply.started": "2025-08-18T09:25:43.158866Z"
    },
    "tags": []
   },
   "outputs": [
    {
     "name": "stderr",
     "output_type": "stream",
     "text": [
      "/slurm/home/yrd/liaolab/caohaoxue/anaconda3/envs/my_env/lib/python3.13/site-packages/anndata/_core/anndata.py:1756: UserWarning: Observation names are not unique. To make them unique, call `.obs_names_make_unique`.\n",
      "  utils.warn_names_duplicates(\"obs\")\n"
     ]
    }
   ],
   "source": [
    "cyto = sc.read_h5ad('/slurm/home/yrd/liaolab/caohaoxue/embryo_work/benchmark/simulated_matrix/h5ad_format/CS10f_CytO.h5ad')\n",
    "spla = sc.read_h5ad('/slurm/home/yrd/liaolab/caohaoxue/embryo_work/benchmark/simulated_matrix/h5ad_format/CS10f_splatter.h5ad')\n",
    "simp = sc.read_h5ad('/slurm/home/yrd/liaolab/caohaoxue/embryo_work/benchmark/simulated_matrix/h5ad_format/CS10f_splatter_simple.h5ad')\n",
    "scde = sc.read_h5ad('/slurm/home/yrd/liaolab/caohaoxue/embryo_work/benchmark/simulated_matrix/h5ad_format/CS10f_scDesign3.h5ad')\n",
    "scva = sc.read_h5ad('/slurm/home/yrd/liaolab/caohaoxue/embryo_work/benchmark/simulated_matrix/h5ad_format/CS10f_scVAEDer.h5ad')\n",
    "real = sc.read_h5ad('/slurm/home/yrd/liaolab/caohaoxue/embryo_work/data_standard/CS10.h5ad')"
   ]
  },
  {
   "cell_type": "code",
   "execution_count": 13,
   "id": "839110f9-c16a-47cf-96f9-e33b8c580c47",
   "metadata": {
    "execution": {
     "iopub.execute_input": "2025-08-18T09:26:27.535409Z",
     "iopub.status.busy": "2025-08-18T09:26:27.535245Z",
     "iopub.status.idle": "2025-08-18T09:26:27.541238Z",
     "shell.execute_reply": "2025-08-18T09:26:27.540557Z",
     "shell.execute_reply.started": "2025-08-18T09:26:27.535392Z"
    },
    "tags": []
   },
   "outputs": [],
   "source": [
    "real.var = real.var.rename(columns = {'x':'features'})\n",
    "real.var.index = real.var.features\n",
    "real.obs['time'] = 'CS10'"
   ]
  },
  {
   "cell_type": "code",
   "execution_count": 14,
   "id": "7550febb-f63a-4112-8818-3baadd779fdc",
   "metadata": {
    "execution": {
     "iopub.execute_input": "2025-08-18T09:26:27.542356Z",
     "iopub.status.busy": "2025-08-18T09:26:27.542065Z",
     "iopub.status.idle": "2025-08-18T09:30:36.594786Z",
     "shell.execute_reply": "2025-08-18T09:30:36.594079Z",
     "shell.execute_reply.started": "2025-08-18T09:26:27.542325Z"
    },
    "tags": []
   },
   "outputs": [
    {
     "name": "stderr",
     "output_type": "stream",
     "text": [
      "/slurm/home/yrd/liaolab/caohaoxue/anaconda3/envs/my_env/lib/python3.13/site-packages/anndata/_core/anndata.py:1756: UserWarning: Observation names are not unique. To make them unique, call `.obs_names_make_unique`.\n",
      "  utils.warn_names_duplicates(\"obs\")\n",
      "/slurm/home/yrd/liaolab/caohaoxue/anaconda3/envs/my_env/lib/python3.13/site-packages/anndata/_core/anndata.py:1756: UserWarning: Observation names are not unique. To make them unique, call `.obs_names_make_unique`.\n",
      "  utils.warn_names_duplicates(\"obs\")\n",
      "/slurm/home/yrd/liaolab/caohaoxue/anaconda3/envs/my_env/lib/python3.13/site-packages/anndata/_core/anndata.py:1756: UserWarning: Observation names are not unique. To make them unique, call `.obs_names_make_unique`.\n",
      "  utils.warn_names_duplicates(\"obs\")\n"
     ]
    },
    {
     "name": "stdout",
     "output_type": "stream",
     "text": [
      "WARNING: consider updating your call to make use of `computation`\n"
     ]
    },
    {
     "name": "stderr",
     "output_type": "stream",
     "text": [
      "/slurm/home/yrd/liaolab/caohaoxue/anaconda3/envs/my_env/lib/python3.13/site-packages/sklearn/manifold/_spectral_embedding.py:329: UserWarning: Graph is not fully connected, spectral embedding may not work as expected.\n",
      "  warnings.warn(\n",
      "/slurm/home/yrd/liaolab/caohaoxue/anaconda3/envs/my_env/lib/python3.13/site-packages/sklearn/manifold/_spectral_embedding.py:329: UserWarning: Graph is not fully connected, spectral embedding may not work as expected.\n",
      "  warnings.warn(\n"
     ]
    }
   ],
   "source": [
    "adata_int = sc.concat([cyto,scva,spla,simp,scde], join = 'outer', fill_value = 0)\n",
    "\n",
    "adata = sc.concat([real,adata_int], label = 'source', keys = ['real','simulated'], index_unique = '-')\n",
    "adata_raw = sc.concat([real,adata_int],label = 'source',keys = ['real','simulated'],index_unique = '-')\n",
    "\n",
    "sc.tl.pca(adata, svd_solver='arpack')\n",
    "adata.obs['stage'] = 'CS10'\n",
    "sc.external.pp.bbknn(adata, batch_key='source')\n",
    "sc.tl.umap(adata)\n",
    "sc.tl.embedding_density(adata,groupby='time')\n",
    "\n",
    "sc.tl.pca(adata_raw, svd_solver='arpack')\n",
    "adata_raw.obs['stage'] = 'CS10'\n",
    "sc.pp.neighbors(adata_raw)\n",
    "sc.tl.umap(adata_raw)"
   ]
  },
  {
   "cell_type": "code",
   "execution_count": 18,
   "id": "1a588c0b-52e5-481c-a16d-a1a061de91f4",
   "metadata": {
    "execution": {
     "iopub.execute_input": "2025-08-02T15:31:17.778221Z",
     "iopub.status.busy": "2025-08-02T15:31:17.778046Z",
     "iopub.status.idle": "2025-08-02T15:32:35.909660Z",
     "shell.execute_reply": "2025-08-02T15:32:35.909073Z",
     "shell.execute_reply.started": "2025-08-02T15:31:17.778206Z"
    },
    "tags": []
   },
   "outputs": [
    {
     "name": "stderr",
     "output_type": "stream",
     "text": [
      "/slurm/home/yrd/liaolab/caohaoxue/anaconda3/envs/my_env/lib/python3.13/site-packages/IPython/core/interactiveshell.py:3667: FutureWarning: In function `silhouette_batch`, argument `group_key` was renamed to `label_key`.\n",
      "  exec(code_obj, self.user_global_ns, self.user_ns)\n"
     ]
    },
    {
     "name": "stdout",
     "output_type": "stream",
     "text": [
      "mean silhouette per group:        silhouette_score\n",
      "group                  \n",
      "CS10           0.638413\n"
     ]
    },
    {
     "name": "stderr",
     "output_type": "stream",
     "text": [
      "/slurm/home/yrd/liaolab/caohaoxue/anaconda3/envs/my_env/lib/python3.13/site-packages/IPython/core/interactiveshell.py:3667: FutureWarning: In function `silhouette_batch`, argument `group_key` was renamed to `label_key`.\n",
      "  exec(code_obj, self.user_global_ns, self.user_ns)\n"
     ]
    },
    {
     "name": "stdout",
     "output_type": "stream",
     "text": [
      "mean silhouette per group:        silhouette_score\n",
      "group                  \n",
      "CS10           0.481616\n"
     ]
    },
    {
     "name": "stderr",
     "output_type": "stream",
     "text": [
      "/slurm/home/yrd/liaolab/caohaoxue/anaconda3/envs/my_env/lib/python3.13/site-packages/IPython/core/interactiveshell.py:3667: FutureWarning: In function `silhouette_batch`, argument `group_key` was renamed to `label_key`.\n",
      "  exec(code_obj, self.user_global_ns, self.user_ns)\n"
     ]
    },
    {
     "name": "stdout",
     "output_type": "stream",
     "text": [
      "mean silhouette per group:        silhouette_score\n",
      "group                  \n",
      "CS10            0.37638\n"
     ]
    },
    {
     "name": "stderr",
     "output_type": "stream",
     "text": [
      "/slurm/home/yrd/liaolab/caohaoxue/anaconda3/envs/my_env/lib/python3.13/site-packages/IPython/core/interactiveshell.py:3667: FutureWarning: In function `silhouette_batch`, argument `group_key` was renamed to `label_key`.\n",
      "  exec(code_obj, self.user_global_ns, self.user_ns)\n"
     ]
    },
    {
     "name": "stdout",
     "output_type": "stream",
     "text": [
      "mean silhouette per group:        silhouette_score\n",
      "group                  \n",
      "CS10           0.566478\n"
     ]
    },
    {
     "name": "stderr",
     "output_type": "stream",
     "text": [
      "/slurm/home/yrd/liaolab/caohaoxue/anaconda3/envs/my_env/lib/python3.13/site-packages/IPython/core/interactiveshell.py:3667: FutureWarning: In function `silhouette_batch`, argument `group_key` was renamed to `label_key`.\n",
      "  exec(code_obj, self.user_global_ns, self.user_ns)\n"
     ]
    },
    {
     "name": "stdout",
     "output_type": "stream",
     "text": [
      "mean silhouette per group:        silhouette_score\n",
      "group                  \n",
      "CS10           0.309528\n"
     ]
    }
   ],
   "source": [
    "asw_score_cyto = silhouette_batch(\n",
    "    adata[adata.obs.time.isin(['CS10','CS10-CytOrigin'])],\n",
    "    batch_key=\"source\",\n",
    "    group_key=\"stage\",\n",
    "    embed=\"X_umap\",\n",
    "    metric=\"euclidean\"\n",
    ")\n",
    "\n",
    "asw_score_scde = silhouette_batch(\n",
    "    adata[adata.obs.time.isin(['CS10','CS10-scDesign3'])],\n",
    "    batch_key=\"source\",\n",
    "    group_key=\"stage\",\n",
    "    embed=\"X_umap\",\n",
    "    metric=\"euclidean\"\n",
    ")\n",
    "\n",
    "asw_score_scva = silhouette_batch(\n",
    "    adata[adata.obs.time.isin(['CS10','CS10-scVAEDer'])],\n",
    "    batch_key=\"source\",\n",
    "    group_key=\"stage\",\n",
    "    embed=\"X_umap\",\n",
    "    metric=\"euclidean\"\n",
    ")\n",
    "\n",
    "asw_score_spla = silhouette_batch(\n",
    "    adata[adata.obs.time.isin(['CS10','CS10-Splatter'])],\n",
    "    batch_key=\"source\",\n",
    "    group_key=\"stage\",\n",
    "    embed=\"X_umap\",\n",
    "    metric=\"euclidean\"\n",
    ")\n",
    "\n",
    "asw_score_simp = silhouette_batch(\n",
    "    adata[adata.obs.time.isin(['CS10','CS10-Splatter-Simple'])],\n",
    "    batch_key=\"source\",\n",
    "    group_key=\"stage\",\n",
    "    embed=\"X_umap\",\n",
    "    metric=\"euclidean\"\n",
    ")"
   ]
  },
  {
   "cell_type": "code",
   "execution_count": 26,
   "id": "78529561-f763-447a-8534-d1f5b7967c2b",
   "metadata": {
    "execution": {
     "iopub.execute_input": "2025-08-02T15:35:57.267479Z",
     "iopub.status.busy": "2025-08-02T15:35:57.266778Z",
     "iopub.status.idle": "2025-08-02T15:35:57.312395Z",
     "shell.execute_reply": "2025-08-02T15:35:57.311761Z",
     "shell.execute_reply.started": "2025-08-02T15:35:57.267444Z"
    }
   },
   "outputs": [],
   "source": [
    "asw = pd.DataFrame(data = [asw_score_cyto,asw_score_spla,asw_score_simp,asw_score_scde,asw_score_scva],\n",
    "                   index = ['CytOrigin', 'Splatter', 'Splatter-Simple', 'scDesign3', 'scVAEDer'],\n",
    "                   columns = ['CS10'])\n",
    "asw.to_csv('/slurm/home/yrd/liaolab/caohaoxue/embryo_work/benchmark/CS10_asw.csv')"
   ]
  },
  {
   "cell_type": "code",
   "execution_count": 15,
   "id": "6e47e558-0ff0-4e57-86c6-7205ab419d89",
   "metadata": {
    "execution": {
     "iopub.execute_input": "2025-08-18T09:30:36.596367Z",
     "iopub.status.busy": "2025-08-18T09:30:36.596127Z",
     "iopub.status.idle": "2025-08-18T09:30:36.907505Z",
     "shell.execute_reply": "2025-08-18T09:30:36.907157Z",
     "shell.execute_reply.started": "2025-08-18T09:30:36.596349Z"
    },
    "tags": []
   },
   "outputs": [
    {
     "name": "stderr",
     "output_type": "stream",
     "text": [
      "/slurm/home/yrd/liaolab/caohaoxue/anaconda3/envs/my_env/lib/python3.13/site-packages/scanpy/preprocessing/_pca/__init__.py:438: FutureWarning: Argument `use_highly_variable` is deprecated, consider using the mask argument. Use_highly_variable=True can be called through mask_var=\"highly_variable\". Use_highly_variable=False can be called through mask_var=None\n",
      "  warn(msg, FutureWarning)\n",
      "/slurm/home/yrd/liaolab/caohaoxue/anaconda3/envs/my_env/lib/python3.13/site-packages/scanpy/preprocessing/_pca/__init__.py:438: FutureWarning: Argument `use_highly_variable` is deprecated, consider using the mask argument. Use_highly_variable=True can be called through mask_var=\"highly_variable\". Use_highly_variable=False can be called through mask_var=None\n",
      "  warn(msg, FutureWarning)\n",
      "/slurm/home/yrd/liaolab/caohaoxue/anaconda3/envs/my_env/lib/python3.13/site-packages/scanpy/preprocessing/_pca/__init__.py:438: FutureWarning: Argument `use_highly_variable` is deprecated, consider using the mask argument. Use_highly_variable=True can be called through mask_var=\"highly_variable\". Use_highly_variable=False can be called through mask_var=None\n",
      "  warn(msg, FutureWarning)\n",
      "/slurm/home/yrd/liaolab/caohaoxue/anaconda3/envs/my_env/lib/python3.13/site-packages/scanpy/preprocessing/_pca/__init__.py:438: FutureWarning: Argument `use_highly_variable` is deprecated, consider using the mask argument. Use_highly_variable=True can be called through mask_var=\"highly_variable\". Use_highly_variable=False can be called through mask_var=None\n",
      "  warn(msg, FutureWarning)\n"
     ]
    },
    {
     "name": "stdout",
     "output_type": "stream",
     "text": [
      "Variance contribution increased after integration!\n",
      "Setting PCR comparison score to 0.\n"
     ]
    },
    {
     "name": "stderr",
     "output_type": "stream",
     "text": [
      "/slurm/home/yrd/liaolab/caohaoxue/anaconda3/envs/my_env/lib/python3.13/site-packages/scanpy/preprocessing/_pca/__init__.py:438: FutureWarning: Argument `use_highly_variable` is deprecated, consider using the mask argument. Use_highly_variable=True can be called through mask_var=\"highly_variable\". Use_highly_variable=False can be called through mask_var=None\n",
      "  warn(msg, FutureWarning)\n"
     ]
    }
   ],
   "source": [
    "kbet_score_cyto = pcr_comparison(\n",
    "    adata_raw[adata_raw.obs.time.isin(['CS10','CS10-CytOrigin'])],\n",
    "    adata[adata.obs.time.isin(['CS10','CS10-CytOrigin'])],\n",
    "    embed=\"X_umap\",\n",
    "    covariate='time'\n",
    ")\n",
    "\n",
    "kbet_score_scde = pcr_comparison(\n",
    "    adata_raw[adata_raw.obs.time.isin(['CS10','CS10-scDesign3'])],\n",
    "    adata[adata.obs.time.isin(['CS10','CS10-scDesign3'])],\n",
    "    embed=\"X_umap\",\n",
    "    covariate='time'\n",
    ")\n",
    "\n",
    "kbet_score_scva = pcr_comparison(\n",
    "    adata_raw[adata_raw.obs.time.isin(['CS10','CS10-scVAEDer'])],\n",
    "    adata[adata.obs.time.isin(['CS10','CS10-scVAEDer'])],\n",
    "    embed=\"X_umap\",\n",
    "    covariate='time'\n",
    ")\n",
    "\n",
    "kbet_score_spla = pcr_comparison(\n",
    "    adata_raw[adata_raw.obs.time.isin(['CS10','CS10-Splatter'])],\n",
    "    adata[adata.obs.time.isin(['CS10','CS10-Splatter'])],\n",
    "    embed=\"X_umap\",\n",
    "    covariate='time'\n",
    ")\n",
    "\n",
    "kbet_score_simp = pcr_comparison(\n",
    "    adata_raw[adata_raw.obs.time.isin(['CS10','CS10-Splatter-Simple'])],\n",
    "    adata[adata.obs.time.isin(['CS10','CS10-Splatter-Simple'])],\n",
    "    embed=\"X_umap\",\n",
    "    covariate='time'\n",
    ")"
   ]
  },
  {
   "cell_type": "code",
   "execution_count": 16,
   "id": "15bf926e-9156-4227-9e55-10c70bf78938",
   "metadata": {
    "execution": {
     "iopub.execute_input": "2025-08-18T09:30:36.908170Z",
     "iopub.status.busy": "2025-08-18T09:30:36.907952Z",
     "iopub.status.idle": "2025-08-18T09:30:36.914740Z",
     "shell.execute_reply": "2025-08-18T09:30:36.914250Z",
     "shell.execute_reply.started": "2025-08-18T09:30:36.908155Z"
    }
   },
   "outputs": [],
   "source": [
    "kbet = pd.DataFrame(data = [kbet_score_cyto,kbet_score_spla,kbet_score_simp,kbet_score_scde,kbet_score_scva],\n",
    "                   index = ['CytOrigin', 'Splatter', 'Splatter-Simple', 'scDesign3', 'scVAEDer'],\n",
    "                   columns = ['CS10'])\n",
    "kbet.to_csv('/slurm/home/yrd/liaolab/caohaoxue/embryo_work/benchmark/CS10_kbet.csv')"
   ]
  },
  {
   "cell_type": "markdown",
   "id": "1d5675c3-d87e-475a-b59c-e96ad4a832d0",
   "metadata": {},
   "source": [
    "# CS11"
   ]
  },
  {
   "cell_type": "code",
   "execution_count": 4,
   "id": "cc06889a-a4fe-444c-9961-9fc2b3da339e",
   "metadata": {
    "execution": {
     "iopub.execute_input": "2025-08-18T09:13:47.458357Z",
     "iopub.status.busy": "2025-08-18T09:13:47.457840Z",
     "iopub.status.idle": "2025-08-18T09:14:06.415625Z",
     "shell.execute_reply": "2025-08-18T09:14:06.414968Z",
     "shell.execute_reply.started": "2025-08-18T09:13:47.458324Z"
    },
    "tags": []
   },
   "outputs": [],
   "source": [
    "cyto = sc.read_h5ad('/slurm/home/yrd/liaolab/caohaoxue/embryo_work/benchmark/simulated_matrix/h5ad_format/CS11f_CytO.h5ad')\n",
    "spla = sc.read_h5ad('/slurm/home/yrd/liaolab/caohaoxue/embryo_work/benchmark/simulated_matrix/h5ad_format/CS11f_splatter.h5ad')\n",
    "simp = sc.read_h5ad('/slurm/home/yrd/liaolab/caohaoxue/embryo_work/benchmark/simulated_matrix/h5ad_format/CS11f_splatter_simple.h5ad')\n",
    "scde = sc.read_h5ad('/slurm/home/yrd/liaolab/caohaoxue/embryo_work/benchmark/simulated_matrix/h5ad_format/CS11f_scDesign3.h5ad')\n",
    "scva = sc.read_h5ad('/slurm/home/yrd/liaolab/caohaoxue/embryo_work/benchmark/simulated_matrix/h5ad_format/CS11f_scVAEDer.h5ad')\n",
    "real = sc.read_h5ad('/slurm/home/yrd/liaolab/caohaoxue/embryo_work/data_standard/CS11.h5ad')"
   ]
  },
  {
   "cell_type": "code",
   "execution_count": 6,
   "id": "e962c4c0-5cef-4ad4-a5a2-306dd866a06c",
   "metadata": {
    "execution": {
     "iopub.execute_input": "2025-08-18T09:17:35.866298Z",
     "iopub.status.busy": "2025-08-18T09:17:35.860620Z",
     "iopub.status.idle": "2025-08-18T09:22:49.684454Z",
     "shell.execute_reply": "2025-08-18T09:22:49.683635Z",
     "shell.execute_reply.started": "2025-08-18T09:17:35.866262Z"
    },
    "tags": []
   },
   "outputs": [
    {
     "name": "stderr",
     "output_type": "stream",
     "text": [
      "/slurm/home/yrd/liaolab/caohaoxue/anaconda3/envs/my_env/lib/python3.13/site-packages/anndata/_core/anndata.py:1756: UserWarning: Observation names are not unique. To make them unique, call `.obs_names_make_unique`.\n",
      "  utils.warn_names_duplicates(\"obs\")\n",
      "/slurm/home/yrd/liaolab/caohaoxue/anaconda3/envs/my_env/lib/python3.13/site-packages/anndata/_core/merge.py:1349: FutureWarning: The behavior of DataFrame concatenation with empty or all-NA entries is deprecated. In a future version, this will no longer exclude empty or all-NA columns when determining the result dtypes. To retain the old behavior, exclude the relevant entries before the concat operation.\n",
      "  concat_annot = pd.concat(\n",
      "/slurm/home/yrd/liaolab/caohaoxue/anaconda3/envs/my_env/lib/python3.13/site-packages/anndata/_core/anndata.py:1756: UserWarning: Observation names are not unique. To make them unique, call `.obs_names_make_unique`.\n",
      "  utils.warn_names_duplicates(\"obs\")\n",
      "/slurm/home/yrd/liaolab/caohaoxue/anaconda3/envs/my_env/lib/python3.13/site-packages/anndata/_core/merge.py:1349: FutureWarning: The behavior of DataFrame concatenation with empty or all-NA entries is deprecated. In a future version, this will no longer exclude empty or all-NA columns when determining the result dtypes. To retain the old behavior, exclude the relevant entries before the concat operation.\n",
      "  concat_annot = pd.concat(\n",
      "/slurm/home/yrd/liaolab/caohaoxue/anaconda3/envs/my_env/lib/python3.13/site-packages/anndata/_core/anndata.py:1756: UserWarning: Observation names are not unique. To make them unique, call `.obs_names_make_unique`.\n",
      "  utils.warn_names_duplicates(\"obs\")\n"
     ]
    },
    {
     "name": "stdout",
     "output_type": "stream",
     "text": [
      "WARNING: consider updating your call to make use of `computation`\n"
     ]
    },
    {
     "name": "stderr",
     "output_type": "stream",
     "text": [
      "/slurm/home/yrd/liaolab/caohaoxue/anaconda3/envs/my_env/lib/python3.13/site-packages/sklearn/manifold/_spectral_embedding.py:329: UserWarning: Graph is not fully connected, spectral embedding may not work as expected.\n",
      "  warnings.warn(\n",
      "/slurm/home/yrd/liaolab/caohaoxue/anaconda3/envs/my_env/lib/python3.13/site-packages/sklearn/manifold/_spectral_embedding.py:329: UserWarning: Graph is not fully connected, spectral embedding may not work as expected.\n",
      "  warnings.warn(\n"
     ]
    }
   ],
   "source": [
    "adata_int = sc.concat([cyto,scde,scva,spla,simp],\n",
    "                      join = 'outer',\n",
    "                      fill_value = 0)\n",
    "\n",
    "adata = sc.concat([real,adata_int],\n",
    "                 label = 'source',\n",
    "                 keys = ['real','simulated'],\n",
    "                 index_unique = '-')\n",
    "\n",
    "adata_raw = sc.concat([real,adata_int],\n",
    "                 label = 'source',\n",
    "                 keys = ['real','simulated'],\n",
    "                 index_unique = '-')\n",
    "\n",
    "sc.tl.pca(adata, svd_solver='arpack')\n",
    "adata.obs['stage'] = 'CS11'\n",
    "sc.external.pp.bbknn(adata, batch_key='source')\n",
    "sc.tl.umap(adata)\n",
    "sc.tl.embedding_density(adata,groupby='time')\n",
    "\n",
    "sc.tl.pca(adata_raw, svd_solver='arpack')\n",
    "adata_raw.obs['stage'] = 'CS11'\n",
    "sc.pp.neighbors(adata_raw)\n",
    "sc.tl.umap(adata_raw)"
   ]
  },
  {
   "cell_type": "code",
   "execution_count": 43,
   "id": "b3b18dcd-79df-4084-a12a-c74ac0fda417",
   "metadata": {
    "execution": {
     "iopub.execute_input": "2025-08-02T16:07:37.401782Z",
     "iopub.status.busy": "2025-08-02T16:07:37.401362Z",
     "iopub.status.idle": "2025-08-02T16:11:35.643907Z",
     "shell.execute_reply": "2025-08-02T16:11:35.643200Z",
     "shell.execute_reply.started": "2025-08-02T16:07:37.401752Z"
    },
    "tags": []
   },
   "outputs": [
    {
     "name": "stderr",
     "output_type": "stream",
     "text": [
      "/slurm/home/yrd/liaolab/caohaoxue/anaconda3/envs/my_env/lib/python3.13/site-packages/IPython/core/interactiveshell.py:3667: FutureWarning: In function `silhouette_batch`, argument `group_key` was renamed to `label_key`.\n",
      "  exec(code_obj, self.user_global_ns, self.user_ns)\n"
     ]
    },
    {
     "name": "stdout",
     "output_type": "stream",
     "text": [
      "mean silhouette per group:        silhouette_score\n",
      "group                  \n",
      "CS11           0.792631\n"
     ]
    },
    {
     "name": "stderr",
     "output_type": "stream",
     "text": [
      "/slurm/home/yrd/liaolab/caohaoxue/anaconda3/envs/my_env/lib/python3.13/site-packages/IPython/core/interactiveshell.py:3667: FutureWarning: In function `silhouette_batch`, argument `group_key` was renamed to `label_key`.\n",
      "  exec(code_obj, self.user_global_ns, self.user_ns)\n"
     ]
    },
    {
     "name": "stdout",
     "output_type": "stream",
     "text": [
      "mean silhouette per group:        silhouette_score\n",
      "group                  \n",
      "CS11           0.613635\n"
     ]
    },
    {
     "name": "stderr",
     "output_type": "stream",
     "text": [
      "/slurm/home/yrd/liaolab/caohaoxue/anaconda3/envs/my_env/lib/python3.13/site-packages/IPython/core/interactiveshell.py:3667: FutureWarning: In function `silhouette_batch`, argument `group_key` was renamed to `label_key`.\n",
      "  exec(code_obj, self.user_global_ns, self.user_ns)\n"
     ]
    },
    {
     "name": "stdout",
     "output_type": "stream",
     "text": [
      "mean silhouette per group:        silhouette_score\n",
      "group                  \n",
      "CS11           0.808797\n"
     ]
    },
    {
     "name": "stderr",
     "output_type": "stream",
     "text": [
      "/slurm/home/yrd/liaolab/caohaoxue/anaconda3/envs/my_env/lib/python3.13/site-packages/IPython/core/interactiveshell.py:3667: FutureWarning: In function `silhouette_batch`, argument `group_key` was renamed to `label_key`.\n",
      "  exec(code_obj, self.user_global_ns, self.user_ns)\n"
     ]
    },
    {
     "name": "stdout",
     "output_type": "stream",
     "text": [
      "mean silhouette per group:        silhouette_score\n",
      "group                  \n",
      "CS11           0.433011\n"
     ]
    },
    {
     "name": "stderr",
     "output_type": "stream",
     "text": [
      "/slurm/home/yrd/liaolab/caohaoxue/anaconda3/envs/my_env/lib/python3.13/site-packages/IPython/core/interactiveshell.py:3667: FutureWarning: In function `silhouette_batch`, argument `group_key` was renamed to `label_key`.\n",
      "  exec(code_obj, self.user_global_ns, self.user_ns)\n"
     ]
    },
    {
     "name": "stdout",
     "output_type": "stream",
     "text": [
      "mean silhouette per group:        silhouette_score\n",
      "group                  \n",
      "CS11           0.427267\n"
     ]
    }
   ],
   "source": [
    "asw_score_cyto = silhouette_batch(\n",
    "    adata[adata.obs.time.isin(['CS11','CS11-CytOrigin'])],\n",
    "    batch_key=\"source\",\n",
    "    group_key=\"stage\",\n",
    "    embed=\"X_umap\",\n",
    "    metric=\"euclidean\"\n",
    ")\n",
    "\n",
    "asw_score_scde = silhouette_batch(\n",
    "    adata[adata.obs.time.isin(['CS11','CS11-scDesign3'])],\n",
    "    batch_key=\"source\",\n",
    "    group_key=\"stage\",\n",
    "    embed=\"X_umap\",\n",
    "    metric=\"euclidean\"\n",
    ")\n",
    "\n",
    "asw_score_scva = silhouette_batch(\n",
    "    adata[adata.obs.time.isin(['CS11','CS11-scVAEDer'])],\n",
    "    batch_key=\"source\",\n",
    "    group_key=\"stage\",\n",
    "    embed=\"X_umap\",\n",
    "    metric=\"euclidean\"\n",
    ")\n",
    "\n",
    "asw_score_spla = silhouette_batch(\n",
    "    adata[adata.obs.time.isin(['CS11','CS11-Splatter'])],\n",
    "    batch_key=\"source\",\n",
    "    group_key=\"stage\",\n",
    "    embed=\"X_umap\",\n",
    "    metric=\"euclidean\"\n",
    ")\n",
    "\n",
    "asw_score_simp = silhouette_batch(\n",
    "    adata[adata.obs.time.isin(['CS11','CS11-Splatter-Simple'])],\n",
    "    batch_key=\"source\",\n",
    "    group_key=\"stage\",\n",
    "    embed=\"X_umap\",\n",
    "    metric=\"euclidean\"\n",
    ")\n"
   ]
  },
  {
   "cell_type": "code",
   "execution_count": 46,
   "id": "0a51a3a4-e536-47e3-99ea-b5410df065fc",
   "metadata": {
    "execution": {
     "iopub.execute_input": "2025-08-02T16:15:07.214344Z",
     "iopub.status.busy": "2025-08-02T16:15:07.214091Z",
     "iopub.status.idle": "2025-08-02T16:15:07.219063Z",
     "shell.execute_reply": "2025-08-02T16:15:07.218608Z",
     "shell.execute_reply.started": "2025-08-02T16:15:07.214328Z"
    }
   },
   "outputs": [],
   "source": [
    "asw = pd.DataFrame(data = [asw_score_cyto,asw_score_spla,asw_score_simp,asw_score_scde,asw_score_scva],\n",
    "                   index = ['CytOrigin', 'Splatter', 'Splatter-Simple', 'scDesign3', 'scVAEDer'],\n",
    "                   columns = ['CS11'])\n",
    "asw.to_csv('/slurm/home/yrd/liaolab/caohaoxue/embryo_work/benchmark/CS11_asw.csv')"
   ]
  },
  {
   "cell_type": "code",
   "execution_count": 7,
   "id": "251c78ca-8818-4e17-b2e0-4e51a25d5843",
   "metadata": {
    "execution": {
     "iopub.execute_input": "2025-08-18T09:24:06.404421Z",
     "iopub.status.busy": "2025-08-18T09:24:06.403868Z",
     "iopub.status.idle": "2025-08-18T09:24:06.983073Z",
     "shell.execute_reply": "2025-08-18T09:24:06.982539Z",
     "shell.execute_reply.started": "2025-08-18T09:24:06.404384Z"
    }
   },
   "outputs": [
    {
     "name": "stderr",
     "output_type": "stream",
     "text": [
      "/slurm/home/yrd/liaolab/caohaoxue/anaconda3/envs/my_env/lib/python3.13/site-packages/scanpy/preprocessing/_pca/__init__.py:438: FutureWarning: Argument `use_highly_variable` is deprecated, consider using the mask argument. Use_highly_variable=True can be called through mask_var=\"highly_variable\". Use_highly_variable=False can be called through mask_var=None\n",
      "  warn(msg, FutureWarning)\n",
      "/slurm/home/yrd/liaolab/caohaoxue/anaconda3/envs/my_env/lib/python3.13/site-packages/scanpy/preprocessing/_pca/__init__.py:438: FutureWarning: Argument `use_highly_variable` is deprecated, consider using the mask argument. Use_highly_variable=True can be called through mask_var=\"highly_variable\". Use_highly_variable=False can be called through mask_var=None\n",
      "  warn(msg, FutureWarning)\n",
      "/slurm/home/yrd/liaolab/caohaoxue/anaconda3/envs/my_env/lib/python3.13/site-packages/scanpy/preprocessing/_pca/__init__.py:438: FutureWarning: Argument `use_highly_variable` is deprecated, consider using the mask argument. Use_highly_variable=True can be called through mask_var=\"highly_variable\". Use_highly_variable=False can be called through mask_var=None\n",
      "  warn(msg, FutureWarning)\n",
      "/slurm/home/yrd/liaolab/caohaoxue/anaconda3/envs/my_env/lib/python3.13/site-packages/scanpy/preprocessing/_pca/__init__.py:438: FutureWarning: Argument `use_highly_variable` is deprecated, consider using the mask argument. Use_highly_variable=True can be called through mask_var=\"highly_variable\". Use_highly_variable=False can be called through mask_var=None\n",
      "  warn(msg, FutureWarning)\n",
      "/slurm/home/yrd/liaolab/caohaoxue/anaconda3/envs/my_env/lib/python3.13/site-packages/scanpy/preprocessing/_pca/__init__.py:438: FutureWarning: Argument `use_highly_variable` is deprecated, consider using the mask argument. Use_highly_variable=True can be called through mask_var=\"highly_variable\". Use_highly_variable=False can be called through mask_var=None\n",
      "  warn(msg, FutureWarning)\n"
     ]
    }
   ],
   "source": [
    "kbet_score_cyto = pcr_comparison(\n",
    "    adata_raw[adata_raw.obs.time.isin(['CS11','CS11-CytOrigin'])],\n",
    "    adata[adata.obs.time.isin(['CS11','CS11-CytOrigin'])],\n",
    "    embed=\"X_umap\",\n",
    "    covariate='time'\n",
    ")\n",
    "\n",
    "kbet_score_scde = pcr_comparison(\n",
    "    adata_raw[adata_raw.obs.time.isin(['CS11','CS11-scDesign3'])],\n",
    "    adata[adata.obs.time.isin(['CS11','CS11-scDesign3'])],\n",
    "    embed=\"X_umap\",\n",
    "    covariate='time'\n",
    ")\n",
    "\n",
    "kbet_score_scva = pcr_comparison(\n",
    "    adata_raw[adata_raw.obs.time.isin(['CS11','CS11-scVAEDer'])],\n",
    "    adata[adata.obs.time.isin(['CS11','CS11-scVAEDer'])],\n",
    "    embed=\"X_umap\",\n",
    "    covariate='time'\n",
    ")\n",
    "\n",
    "kbet_score_spla = pcr_comparison(\n",
    "    adata_raw[adata_raw.obs.time.isin(['CS11','CS11-Splatter'])],\n",
    "    adata[adata.obs.time.isin(['CS11','CS11-Splatter'])],\n",
    "    embed=\"X_umap\",\n",
    "    covariate='time'\n",
    ")\n",
    "\n",
    "kbet_score_simp = pcr_comparison(\n",
    "    adata_raw[adata_raw.obs.time.isin(['CS11','CS11-Splatter-Simple'])],\n",
    "    adata[adata.obs.time.isin(['CS11','CS11-Splatter-Simple'])],\n",
    "    embed=\"X_umap\",\n",
    "    covariate='time'\n",
    ")"
   ]
  },
  {
   "cell_type": "code",
   "execution_count": 11,
   "id": "94b45e10-f5c2-4925-92ab-828dabadd074",
   "metadata": {
    "execution": {
     "iopub.execute_input": "2025-08-18T09:25:33.807934Z",
     "iopub.status.busy": "2025-08-18T09:25:33.807466Z",
     "iopub.status.idle": "2025-08-18T09:25:33.818042Z",
     "shell.execute_reply": "2025-08-18T09:25:33.817309Z",
     "shell.execute_reply.started": "2025-08-18T09:25:33.807886Z"
    },
    "tags": []
   },
   "outputs": [],
   "source": [
    "kbet = pd.DataFrame(data = [kbet_score_cyto,kbet_score_spla,kbet_score_simp,kbet_score_scde,kbet_score_scva],\n",
    "                   index = ['CytOrigin', 'Splatter', 'Splatter-Simple', 'scDesign3', 'scVAEDer'],\n",
    "                   columns = ['CS11'])\n",
    "kbet.to_csv('/slurm/home/yrd/liaolab/caohaoxue/embryo_work/benchmark/CS11_kbet.csv')"
   ]
  }
 ],
 "metadata": {
  "kernelspec": {
   "display_name": "my_env",
   "language": "python",
   "name": "my_env"
  },
  "language_info": {
   "codemirror_mode": {
    "name": "ipython",
    "version": 3
   },
   "file_extension": ".py",
   "mimetype": "text/x-python",
   "name": "python",
   "nbconvert_exporter": "python",
   "pygments_lexer": "ipython3",
   "version": "3.13.2"
  }
 },
 "nbformat": 4,
 "nbformat_minor": 5
}
