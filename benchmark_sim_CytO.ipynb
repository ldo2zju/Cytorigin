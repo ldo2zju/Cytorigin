{
 "cells": [
  {
   "cell_type": "code",
   "execution_count": 26,
   "id": "25caba48-ee36-4d0b-8051-3ca79dcaf256",
   "metadata": {
    "execution": {
     "iopub.execute_input": "2025-08-02T02:08:10.247608Z",
     "iopub.status.busy": "2025-08-02T02:08:10.247109Z",
     "iopub.status.idle": "2025-08-02T02:08:10.253133Z",
     "shell.execute_reply": "2025-08-02T02:08:10.252462Z",
     "shell.execute_reply.started": "2025-08-02T02:08:10.247576Z"
    },
    "tags": []
   },
   "outputs": [],
   "source": [
    "import scanpy as sc\n",
    "import anndata as an\n",
    "import pandas as pd\n",
    "import numpy as np\n",
    "import torch\n",
    "import torch.nn as nn\n",
    "import torch.optim as optim\n",
    "from torch.utils.data import DataLoader, TensorDataset\n",
    "import matplotlib.pyplot as plt\n",
    "from typing import Optional, Union\n",
    "import seaborn as sns\n",
    "import scipy\n",
    "import bbknn\n",
    "import harmonypy as hm\n",
    "from scipy.spatial import distance\n",
    "from scipy.spatial.distance import cdist\n",
    "from scipy.io import mmread"
   ]
  },
  {
   "cell_type": "code",
   "execution_count": 2,
   "id": "5f50df18-6f67-4522-aa38-7e20c512086f",
   "metadata": {
    "execution": {
     "iopub.execute_input": "2025-08-01T13:07:32.569876Z",
     "iopub.status.busy": "2025-08-01T13:07:32.568824Z",
     "iopub.status.idle": "2025-08-01T13:07:32.573291Z",
     "shell.execute_reply": "2025-08-01T13:07:32.572662Z",
     "shell.execute_reply.started": "2025-08-01T13:07:32.569842Z"
    },
    "tags": []
   },
   "outputs": [],
   "source": [
    "import time"
   ]
  },
  {
   "cell_type": "markdown",
   "id": "dbe8ee4e-4021-4cba-bf1d-6c7dbb74edb4",
   "metadata": {
    "tags": []
   },
   "source": [
    "# Model"
   ]
  },
  {
   "cell_type": "code",
   "execution_count": 3,
   "id": "c2164d12-4ed0-4899-b061-9d9ab0e3b48e",
   "metadata": {
    "execution": {
     "iopub.execute_input": "2025-08-01T13:07:32.574131Z",
     "iopub.status.busy": "2025-08-01T13:07:32.573988Z",
     "iopub.status.idle": "2025-08-01T13:07:32.581249Z",
     "shell.execute_reply": "2025-08-01T13:07:32.580758Z",
     "shell.execute_reply.started": "2025-08-01T13:07:32.574117Z"
    },
    "tags": []
   },
   "outputs": [],
   "source": [
    "class TimeSeriesVAE(nn.Module):\n",
    "    \n",
    "    def __init__(self, input_dim, latent_dim=15):\n",
    "        super(TimeSeriesVAE, self).__init__()\n",
    "        \n",
    "        self.encoder = nn.Sequential(\n",
    "            nn.Linear(input_dim, 256),\n",
    "            nn.BatchNorm1d(256),\n",
    "            nn.LeakyReLU(0.2),\n",
    "            nn.Dropout(0.3),\n",
    "            nn.Linear(256, 128),\n",
    "            nn.BatchNorm1d(128),\n",
    "            nn.LeakyReLU(0.2)\n",
    "        )\n",
    "        \n",
    "        self.fc_mu = nn.Linear(128, latent_dim)\n",
    "        self.fc_logvar = nn.Linear(128, latent_dim)\n",
    "        \n",
    "        self.decoder = nn.Sequential(\n",
    "            nn.Linear(latent_dim, 128),\n",
    "            nn.BatchNorm1d(128),\n",
    "            nn.LeakyReLU(0.2),\n",
    "            nn.Dropout(0.3),\n",
    "            nn.Linear(128, 256),\n",
    "            nn.BatchNorm1d(256),\n",
    "            nn.LeakyReLU(0.2),\n",
    "            nn.Linear(256, input_dim),\n",
    "            nn.Sigmoid()\n",
    "        )\n",
    "    \n",
    "    def reparameterize(self, mu, logvar):\n",
    "        std = torch.exp(0.5 * logvar)\n",
    "        eps = torch.randn_like(std)\n",
    "        return mu + eps * std\n",
    "    \n",
    "    def encode(self, x):\n",
    "        enc = self.encoder(x)\n",
    "        mu = self.fc_mu(enc)\n",
    "        logvar = self.fc_logvar(enc)\n",
    "        z = self.reparameterize(mu, logvar)\n",
    "        return z, mu, logvar\n",
    "    \n",
    "    def decode(self, z):\n",
    "        return self.decoder(z)\n",
    "    \n",
    "    def forward(self, x):\n",
    "        z, mu, logvar = self.encode(x)\n",
    "        recon_x = self.decode(z)\n",
    "        return recon_x, mu, logvar"
   ]
  },
  {
   "cell_type": "code",
   "execution_count": 4,
   "id": "48e01378-a5d1-4746-98f1-2d1b1427f5a1",
   "metadata": {
    "execution": {
     "iopub.execute_input": "2025-08-01T13:07:32.582568Z",
     "iopub.status.busy": "2025-08-01T13:07:32.582216Z",
     "iopub.status.idle": "2025-08-01T13:07:32.590390Z",
     "shell.execute_reply": "2025-08-01T13:07:32.589903Z",
     "shell.execute_reply.started": "2025-08-01T13:07:32.582552Z"
    },
    "tags": []
   },
   "outputs": [],
   "source": [
    "def vae_loss(recon_x, x, mu, logvar, beta=0.5):\n",
    "    BCE = nn.functional.mse_loss(recon_x, x, reduction='sum')\n",
    "    KLD = -0.5 * torch.sum(1 + logvar - mu.pow(2) - logvar.exp())\n",
    "    return BCE + beta * KLD"
   ]
  },
  {
   "cell_type": "code",
   "execution_count": 5,
   "id": "fd3f014d-ec24-4fa5-92b4-3a02e0fc0d40",
   "metadata": {
    "execution": {
     "iopub.execute_input": "2025-08-01T13:07:32.591007Z",
     "iopub.status.busy": "2025-08-01T13:07:32.590880Z",
     "iopub.status.idle": "2025-08-01T13:07:32.597444Z",
     "shell.execute_reply": "2025-08-01T13:07:32.596957Z",
     "shell.execute_reply.started": "2025-08-01T13:07:32.590994Z"
    },
    "tags": []
   },
   "outputs": [],
   "source": [
    "def train_vae(model, dataloader, epochs=100, lr=1e-4):\n",
    "    device = torch.device(\"cuda\" if torch.cuda.is_available() else \"cpu\")\n",
    "    model.to(device)\n",
    "    optimizer = optim.Adam(model.parameters(), lr=lr)\n",
    "    \n",
    "    for epoch in range(epochs):\n",
    "        model.train()\n",
    "        train_loss = 0\n",
    "        for data in dataloader:\n",
    "            data = data[0].to(device)\n",
    "            optimizer.zero_grad()\n",
    "            \n",
    "            recon_batch, mu, logvar = model(data)\n",
    "            loss = vae_loss(recon_batch, data, mu, logvar)\n",
    "            \n",
    "            loss.backward()\n",
    "            train_loss += loss.item()\n",
    "            optimizer.step()\n",
    "        \n",
    "        avg_loss = train_loss / len(dataloader.dataset)\n",
    "        if (epoch+1) % 10 == 0:\n",
    "            print(f'Epoch {epoch+1}/{epochs}, Loss: {avg_loss:.4f}')\n",
    "    \n",
    "    return model"
   ]
  },
  {
   "cell_type": "code",
   "execution_count": 6,
   "id": "adae0401-38d6-4b0e-a629-7efedcd28eac",
   "metadata": {
    "execution": {
     "iopub.execute_input": "2025-08-01T13:07:32.598039Z",
     "iopub.status.busy": "2025-08-01T13:07:32.597908Z",
     "iopub.status.idle": "2025-08-01T13:07:32.604031Z",
     "shell.execute_reply": "2025-08-01T13:07:32.603585Z",
     "shell.execute_reply.started": "2025-08-01T13:07:32.598025Z"
    },
    "tags": []
   },
   "outputs": [],
   "source": [
    "def save_model(model, adata, model_path='sc_vae_model.pth'):\n",
    "    \n",
    "    torch.save({\n",
    "        'model_state_dict': model.state_dict(),\n",
    "        'input_dim': model.encoder[0].in_features,\n",
    "        'latent_dim': model.fc_mu.out_features\n",
    "        }, model_path)\n",
    "    \n",
    "def load_model(model_path='sc_vae_model.pth', device=None):\n",
    "    if device is None:\n",
    "        device = torch.device(\"cuda\" if torch.cuda.is_available() else \"cpu\")\n",
    "        \n",
    "    checkpoint = torch.load(model_path, map_location=device)\n",
    "    \n",
    "    model = TimeSeriesVAE(\n",
    "        input_dim=checkpoint['input_dim'],\n",
    "        latent_dim=checkpoint['latent_dim']\n",
    "    )\n",
    "    \n",
    "    model.load_state_dict(checkpoint['model_state_dict'])\n",
    "    model.to(device)\n",
    "    model.eval()\n",
    "    \n",
    "    print(f\"load from {model_path}\")\n",
    "    print(f\"input dim: {checkpoint['input_dim']}, latent dim: {checkpoint['latent_dim']}\")\n",
    "    \n",
    "    return model"
   ]
  },
  {
   "cell_type": "code",
   "execution_count": 7,
   "id": "d463ea29-4ffa-4c9b-9e77-9695f93bfa1e",
   "metadata": {
    "execution": {
     "iopub.execute_input": "2025-08-01T13:07:32.604478Z",
     "iopub.status.busy": "2025-08-01T13:07:32.604355Z",
     "iopub.status.idle": "2025-08-01T13:07:32.613565Z",
     "shell.execute_reply": "2025-08-01T13:07:32.613145Z",
     "shell.execute_reply.started": "2025-08-01T13:07:32.604465Z"
    },
    "tags": []
   },
   "outputs": [],
   "source": [
    "def reduce_total_expression(matrix, target_sum=10000):\n",
    "    matrix = matrix.T\n",
    "    result_matrix = np.zeros_like(matrix) \n",
    "    \n",
    "    for j in range(matrix.shape[1]):\n",
    "        cell_data = matrix[:, j]\n",
    "        \n",
    "        sorted_indices = np.argsort(cell_data)[::-1]\n",
    "        sorted_values = cell_data[sorted_indices]\n",
    "        \n",
    "        cumulative_sum = np.cumsum(sorted_values)\n",
    "        k = np.argmax(cumulative_sum >= target_sum) + 1\n",
    "        \n",
    "        if k == 0 or cumulative_sum[k-1] < target_sum:\n",
    "            k = len(sorted_values)\n",
    "            \n",
    "        top_indices = sorted_indices[:k]\n",
    "        top_values = cell_data[top_indices]\n",
    "        \n",
    "        scale_factor = target_sum / np.sum(top_values)\n",
    "        scaled_values = top_values * scale_factor\n",
    "        result_matrix[top_indices, j] = scaled_values\n",
    "    \n",
    "    return result_matrix.T"
   ]
  },
  {
   "cell_type": "markdown",
   "id": "c8bf2af3-5447-40b7-a51d-f900f64c504a",
   "metadata": {},
   "source": [
    "# Data Setup"
   ]
  },
  {
   "cell_type": "code",
   "execution_count": 8,
   "id": "d8a31bb4-0fc8-4ea1-8b07-dd9c6f06693d",
   "metadata": {
    "execution": {
     "iopub.execute_input": "2025-08-01T12:47:47.789727Z",
     "iopub.status.busy": "2025-08-01T12:47:47.789252Z",
     "iopub.status.idle": "2025-08-01T12:47:48.167054Z",
     "shell.execute_reply": "2025-08-01T12:47:48.166588Z",
     "shell.execute_reply.started": "2025-08-01T12:47:47.789704Z"
    },
    "tags": []
   },
   "outputs": [],
   "source": [
    "count_matrix = mmread('/slurm/home/yrd/liaolab/caohaoxue/embryo_work/benchmark/source_matrix/CS10_CS12_2CS11_counts.mtx')\n",
    "barcodes = pd.read_csv('/slurm/home/yrd/liaolab/caohaoxue/embryo_work/benchmark/source_matrix/CS10_CS12_2CS11_cell.csv',index_col = 0)\n",
    "gene_ids = pd.read_csv('/slurm/home/yrd/liaolab/caohaoxue/embryo_work/benchmark/source_matrix/CS10_CS12_2CS11_gene.csv',index_col = 0)"
   ]
  },
  {
   "cell_type": "code",
   "execution_count": 8,
   "id": "f87ddeb4-1c27-422f-b120-9f06a65798fc",
   "metadata": {
    "execution": {
     "iopub.execute_input": "2025-08-01T12:53:45.078875Z",
     "iopub.status.busy": "2025-08-01T12:53:45.078438Z",
     "iopub.status.idle": "2025-08-01T12:53:45.351031Z",
     "shell.execute_reply": "2025-08-01T12:53:45.350457Z",
     "shell.execute_reply.started": "2025-08-01T12:53:45.078844Z"
    },
    "tags": []
   },
   "outputs": [],
   "source": [
    "count_matrix = mmread('/slurm/home/yrd/liaolab/caohaoxue/embryo_work/benchmark/source_matrix/CS7_CS9_2CS8_counts.mtx')\n",
    "barcodes = pd.read_csv('/slurm/home/yrd/liaolab/caohaoxue/embryo_work/benchmark/source_matrix/CS7_CS9_2CS8_cell.csv',index_col = 0)\n",
    "gene_ids = pd.read_csv('/slurm/home/yrd/liaolab/caohaoxue/embryo_work/benchmark/source_matrix/CS7_CS9_2CS8_gene.csv',index_col = 0)"
   ]
  },
  {
   "cell_type": "code",
   "execution_count": 8,
   "id": "185b087d-5c92-4bf5-8bd1-b2dbe7ccfdee",
   "metadata": {
    "execution": {
     "iopub.execute_input": "2025-08-01T13:07:32.614083Z",
     "iopub.status.busy": "2025-08-01T13:07:32.613959Z",
     "iopub.status.idle": "2025-08-01T13:07:32.955737Z",
     "shell.execute_reply": "2025-08-01T13:07:32.955298Z",
     "shell.execute_reply.started": "2025-08-01T13:07:32.614071Z"
    },
    "tags": []
   },
   "outputs": [],
   "source": [
    "count_matrix = mmread('/slurm/home/yrd/liaolab/caohaoxue/embryo_work/benchmark/source_matrix/CS9_CS11_2CS10_counts.mtx')\n",
    "barcodes = pd.read_csv('/slurm/home/yrd/liaolab/caohaoxue/embryo_work/benchmark/source_matrix/CS9_CS11_2CS10_cell.csv',index_col = 0)\n",
    "gene_ids = pd.read_csv('/slurm/home/yrd/liaolab/caohaoxue/embryo_work/benchmark/source_matrix/CS9_CS11_2CS10_gene.csv',index_col = 0)"
   ]
  },
  {
   "cell_type": "code",
   "execution_count": 8,
   "id": "cf076c5e-5059-4980-a789-52e0bcdd2507",
   "metadata": {
    "execution": {
     "iopub.execute_input": "2025-08-01T13:00:20.567977Z",
     "iopub.status.busy": "2025-08-01T13:00:20.567413Z",
     "iopub.status.idle": "2025-08-01T13:00:20.633123Z",
     "shell.execute_reply": "2025-08-01T13:00:20.632554Z",
     "shell.execute_reply.started": "2025-08-01T13:00:20.567947Z"
    },
    "tags": []
   },
   "outputs": [],
   "source": [
    "count_matrix = mmread('/slurm/home/yrd/liaolab/caohaoxue/embryo_work/benchmark/source_matrix/E10_E14_2E12_counts.mtx')\n",
    "barcodes = pd.read_csv('/slurm/home/yrd/liaolab/caohaoxue/embryo_work/benchmark/source_matrix/E10_E14_2E12_cell.csv',index_col = 0)\n",
    "gene_ids = pd.read_csv('/slurm/home/yrd/liaolab/caohaoxue/embryo_work/benchmark/source_matrix/E10_E14_2E12_gene.csv',index_col = 0)"
   ]
  },
  {
   "cell_type": "code",
   "execution_count": 8,
   "id": "698d06d3-ee6e-4b3c-b504-b71dd1dc7acf",
   "metadata": {
    "execution": {
     "iopub.execute_input": "2025-08-01T13:05:50.057682Z",
     "iopub.status.busy": "2025-08-01T13:05:50.057318Z",
     "iopub.status.idle": "2025-08-01T13:05:50.268390Z",
     "shell.execute_reply": "2025-08-01T13:05:50.267604Z",
     "shell.execute_reply.started": "2025-08-01T13:05:50.057653Z"
    },
    "tags": []
   },
   "outputs": [],
   "source": [
    "count_matrix = mmread('/slurm/home/yrd/liaolab/caohaoxue/embryo_work/benchmark/source_matrix/E12_CS7_2E14_counts.mtx')\n",
    "barcodes = pd.read_csv('/slurm/home/yrd/liaolab/caohaoxue/embryo_work/benchmark/source_matrix/E12_CS7_2E14_cell.csv',index_col = 0)\n",
    "gene_ids = pd.read_csv('/slurm/home/yrd/liaolab/caohaoxue/embryo_work/benchmark/source_matrix/E12_CS7_2E14_gene.csv',index_col = 0)"
   ]
  },
  {
   "cell_type": "code",
   "execution_count": 9,
   "id": "a6c9f71b-f04a-48ad-8553-44046599368f",
   "metadata": {
    "execution": {
     "iopub.execute_input": "2025-08-01T13:07:34.530981Z",
     "iopub.status.busy": "2025-08-01T13:07:34.530402Z",
     "iopub.status.idle": "2025-08-01T13:07:35.845604Z",
     "shell.execute_reply": "2025-08-01T13:07:35.844905Z",
     "shell.execute_reply.started": "2025-08-01T13:07:34.530949Z"
    },
    "tags": []
   },
   "outputs": [],
   "source": [
    "adata = an.AnnData(X = count_matrix.T.toarray(), obs = barcodes, var = gene_ids)\n",
    "sc.pp.normalize_total(adata, target_sum=1e4)"
   ]
  },
  {
   "cell_type": "code",
   "execution_count": 10,
   "id": "80fadfd1-78c5-4fc0-801f-cb777202c004",
   "metadata": {
    "execution": {
     "iopub.execute_input": "2025-08-01T13:07:39.328164Z",
     "iopub.status.busy": "2025-08-01T13:07:39.327575Z",
     "iopub.status.idle": "2025-08-01T13:07:39.336145Z",
     "shell.execute_reply": "2025-08-01T13:07:39.335541Z",
     "shell.execute_reply.started": "2025-08-01T13:07:39.328132Z"
    },
    "tags": []
   },
   "outputs": [],
   "source": [
    "#adata.obs['s_e'] = adata.obs.time.map({'CS10':'start','CS12':'end'})\n",
    "#adata.obs['s_e'] = adata.obs.time.map({'CS7':'start','CS9':'end'})\n",
    "adata.obs['s_e'] = adata.obs.time.map({'CS9':'start','CS11':'end'})\n",
    "#adata.obs['s_e'] = adata.obs.time.map({'E10':'start','E14':'end'})\n",
    "#adata.obs['s_e'] = adata.obs.time.map({'E12':'start','CS7':'end'})"
   ]
  },
  {
   "cell_type": "code",
   "execution_count": 29,
   "id": "b5858f5c-69ff-452b-bc0e-31edde1116ea",
   "metadata": {
    "execution": {
     "iopub.execute_input": "2025-08-02T02:08:55.432543Z",
     "iopub.status.busy": "2025-08-02T02:08:55.432073Z",
     "iopub.status.idle": "2025-08-02T02:08:55.452328Z",
     "shell.execute_reply": "2025-08-02T02:08:55.451823Z",
     "shell.execute_reply.started": "2025-08-02T02:08:55.432512Z"
    },
    "tags": []
   },
   "outputs": [
    {
     "data": {
      "text/html": [
       "<div>\n",
       "<style scoped>\n",
       "    .dataframe tbody tr th:only-of-type {\n",
       "        vertical-align: middle;\n",
       "    }\n",
       "\n",
       "    .dataframe tbody tr th {\n",
       "        vertical-align: top;\n",
       "    }\n",
       "\n",
       "    .dataframe thead th {\n",
       "        text-align: right;\n",
       "    }\n",
       "</style>\n",
       "<table border=\"1\" class=\"dataframe\">\n",
       "  <thead>\n",
       "    <tr style=\"text-align: right;\">\n",
       "      <th></th>\n",
       "      <th>orig.ident</th>\n",
       "      <th>nCount_RNA</th>\n",
       "      <th>nFeature_RNA</th>\n",
       "      <th>cell_type</th>\n",
       "      <th>time</th>\n",
       "      <th>merge_type</th>\n",
       "      <th>s_e</th>\n",
       "      <th>n_zero_genes</th>\n",
       "    </tr>\n",
       "  </thead>\n",
       "  <tbody>\n",
       "    <tr>\n",
       "      <th>AAACCCAAGCCAAGGT-1</th>\n",
       "      <td>0</td>\n",
       "      <td>1387.0</td>\n",
       "      <td>929</td>\n",
       "      <td>Heart progenitor</td>\n",
       "      <td>CS9</td>\n",
       "      <td>Mesoderm</td>\n",
       "      <td>start</td>\n",
       "      <td>0.984000</td>\n",
       "    </tr>\n",
       "    <tr>\n",
       "      <th>AAACCCAAGGTAGTCG-1</th>\n",
       "      <td>0</td>\n",
       "      <td>526.0</td>\n",
       "      <td>414</td>\n",
       "      <td>ExE mesoderm</td>\n",
       "      <td>CS9</td>\n",
       "      <td>YolkSac</td>\n",
       "      <td>start</td>\n",
       "      <td>0.984500</td>\n",
       "    </tr>\n",
       "    <tr>\n",
       "      <th>AAACCCACAACGCATT-1</th>\n",
       "      <td>0</td>\n",
       "      <td>7364.0</td>\n",
       "      <td>3806</td>\n",
       "      <td>YS mesoderm</td>\n",
       "      <td>CS9</td>\n",
       "      <td>YolkSac</td>\n",
       "      <td>start</td>\n",
       "      <td>0.921625</td>\n",
       "    </tr>\n",
       "    <tr>\n",
       "      <th>AAACCCACAATCTCGA-1</th>\n",
       "      <td>0</td>\n",
       "      <td>3127.0</td>\n",
       "      <td>1946</td>\n",
       "      <td>Surface ectoderm</td>\n",
       "      <td>CS9</td>\n",
       "      <td>Ectoderm</td>\n",
       "      <td>start</td>\n",
       "      <td>0.964125</td>\n",
       "    </tr>\n",
       "    <tr>\n",
       "      <th>AAACCCACACATCATG-1</th>\n",
       "      <td>0</td>\n",
       "      <td>2073.0</td>\n",
       "      <td>1339</td>\n",
       "      <td>Endothelium</td>\n",
       "      <td>CS9</td>\n",
       "      <td>Mesoderm</td>\n",
       "      <td>start</td>\n",
       "      <td>0.973500</td>\n",
       "    </tr>\n",
       "    <tr>\n",
       "      <th>...</th>\n",
       "      <td>...</td>\n",
       "      <td>...</td>\n",
       "      <td>...</td>\n",
       "      <td>...</td>\n",
       "      <td>...</td>\n",
       "      <td>...</td>\n",
       "      <td>...</td>\n",
       "      <td>...</td>\n",
       "    </tr>\n",
       "    <tr>\n",
       "      <th>CAGTTCCAGCCTTGAT-1_2</th>\n",
       "      <td>CS11_RNA2</td>\n",
       "      <td>1071.0</td>\n",
       "      <td>720</td>\n",
       "      <td>Spinal cord</td>\n",
       "      <td>CS11</td>\n",
       "      <td>Ectoderm</td>\n",
       "      <td>end</td>\n",
       "      <td>0.984625</td>\n",
       "    </tr>\n",
       "    <tr>\n",
       "      <th>CAGGTATTCTCTGGTC-1_2</th>\n",
       "      <td>CS11_RNA2</td>\n",
       "      <td>2275.0</td>\n",
       "      <td>1323</td>\n",
       "      <td>Limb progenitor</td>\n",
       "      <td>CS11</td>\n",
       "      <td>Mesoderm</td>\n",
       "      <td>end</td>\n",
       "      <td>0.974375</td>\n",
       "    </tr>\n",
       "    <tr>\n",
       "      <th>GATTTCTGTACCTTCC-1_2</th>\n",
       "      <td>CS11_RNA2</td>\n",
       "      <td>1599.0</td>\n",
       "      <td>1019</td>\n",
       "      <td>Splanchnic LPM</td>\n",
       "      <td>CS11</td>\n",
       "      <td>Mesoderm</td>\n",
       "      <td>end</td>\n",
       "      <td>0.980500</td>\n",
       "    </tr>\n",
       "    <tr>\n",
       "      <th>CTCAAGAAGCTTCGTA-1_1</th>\n",
       "      <td>CS11_RNA1</td>\n",
       "      <td>1602.0</td>\n",
       "      <td>1122</td>\n",
       "      <td>Spinal cord</td>\n",
       "      <td>CS11</td>\n",
       "      <td>Ectoderm</td>\n",
       "      <td>end</td>\n",
       "      <td>0.976875</td>\n",
       "    </tr>\n",
       "    <tr>\n",
       "      <th>GACCGTGAGCGTTAGG-1_1</th>\n",
       "      <td>CS11_RNA1</td>\n",
       "      <td>1135.0</td>\n",
       "      <td>885</td>\n",
       "      <td>Myotome</td>\n",
       "      <td>CS11</td>\n",
       "      <td>Mesoderm</td>\n",
       "      <td>end</td>\n",
       "      <td>0.983875</td>\n",
       "    </tr>\n",
       "  </tbody>\n",
       "</table>\n",
       "<p>22725 rows × 8 columns</p>\n",
       "</div>"
      ],
      "text/plain": [
       "                     orig.ident  nCount_RNA  nFeature_RNA         cell_type  \\\n",
       "AAACCCAAGCCAAGGT-1            0      1387.0           929  Heart progenitor   \n",
       "AAACCCAAGGTAGTCG-1            0       526.0           414      ExE mesoderm   \n",
       "AAACCCACAACGCATT-1            0      7364.0          3806       YS mesoderm   \n",
       "AAACCCACAATCTCGA-1            0      3127.0          1946  Surface ectoderm   \n",
       "AAACCCACACATCATG-1            0      2073.0          1339       Endothelium   \n",
       "...                         ...         ...           ...               ...   \n",
       "CAGTTCCAGCCTTGAT-1_2  CS11_RNA2      1071.0           720       Spinal cord   \n",
       "CAGGTATTCTCTGGTC-1_2  CS11_RNA2      2275.0          1323   Limb progenitor   \n",
       "GATTTCTGTACCTTCC-1_2  CS11_RNA2      1599.0          1019    Splanchnic LPM   \n",
       "CTCAAGAAGCTTCGTA-1_1  CS11_RNA1      1602.0          1122       Spinal cord   \n",
       "GACCGTGAGCGTTAGG-1_1  CS11_RNA1      1135.0           885           Myotome   \n",
       "\n",
       "                      time merge_type    s_e  n_zero_genes  \n",
       "AAACCCAAGCCAAGGT-1     CS9   Mesoderm  start      0.984000  \n",
       "AAACCCAAGGTAGTCG-1     CS9    YolkSac  start      0.984500  \n",
       "AAACCCACAACGCATT-1     CS9    YolkSac  start      0.921625  \n",
       "AAACCCACAATCTCGA-1     CS9   Ectoderm  start      0.964125  \n",
       "AAACCCACACATCATG-1     CS9   Mesoderm  start      0.973500  \n",
       "...                    ...        ...    ...           ...  \n",
       "CAGTTCCAGCCTTGAT-1_2  CS11   Ectoderm    end      0.984625  \n",
       "CAGGTATTCTCTGGTC-1_2  CS11   Mesoderm    end      0.974375  \n",
       "GATTTCTGTACCTTCC-1_2  CS11   Mesoderm    end      0.980500  \n",
       "CTCAAGAAGCTTCGTA-1_1  CS11   Ectoderm    end      0.976875  \n",
       "GACCGTGAGCGTTAGG-1_1  CS11   Mesoderm    end      0.983875  \n",
       "\n",
       "[22725 rows x 8 columns]"
      ]
     },
     "execution_count": 29,
     "metadata": {},
     "output_type": "execute_result"
    }
   ],
   "source": [
    "adata.obs"
   ]
  },
  {
   "cell_type": "markdown",
   "id": "acb8e1ed-18ac-4784-a097-f7d07beefee0",
   "metadata": {
    "execution": {
     "iopub.execute_input": "2025-07-30T14:41:55.068678Z",
     "iopub.status.busy": "2025-07-30T14:41:55.068106Z",
     "iopub.status.idle": "2025-07-30T14:41:55.073747Z",
     "shell.execute_reply": "2025-07-30T14:41:55.073068Z",
     "shell.execute_reply.started": "2025-07-30T14:41:55.068644Z"
    },
    "tags": []
   },
   "source": [
    "# Simulation"
   ]
  },
  {
   "cell_type": "code",
   "execution_count": 12,
   "id": "013a320e-7230-4301-8f1b-4601964567bd",
   "metadata": {
    "execution": {
     "iopub.execute_input": "2025-08-01T13:07:43.524799Z",
     "iopub.status.busy": "2025-08-01T13:07:43.524439Z",
     "iopub.status.idle": "2025-08-01T13:07:44.459257Z",
     "shell.execute_reply": "2025-08-01T13:07:44.458799Z",
     "shell.execute_reply.started": "2025-08-01T13:07:43.524768Z"
    },
    "tags": []
   },
   "outputs": [],
   "source": [
    "re_modelsetup_s = time.localtime()\n",
    "dataset = TensorDataset(torch.tensor(np.array(adata.X), dtype=torch.float32))\n",
    "dataloader = DataLoader(dataset, batch_size=128, shuffle=True)\n",
    "\n",
    "input_dim = torch.tensor(np.array(adata.X), dtype=torch.float32).shape[1]\n",
    "model = TimeSeriesVAE(input_dim, latent_dim=15)\n",
    "re_modelsetup_e = time.localtime()"
   ]
  },
  {
   "cell_type": "code",
   "execution_count": 13,
   "id": "ac4464a7-8eda-4d55-b566-d25d7ac7e85f",
   "metadata": {
    "execution": {
     "iopub.execute_input": "2025-08-01T13:07:44.460200Z",
     "iopub.status.busy": "2025-08-01T13:07:44.460057Z",
     "iopub.status.idle": "2025-08-01T13:11:08.609619Z",
     "shell.execute_reply": "2025-08-01T13:11:08.608754Z",
     "shell.execute_reply.started": "2025-08-01T13:07:44.460186Z"
    },
    "tags": []
   },
   "outputs": [
    {
     "name": "stdout",
     "output_type": "stream",
     "text": [
      "Epoch 10/50, Loss: 12502399.0706\n",
      "Epoch 20/50, Loss: 12502220.3888\n",
      "Epoch 30/50, Loss: 12502117.2819\n",
      "Epoch 40/50, Loss: 12502037.5783\n",
      "Epoch 50/50, Loss: 12501979.6249\n"
     ]
    }
   ],
   "source": [
    "torch.manual_seed(42)\n",
    "re_modeltrain_s = time.localtime()\n",
    "trained_model = train_vae(model, dataloader, epochs=50, lr=1e-4)\n",
    "re_modeltrain_e = time.localtime()"
   ]
  },
  {
   "cell_type": "code",
   "execution_count": 14,
   "id": "ef82ca86-1c12-4366-a2a0-71b6d5ea2726",
   "metadata": {
    "execution": {
     "iopub.execute_input": "2025-08-01T13:11:08.611581Z",
     "iopub.status.busy": "2025-08-01T13:11:08.610898Z",
     "iopub.status.idle": "2025-08-01T13:11:08.680211Z",
     "shell.execute_reply": "2025-08-01T13:11:08.679767Z",
     "shell.execute_reply.started": "2025-08-01T13:11:08.611565Z"
    },
    "tags": []
   },
   "outputs": [],
   "source": [
    "save_model(trained_model, adata, '/slurm/home/yrd/liaolab/caohaoxue/embryo_work/benchmark/simulated_matrix/CS10f_CytO.pth')"
   ]
  },
  {
   "cell_type": "code",
   "execution_count": 27,
   "id": "305f1b33-f6e2-455d-af16-7fed543e1b0e",
   "metadata": {
    "execution": {
     "iopub.execute_input": "2025-08-02T02:08:20.381101Z",
     "iopub.status.busy": "2025-08-02T02:08:20.380324Z",
     "iopub.status.idle": "2025-08-02T02:08:22.458471Z",
     "shell.execute_reply": "2025-08-02T02:08:22.457861Z",
     "shell.execute_reply.started": "2025-08-02T02:08:20.381067Z"
    },
    "tags": []
   },
   "outputs": [
    {
     "name": "stdout",
     "output_type": "stream",
     "text": [
      "已从 /slurm/home/yrd/liaolab/caohaoxue/embryo_work/benchmark/simulated_matrix/CS10f_CytO.pth 加载模型\n",
      "输入维度: 8000, 潜在空间维度: 15\n"
     ]
    }
   ],
   "source": [
    "model = load_model('/slurm/home/yrd/liaolab/caohaoxue/embryo_work/benchmark/simulated_matrix/CS10f_CytO.pth')"
   ]
  },
  {
   "cell_type": "code",
   "execution_count": 28,
   "id": "8b9a8d65-7754-4ddd-9edc-90685de04e03",
   "metadata": {
    "execution": {
     "iopub.execute_input": "2025-08-02T02:08:35.679488Z",
     "iopub.status.busy": "2025-08-02T02:08:35.679043Z",
     "iopub.status.idle": "2025-08-02T02:08:45.660507Z",
     "shell.execute_reply": "2025-08-02T02:08:45.659841Z",
     "shell.execute_reply.started": "2025-08-02T02:08:35.679453Z"
    },
    "tags": []
   },
   "outputs": [],
   "source": [
    "re_sim_s = time.localtime()\n",
    "\n",
    "device = next(model.parameters()).device\n",
    "\n",
    "t1_tensor = torch.tensor(adata[adata.obs.s_e=='start'].X, dtype=torch.float32).to(device)\n",
    "t2_tensor = torch.tensor(adata[adata.obs.s_e=='end'].X, dtype=torch.float32).to(device)\n",
    "\n",
    "torch.manual_seed(42)\n",
    "with torch.no_grad():\n",
    "        z_t1, _, _ = model.encode(t1_tensor)\n",
    "        z_t2, _, _ = model.encode(t2_tensor)\n",
    "        \n",
    "latent_s = z_t1.cpu().numpy()\n",
    "latent_e = z_t2.cpu().numpy()\n",
    "latent_s = pd.DataFrame(data = latent_s, index = adata[adata.obs.s_e=='start'].obs.index)\n",
    "latent_e = pd.DataFrame(data = latent_e, index = adata[adata.obs.s_e=='end'].obs.index)\n",
    "\n",
    "distances = distance.cdist(latent_s, latent_e, metric='euclidean')\n",
    "distances = pd.DataFrame(index = adata[adata.obs.s_e=='start'].obs.index, columns = adata[adata.obs.s_e=='end'].obs.index, data = distances)\n",
    "min_dis = distances.idxmin().to_dict()\n",
    "latent_mid = pd.DataFrame(latent_e.columns).T\n",
    "for key,value in min_dis.items():\n",
    "    cell_end = latent_e.loc[key]\n",
    "    cell_start = latent_s.loc[value]\n",
    "    cell_mid = pd.DataFrame((cell_end + cell_start)/2)\n",
    "    latent_mid = np.vstack((latent_mid, cell_mid.T))\n",
    "latent_mid = latent_mid[1:, :]\n",
    "\n",
    "z_mid = torch.tensor(latent_mid, dtype=torch.float32).to(device)\n",
    "torch.manual_seed(42)\n",
    "with torch.no_grad():\n",
    "    mid_cell = model.decode(z_mid).cpu().numpy()\n",
    "    \n",
    "re_sim_e = time.localtime()"
   ]
  },
  {
   "cell_type": "code",
   "execution_count": 34,
   "id": "edaf5d4b-966b-4097-b261-d2b7ceefce9c",
   "metadata": {
    "execution": {
     "iopub.execute_input": "2025-08-02T02:09:48.967702Z",
     "iopub.status.busy": "2025-08-02T02:09:48.967213Z",
     "iopub.status.idle": "2025-08-02T02:09:48.994655Z",
     "shell.execute_reply": "2025-08-02T02:09:48.994162Z",
     "shell.execute_reply.started": "2025-08-02T02:09:48.967669Z"
    },
    "tags": []
   },
   "outputs": [],
   "source": [
    "name = new_list = [s[:-1] + \"CS10-CytO\" if s else s for s in adata[adata.obs.s_e == 'end'].obs.index]\n",
    "\n",
    "adata_interpolated = sc.AnnData(X=pd.DataFrame(data = mid_cell,\n",
    "                                              index = adata[adata.obs.s_e == 'end'].obs.index,\n",
    "                                              columns = adata[adata.obs.s_e == 'end'].var.index),\n",
    "                               obs = adata[adata.obs.s_e == 'end'].obs)\n",
    "\n",
    "adata_interpolated.var['features'] = adata_interpolated.var.index\n",
    "\n",
    "adata_interpolated.obs.time = 'CS10-CytOrigin'\n",
    "adata_interpolated.obs.s_e = 'mid'\n",
    "adata_interpolated.obs.index = name"
   ]
  },
  {
   "cell_type": "code",
   "execution_count": 18,
   "id": "f703d084-70c7-4af8-8b92-e688c93c393f",
   "metadata": {
    "execution": {
     "iopub.execute_input": "2025-08-01T13:11:16.786371Z",
     "iopub.status.busy": "2025-08-01T13:11:16.786234Z",
     "iopub.status.idle": "2025-08-01T13:11:16.793767Z",
     "shell.execute_reply": "2025-08-01T13:11:16.793414Z",
     "shell.execute_reply.started": "2025-08-01T13:11:16.786358Z"
    },
    "tags": []
   },
   "outputs": [
    {
     "data": {
      "text/html": [
       "<div>\n",
       "<style scoped>\n",
       "    .dataframe tbody tr th:only-of-type {\n",
       "        vertical-align: middle;\n",
       "    }\n",
       "\n",
       "    .dataframe tbody tr th {\n",
       "        vertical-align: top;\n",
       "    }\n",
       "\n",
       "    .dataframe thead th {\n",
       "        text-align: right;\n",
       "    }\n",
       "</style>\n",
       "<table border=\"1\" class=\"dataframe\">\n",
       "  <thead>\n",
       "    <tr style=\"text-align: right;\">\n",
       "      <th></th>\n",
       "      <th>orig.ident</th>\n",
       "      <th>nCount_RNA</th>\n",
       "      <th>nFeature_RNA</th>\n",
       "      <th>cell_type</th>\n",
       "      <th>time</th>\n",
       "      <th>merge_type</th>\n",
       "      <th>s_e</th>\n",
       "    </tr>\n",
       "  </thead>\n",
       "  <tbody>\n",
       "    <tr>\n",
       "      <th>TGGTACATCGCTGTCT-1_CS10-CytO</th>\n",
       "      <td>CS11_RNA2</td>\n",
       "      <td>1505.0</td>\n",
       "      <td>1045</td>\n",
       "      <td>Mesenchyme</td>\n",
       "      <td>CS10-CytOrigin</td>\n",
       "      <td>Mesoderm</td>\n",
       "      <td>mid</td>\n",
       "    </tr>\n",
       "    <tr>\n",
       "      <th>CTTTCAAAGAGAATCT-1_CS10-CytO</th>\n",
       "      <td>CS11_RNA2</td>\n",
       "      <td>859.0</td>\n",
       "      <td>677</td>\n",
       "      <td>Somites</td>\n",
       "      <td>CS10-CytOrigin</td>\n",
       "      <td>Mesoderm</td>\n",
       "      <td>mid</td>\n",
       "    </tr>\n",
       "    <tr>\n",
       "      <th>GTCGAATTCGCAAGAG-1_CS10-CytO</th>\n",
       "      <td>CS11_RNA2</td>\n",
       "      <td>1544.0</td>\n",
       "      <td>1088</td>\n",
       "      <td>Limb progenitor</td>\n",
       "      <td>CS10-CytOrigin</td>\n",
       "      <td>Mesoderm</td>\n",
       "      <td>mid</td>\n",
       "    </tr>\n",
       "    <tr>\n",
       "      <th>TACCTTTAGGATAAAC-1_CS10-CytO</th>\n",
       "      <td>CS11_multi_RNA</td>\n",
       "      <td>3535.0</td>\n",
       "      <td>1959</td>\n",
       "      <td>PSM</td>\n",
       "      <td>CS10-CytOrigin</td>\n",
       "      <td>Mesoderm</td>\n",
       "      <td>mid</td>\n",
       "    </tr>\n",
       "    <tr>\n",
       "      <th>GTCATTTGTACTCGAT-1_CS10-CytO</th>\n",
       "      <td>CS11_RNA1</td>\n",
       "      <td>731.0</td>\n",
       "      <td>585</td>\n",
       "      <td>Neural progenitor-PAX6+</td>\n",
       "      <td>CS10-CytOrigin</td>\n",
       "      <td>Ectoderm</td>\n",
       "      <td>mid</td>\n",
       "    </tr>\n",
       "    <tr>\n",
       "      <th>...</th>\n",
       "      <td>...</td>\n",
       "      <td>...</td>\n",
       "      <td>...</td>\n",
       "      <td>...</td>\n",
       "      <td>...</td>\n",
       "      <td>...</td>\n",
       "      <td>...</td>\n",
       "    </tr>\n",
       "    <tr>\n",
       "      <th>CAGTTCCAGCCTTGAT-1_CS10-CytO</th>\n",
       "      <td>CS11_RNA2</td>\n",
       "      <td>1071.0</td>\n",
       "      <td>720</td>\n",
       "      <td>Spinal cord</td>\n",
       "      <td>CS10-CytOrigin</td>\n",
       "      <td>Ectoderm</td>\n",
       "      <td>mid</td>\n",
       "    </tr>\n",
       "    <tr>\n",
       "      <th>CAGGTATTCTCTGGTC-1_CS10-CytO</th>\n",
       "      <td>CS11_RNA2</td>\n",
       "      <td>2275.0</td>\n",
       "      <td>1323</td>\n",
       "      <td>Limb progenitor</td>\n",
       "      <td>CS10-CytOrigin</td>\n",
       "      <td>Mesoderm</td>\n",
       "      <td>mid</td>\n",
       "    </tr>\n",
       "    <tr>\n",
       "      <th>GATTTCTGTACCTTCC-1_CS10-CytO</th>\n",
       "      <td>CS11_RNA2</td>\n",
       "      <td>1599.0</td>\n",
       "      <td>1019</td>\n",
       "      <td>Splanchnic LPM</td>\n",
       "      <td>CS10-CytOrigin</td>\n",
       "      <td>Mesoderm</td>\n",
       "      <td>mid</td>\n",
       "    </tr>\n",
       "    <tr>\n",
       "      <th>CTCAAGAAGCTTCGTA-1_CS10-CytO</th>\n",
       "      <td>CS11_RNA1</td>\n",
       "      <td>1602.0</td>\n",
       "      <td>1122</td>\n",
       "      <td>Spinal cord</td>\n",
       "      <td>CS10-CytOrigin</td>\n",
       "      <td>Ectoderm</td>\n",
       "      <td>mid</td>\n",
       "    </tr>\n",
       "    <tr>\n",
       "      <th>GACCGTGAGCGTTAGG-1_CS10-CytO</th>\n",
       "      <td>CS11_RNA1</td>\n",
       "      <td>1135.0</td>\n",
       "      <td>885</td>\n",
       "      <td>Myotome</td>\n",
       "      <td>CS10-CytOrigin</td>\n",
       "      <td>Mesoderm</td>\n",
       "      <td>mid</td>\n",
       "    </tr>\n",
       "  </tbody>\n",
       "</table>\n",
       "<p>16031 rows × 7 columns</p>\n",
       "</div>"
      ],
      "text/plain": [
       "                                  orig.ident  nCount_RNA  nFeature_RNA  \\\n",
       "TGGTACATCGCTGTCT-1_CS10-CytO       CS11_RNA2      1505.0          1045   \n",
       "CTTTCAAAGAGAATCT-1_CS10-CytO       CS11_RNA2       859.0           677   \n",
       "GTCGAATTCGCAAGAG-1_CS10-CytO       CS11_RNA2      1544.0          1088   \n",
       "TACCTTTAGGATAAAC-1_CS10-CytO  CS11_multi_RNA      3535.0          1959   \n",
       "GTCATTTGTACTCGAT-1_CS10-CytO       CS11_RNA1       731.0           585   \n",
       "...                                      ...         ...           ...   \n",
       "CAGTTCCAGCCTTGAT-1_CS10-CytO       CS11_RNA2      1071.0           720   \n",
       "CAGGTATTCTCTGGTC-1_CS10-CytO       CS11_RNA2      2275.0          1323   \n",
       "GATTTCTGTACCTTCC-1_CS10-CytO       CS11_RNA2      1599.0          1019   \n",
       "CTCAAGAAGCTTCGTA-1_CS10-CytO       CS11_RNA1      1602.0          1122   \n",
       "GACCGTGAGCGTTAGG-1_CS10-CytO       CS11_RNA1      1135.0           885   \n",
       "\n",
       "                                            cell_type            time  \\\n",
       "TGGTACATCGCTGTCT-1_CS10-CytO               Mesenchyme  CS10-CytOrigin   \n",
       "CTTTCAAAGAGAATCT-1_CS10-CytO                  Somites  CS10-CytOrigin   \n",
       "GTCGAATTCGCAAGAG-1_CS10-CytO          Limb progenitor  CS10-CytOrigin   \n",
       "TACCTTTAGGATAAAC-1_CS10-CytO                      PSM  CS10-CytOrigin   \n",
       "GTCATTTGTACTCGAT-1_CS10-CytO  Neural progenitor-PAX6+  CS10-CytOrigin   \n",
       "...                                               ...             ...   \n",
       "CAGTTCCAGCCTTGAT-1_CS10-CytO              Spinal cord  CS10-CytOrigin   \n",
       "CAGGTATTCTCTGGTC-1_CS10-CytO          Limb progenitor  CS10-CytOrigin   \n",
       "GATTTCTGTACCTTCC-1_CS10-CytO           Splanchnic LPM  CS10-CytOrigin   \n",
       "CTCAAGAAGCTTCGTA-1_CS10-CytO              Spinal cord  CS10-CytOrigin   \n",
       "GACCGTGAGCGTTAGG-1_CS10-CytO                  Myotome  CS10-CytOrigin   \n",
       "\n",
       "                             merge_type  s_e  \n",
       "TGGTACATCGCTGTCT-1_CS10-CytO   Mesoderm  mid  \n",
       "CTTTCAAAGAGAATCT-1_CS10-CytO   Mesoderm  mid  \n",
       "GTCGAATTCGCAAGAG-1_CS10-CytO   Mesoderm  mid  \n",
       "TACCTTTAGGATAAAC-1_CS10-CytO   Mesoderm  mid  \n",
       "GTCATTTGTACTCGAT-1_CS10-CytO   Ectoderm  mid  \n",
       "...                                 ...  ...  \n",
       "CAGTTCCAGCCTTGAT-1_CS10-CytO   Ectoderm  mid  \n",
       "CAGGTATTCTCTGGTC-1_CS10-CytO   Mesoderm  mid  \n",
       "GATTTCTGTACCTTCC-1_CS10-CytO   Mesoderm  mid  \n",
       "CTCAAGAAGCTTCGTA-1_CS10-CytO   Ectoderm  mid  \n",
       "GACCGTGAGCGTTAGG-1_CS10-CytO   Mesoderm  mid  \n",
       "\n",
       "[16031 rows x 7 columns]"
      ]
     },
     "execution_count": 18,
     "metadata": {},
     "output_type": "execute_result"
    }
   ],
   "source": [
    "adata_interpolated.obs"
   ]
  },
  {
   "cell_type": "code",
   "execution_count": 19,
   "id": "8953cf43-460c-424d-a99d-0de217c1f7d5",
   "metadata": {
    "execution": {
     "iopub.execute_input": "2025-08-01T13:11:16.794337Z",
     "iopub.status.busy": "2025-08-01T13:11:16.794207Z",
     "iopub.status.idle": "2025-08-01T13:11:17.247728Z",
     "shell.execute_reply": "2025-08-01T13:11:17.247372Z",
     "shell.execute_reply.started": "2025-08-01T13:11:16.794325Z"
    },
    "tags": []
   },
   "outputs": [
    {
     "name": "stderr",
     "output_type": "stream",
     "text": [
      "/tmp/ipykernel_30545/3471468414.py:5: FutureWarning: \n",
      "\n",
      "Passing `palette` without assigning `hue` is deprecated and will be removed in v0.14.0. Assign the `x` variable to `hue` and set `legend=False` for the same effect.\n",
      "\n",
      "  sns.violinplot(\n"
     ]
    },
    {
     "data": {
      "text/plain": [
       "<Axes: xlabel='time', ylabel='n_zero_genes'>"
      ]
     },
     "execution_count": 19,
     "metadata": {},
     "output_type": "execute_result"
    },
    {
     "data": {
      "image/png": "[encoded data removed]",
      "text/plain": [
       "<Figure size 640x480 with 1 Axes>"
      ]
     },
     "metadata": {},
     "output_type": "display_data"
    }
   ],
   "source": [
    "X = adata.X\n",
    "zeros_per_cell = (X == 0).sum(axis=1)/len(adata.var.index)\n",
    "adata.X.sum(axis = 1)\n",
    "adata.obs['n_zero_genes'] = zeros_per_cell\n",
    "sns.violinplot(\n",
    "    x=\"time\",\n",
    "    y=\"n_zero_genes\",\n",
    "    data=adata.obs,\n",
    "    inner=\"quartile\",\n",
    "    cut=0,\n",
    "    saturation=1\n",
    ")"
   ]
  },
  {
   "cell_type": "code",
   "execution_count": 35,
   "id": "602d464f-4779-46ab-a5f7-5fd9e2d7b6ca",
   "metadata": {
    "execution": {
     "iopub.execute_input": "2025-08-02T02:09:54.539341Z",
     "iopub.status.busy": "2025-08-02T02:09:54.539126Z",
     "iopub.status.idle": "2025-08-02T02:09:59.227630Z",
     "shell.execute_reply": "2025-08-02T02:09:59.227204Z",
     "shell.execute_reply.started": "2025-08-02T02:09:54.539327Z"
    },
    "tags": []
   },
   "outputs": [
    {
     "name": "stderr",
     "output_type": "stream",
     "text": [
      "/tmp/ipykernel_30545/404377762.py:10: FutureWarning: \n",
      "\n",
      "Passing `palette` without assigning `hue` is deprecated and will be removed in v0.14.0. Assign the `x` variable to `hue` and set `legend=False` for the same effect.\n",
      "\n",
      "  sns.violinplot(\n"
     ]
    },
    {
     "data": {
      "image/png": "[encoded data removed]",
      "text/plain": [
       "<Figure size 640x480 with 1 Axes>"
      ]
     },
     "metadata": {},
     "output_type": "display_data"
    }
   ],
   "source": [
    "re_cor_s = time.localtime()\n",
    "sc.pp.normalize_total(adata_interpolated, target_sum=2.4e4)\n",
    "adata_interpolated.X = reduce_total_expression(adata_interpolated.X, target_sum=1e4)\n",
    "\n",
    "X = adata_interpolated.X\n",
    "zeros_per_cell = (X == 0).sum(axis=1)/len(adata_interpolated.var.index)\n",
    "adata_interpolated.X.sum(axis = 1)\n",
    "adata_interpolated.obs['n_zero_genes'] = zeros_per_cell\n",
    "\n",
    "sns.violinplot(\n",
    "    x=\"time\",\n",
    "    y=\"n_zero_genes\",\n",
    "    data=adata_interpolated.obs,\n",
    "    palette=\"Set1\",\n",
    "    inner=\"quartile\",\n",
    "    cut=2,\n",
    "    saturation=1\n",
    ")\n",
    "re_cor_e = time.localtime()"
   ]
  },
  {
   "cell_type": "markdown",
   "id": "f7103121-8014-4ab3-90dc-497c1c9433e7",
   "metadata": {},
   "source": [
    "# Output"
   ]
  },
  {
   "cell_type": "code",
   "execution_count": 24,
   "id": "8c8ead46-d314-4c66-83b9-d664353cc448",
   "metadata": {
    "execution": {
     "iopub.execute_input": "2025-08-01T13:12:51.242866Z",
     "iopub.status.busy": "2025-08-01T13:12:51.242487Z",
     "iopub.status.idle": "2025-08-01T13:12:51.247829Z",
     "shell.execute_reply": "2025-08-01T13:12:51.247415Z",
     "shell.execute_reply.started": "2025-08-01T13:12:51.242841Z"
    },
    "tags": []
   },
   "outputs": [],
   "source": [
    "time_records = pd.DataFrame(data = [re_modelsetup_s,re_modelsetup_e,re_modeltrain_s,re_modeltrain_e,re_sim_s,re_sim_e,re_cor_s,re_cor_e],\n",
    "                           index = ['modelsetup_s','modelsetup_e','modeltrain_s','modeltrain_e','simulation_s','simulation_e','correction_s','correction_e'],\n",
    "                           columns = ['year', 'mon', 'mday', 'hour', 'min', 'sec', 'wday', 'yday', 'isdst'])"
   ]
  },
  {
   "cell_type": "code",
   "execution_count": 24,
   "id": "04e30131-b1d2-4d80-ad7d-0c4ae86b796a",
   "metadata": {
    "execution": {
     "iopub.execute_input": "2025-08-01T13:07:07.255018Z",
     "iopub.status.busy": "2025-08-01T13:07:07.254753Z",
     "iopub.status.idle": "2025-08-01T13:07:07.258838Z",
     "shell.execute_reply": "2025-08-01T13:07:07.258092Z",
     "shell.execute_reply.started": "2025-08-01T13:07:07.255003Z"
    },
    "tags": []
   },
   "outputs": [],
   "source": [
    "adata_interpolated.obs = adata_interpolated.obs.drop(columns = 'orig.ident')"
   ]
  },
  {
   "cell_type": "code",
   "execution_count": 25,
   "id": "c530e983-b209-4337-8c35-26e4f9bd4d30",
   "metadata": {
    "execution": {
     "iopub.execute_input": "2025-08-01T13:07:10.066501Z",
     "iopub.status.busy": "2025-08-01T13:07:10.065956Z",
     "iopub.status.idle": "2025-08-01T13:07:10.071151Z",
     "shell.execute_reply": "2025-08-01T13:07:10.070463Z",
     "shell.execute_reply.started": "2025-08-01T13:07:10.066469Z"
    },
    "tags": []
   },
   "outputs": [],
   "source": [
    "adata_interpolated.obs = adata_interpolated.obs.drop(columns = 'batch')"
   ]
  },
  {
   "cell_type": "code",
   "execution_count": 25,
   "id": "31f5fd59-0d6b-4ae8-83a2-fc2ba2011b69",
   "metadata": {
    "execution": {
     "iopub.execute_input": "2025-08-01T13:13:01.034027Z",
     "iopub.status.busy": "2025-08-01T13:13:01.033757Z",
     "iopub.status.idle": "2025-08-01T13:13:01.371485Z",
     "shell.execute_reply": "2025-08-01T13:13:01.370976Z",
     "shell.execute_reply.started": "2025-08-01T13:13:01.034013Z"
    },
    "tags": []
   },
   "outputs": [],
   "source": [
    "time_records.to_csv('/slurm/home/yrd/liaolab/caohaoxue/embryo_work/benchmark/simulated_matrix/CS10f_CytO_time.csv')\n",
    "adata_interpolated.write_h5ad('/slurm/home/yrd/liaolab/caohaoxue/embryo_work/benchmark/simulated_matrix/h5ad_format/CS10f_CytO.h5ad')"
   ]
  },
  {
   "cell_type": "code",
   "execution_count": null,
   "id": "1e3cf5d5-9f91-4ef3-88fe-6dbc205fa249",
   "metadata": {},
   "outputs": [],
   "source": []
  }
 ],
 "metadata": {
  "kernelspec": {
   "display_name": "my_env",
   "language": "python",
   "name": "my_env"
  },
  "language_info": {
   "codemirror_mode": {
    "name": "ipython",
    "version": 3
   },
   "file_extension": ".py",
   "mimetype": "text/x-python",
   "name": "python",
   "nbconvert_exporter": "python",
   "pygments_lexer": "ipython3",
   "version": "3.13.2"
  }
 },
 "nbformat": 4,
 "nbformat_minor": 5
}
