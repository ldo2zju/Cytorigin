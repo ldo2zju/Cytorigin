{
 "cells": [
  {
   "cell_type": "code",
   "execution_count": 2,
   "id": "d7b2da34-b188-4ba5-a9bf-989cc18aa060",
   "metadata": {
    "execution": {
     "iopub.execute_input": "2025-07-30T05:58:30.012607Z",
     "iopub.status.busy": "2025-07-30T05:58:30.011727Z",
     "iopub.status.idle": "2025-07-30T05:59:20.706881Z",
     "shell.execute_reply": "2025-07-30T05:59:20.705997Z",
     "shell.execute_reply.started": "2025-07-30T05:58:30.012565Z"
    },
    "tags": []
   },
   "outputs": [
    {
     "name": "stderr",
     "output_type": "stream",
     "text": [
      "/slurm/home/yrd/liaolab/caohaoxue/anaconda3/envs/my_env/lib/python3.13/site-packages/tqdm/auto.py:21: TqdmWarning: IProgress not found. Please update jupyter and ipywidgets. See https://ipywidgets.readthedocs.io/en/stable/user_install.html\n",
      "  from .autonotebook import tqdm as notebook_tqdm\n"
     ]
    }
   ],
   "source": [
    "import scanpy as sc\n",
    "import anndata as an\n",
    "import pandas as pd\n",
    "import numpy as np\n",
    "import scipy\n",
    "import bbknn\n",
    "import harmonypy as hm\n",
    "from scipy.io import mmread"
   ]
  },
  {
   "cell_type": "markdown",
   "id": "35f404a2-b0f2-434c-9270-92478e745acc",
   "metadata": {
    "tags": []
   },
   "source": [
    "# Anndata to matrix"
   ]
  },
  {
   "cell_type": "code",
   "execution_count": 3,
   "id": "2f085428-3b61-4c22-bc17-e29134ebd57c",
   "metadata": {
    "execution": {
     "iopub.execute_input": "2025-07-30T05:59:33.703028Z",
     "iopub.status.busy": "2025-07-30T05:59:33.701589Z",
     "iopub.status.idle": "2025-07-30T06:00:20.703695Z",
     "shell.execute_reply": "2025-07-30T06:00:20.702964Z",
     "shell.execute_reply.started": "2025-07-30T05:59:33.702973Z"
    },
    "tags": []
   },
   "outputs": [],
   "source": [
    "Z2CS7 = sc.read_h5ad('/slurm/home/yrd/liaolab/caohaoxue/embryo_work/data_standard/Zygote_to_CS7.h5ad')\n",
    "CS7 = sc.read_h5ad('/slurm/home/yrd/liaolab/caohaoxue/embryo_work/data_standard/CS7.h5ad')\n",
    "CS9 = sc.read_h5ad('/slurm/home/yrd/liaolab/caohaoxue/embryo_work/data_standard/CS9.h5ad')\n",
    "CS10 = sc.read_h5ad('/slurm/home/yrd/liaolab/caohaoxue/embryo_work/data_standard/CS10.h5ad')\n",
    "CS11 = sc.read_h5ad('/slurm/home/yrd/liaolab/caohaoxue/embryo_work/data_standard/CS11.h5ad')\n",
    "CS12_16 = sc.read_h5ad('/slurm/home/yrd/liaolab/caohaoxue/embryo_work/data_standard/CS12_to_CS16.h5ad')"
   ]
  },
  {
   "cell_type": "code",
   "execution_count": 8,
   "id": "024d54d8-0406-4ccf-856b-aae5b3850614",
   "metadata": {
    "collapsed": true,
    "execution": {
     "iopub.execute_input": "2025-07-26T04:10:53.627458Z",
     "iopub.status.busy": "2025-07-26T04:10:53.626781Z",
     "iopub.status.idle": "2025-07-26T04:10:54.405710Z",
     "shell.execute_reply": "2025-07-26T04:10:54.405180Z",
     "shell.execute_reply.started": "2025-07-26T04:10:53.627426Z"
    },
    "jupyter": {
     "outputs_hidden": true
    },
    "tags": []
   },
   "outputs": [
    {
     "name": "stdout",
     "output_type": "stream",
     "text": [
      "Z2CS7  [4082.6748 4121.707  4336.3438 ... 2826.0564 3987.292  4047.2817] CS7  [3758.31794021 4274.12415777 4054.03767242 ... 2982.75165242 4059.02975134\n",
      " 4125.48255333] CS9  [2111.5781 1301.4359 4299.1523 ... 1908.2448 4266.2554 3133.8875] CS10  [3210.5    2927.426  3147.4294 ... 2467.341  3145.186  3132.8608] CS11  [[2045.69773818]\n",
      " [1979.42957792]\n",
      " [1453.33211476]\n",
      " ...\n",
      " [2455.05321505]\n",
      " [ 977.92268426]\n",
      " [1196.80710124]] CS12  [[2966.92131992]\n",
      " [2882.42488264]\n",
      " [3106.21975221]\n",
      " ...\n",
      " [1361.38608036]\n",
      " [2363.77271873]\n",
      " [2646.02393157]]\n"
     ]
    }
   ],
   "source": [
    "print(\"Z2CS7 \",Z2CS7.X.sum(axis = 1),\n",
    "      \"CS7 \",CS7.X.sum(axis = 1),\n",
    "      \"CS9 \",CS9.X.sum(axis = 1),\n",
    "      \"CS10 \",CS10.X.sum(axis = 1),\n",
    "      \"CS11 \",CS11.X.sum(axis = 1),\n",
    "      \"CS12 \",CS12_16.X.sum(axis = 1))"
   ]
  },
  {
   "cell_type": "code",
   "execution_count": 35,
   "id": "9da69d48-4afd-4724-b7cd-eeaf1e039c1a",
   "metadata": {
    "collapsed": true,
    "execution": {
     "iopub.execute_input": "2025-07-26T08:23:34.973272Z",
     "iopub.status.busy": "2025-07-26T08:23:34.972763Z",
     "iopub.status.idle": "2025-07-26T08:23:34.983202Z",
     "shell.execute_reply": "2025-07-26T08:23:34.982533Z",
     "shell.execute_reply.started": "2025-07-26T08:23:34.973242Z"
    },
    "jupyter": {
     "outputs_hidden": true
    },
    "tags": []
   },
   "outputs": [
    {
     "data": {
      "text/html": [
       "<div>\n",
       "<style scoped>\n",
       "    .dataframe tbody tr th:only-of-type {\n",
       "        vertical-align: middle;\n",
       "    }\n",
       "\n",
       "    .dataframe tbody tr th {\n",
       "        vertical-align: top;\n",
       "    }\n",
       "\n",
       "    .dataframe thead th {\n",
       "        text-align: right;\n",
       "    }\n",
       "</style>\n",
       "<table border=\"1\" class=\"dataframe\">\n",
       "  <thead>\n",
       "    <tr style=\"text-align: right;\">\n",
       "      <th></th>\n",
       "      <th>features</th>\n",
       "    </tr>\n",
       "    <tr>\n",
       "      <th>features</th>\n",
       "      <th></th>\n",
       "    </tr>\n",
       "  </thead>\n",
       "  <tbody>\n",
       "    <tr>\n",
       "      <th>AL627309.1</th>\n",
       "      <td>AL627309.1</td>\n",
       "    </tr>\n",
       "    <tr>\n",
       "      <th>AL627309.3</th>\n",
       "      <td>AL627309.3</td>\n",
       "    </tr>\n",
       "    <tr>\n",
       "      <th>AC114498.1</th>\n",
       "      <td>AC114498.1</td>\n",
       "    </tr>\n",
       "    <tr>\n",
       "      <th>AL669831.5</th>\n",
       "      <td>AL669831.5</td>\n",
       "    </tr>\n",
       "    <tr>\n",
       "      <th>FAM87B</th>\n",
       "      <td>FAM87B</td>\n",
       "    </tr>\n",
       "    <tr>\n",
       "      <th>...</th>\n",
       "      <td>...</td>\n",
       "    </tr>\n",
       "    <tr>\n",
       "      <th>U62317.5</th>\n",
       "      <td>U62317.5</td>\n",
       "    </tr>\n",
       "    <tr>\n",
       "      <th>FP475955.3</th>\n",
       "      <td>FP475955.3</td>\n",
       "    </tr>\n",
       "    <tr>\n",
       "      <th>LINC01436</th>\n",
       "      <td>LINC01436</td>\n",
       "    </tr>\n",
       "    <tr>\n",
       "      <th>KRTAP10-5</th>\n",
       "      <td>KRTAP10-5</td>\n",
       "    </tr>\n",
       "    <tr>\n",
       "      <th>LINC00165</th>\n",
       "      <td>LINC00165</td>\n",
       "    </tr>\n",
       "  </tbody>\n",
       "</table>\n",
       "<p>28866 rows × 1 columns</p>\n",
       "</div>"
      ],
      "text/plain": [
       "              features\n",
       "features              \n",
       "AL627309.1  AL627309.1\n",
       "AL627309.3  AL627309.3\n",
       "AC114498.1  AC114498.1\n",
       "AL669831.5  AL669831.5\n",
       "FAM87B          FAM87B\n",
       "...                ...\n",
       "U62317.5      U62317.5\n",
       "FP475955.3  FP475955.3\n",
       "LINC01436    LINC01436\n",
       "KRTAP10-5    KRTAP10-5\n",
       "LINC00165    LINC00165\n",
       "\n",
       "[28866 rows x 1 columns]"
      ]
     },
     "execution_count": 35,
     "metadata": {},
     "output_type": "execute_result"
    }
   ],
   "source": [
    "Z2CS7.var.columns = [\"features\"]\n",
    "Z2CS7.var.index = Z2CS7.var.features\n",
    "Z2CS7.var"
   ]
  },
  {
   "cell_type": "code",
   "execution_count": 9,
   "id": "f89496f6-0d9a-42e2-b69b-cb974be2206a",
   "metadata": {
    "execution": {
     "iopub.execute_input": "2025-07-27T09:15:56.800998Z",
     "iopub.status.busy": "2025-07-27T09:15:56.800147Z",
     "iopub.status.idle": "2025-07-27T09:15:56.806447Z",
     "shell.execute_reply": "2025-07-27T09:15:56.805793Z",
     "shell.execute_reply.started": "2025-07-27T09:15:56.800963Z"
    },
    "tags": []
   },
   "outputs": [],
   "source": [
    "CS10.var.columns = [\"features\"]\n",
    "CS10.var.index = CS10.var.features\n",
    "CS10.var\n",
    "\n",
    "CS10.obs['time'] = \"CS10\""
   ]
  },
  {
   "cell_type": "code",
   "execution_count": 13,
   "id": "e164da57-ffce-448a-a6dd-178413bace0a",
   "metadata": {
    "execution": {
     "iopub.execute_input": "2025-07-26T07:28:21.654473Z",
     "iopub.status.busy": "2025-07-26T07:28:21.654145Z",
     "iopub.status.idle": "2025-07-26T07:28:21.944706Z",
     "shell.execute_reply": "2025-07-26T07:28:21.944185Z",
     "shell.execute_reply.started": "2025-07-26T07:28:21.654450Z"
    },
    "tags": []
   },
   "outputs": [
    {
     "data": {
      "image/png": "[encoded data removed]",
      "text/plain": [
       "<Figure size 640x480 with 1 Axes>"
      ]
     },
     "metadata": {},
     "output_type": "display_data"
    }
   ],
   "source": [
    "sc.pl.umap(Z2CS7,color = 'time')"
   ]
  },
  {
   "cell_type": "code",
   "execution_count": 42,
   "id": "d3d44cd7-3f1a-4910-b937-2c41696904f0",
   "metadata": {
    "execution": {
     "iopub.execute_input": "2025-07-26T08:24:30.135256Z",
     "iopub.status.busy": "2025-07-26T08:24:30.134460Z",
     "iopub.status.idle": "2025-07-26T08:24:30.158912Z",
     "shell.execute_reply": "2025-07-26T08:24:30.158237Z",
     "shell.execute_reply.started": "2025-07-26T08:24:30.135223Z"
    },
    "tags": []
   },
   "outputs": [],
   "source": [
    "E14 = Z2CS7[Z2CS7.obs.time == 'E14']\n",
    "E12 = Z2CS7[Z2CS7.obs.time == 'E12']\n",
    "E10 = Z2CS7[Z2CS7.obs.time == 'E10']\n",
    "E9 = Z2CS7[Z2CS7.obs.time == 'E9']\n",
    "E8 = Z2CS7[Z2CS7.obs.time == 'E8']\n",
    "E7 = Z2CS7[Z2CS7.obs.time == 'E7']"
   ]
  },
  {
   "cell_type": "code",
   "execution_count": 10,
   "id": "84af36f8-ace3-43d1-baad-bb66a3869c55",
   "metadata": {
    "execution": {
     "iopub.execute_input": "2025-07-27T09:16:04.285524Z",
     "iopub.status.busy": "2025-07-27T09:16:04.284999Z",
     "iopub.status.idle": "2025-07-27T09:16:04.413687Z",
     "shell.execute_reply": "2025-07-27T09:16:04.413018Z",
     "shell.execute_reply.started": "2025-07-27T09:16:04.285483Z"
    },
    "tags": []
   },
   "outputs": [],
   "source": [
    "CS12 = CS12_16[CS12_16.obs.time == 'CS12']"
   ]
  },
  {
   "cell_type": "code",
   "execution_count": 76,
   "id": "4221012c-9193-454e-9f51-71df1c5a51fd",
   "metadata": {
    "execution": {
     "iopub.execute_input": "2025-07-26T10:20:55.183972Z",
     "iopub.status.busy": "2025-07-26T10:20:55.183410Z",
     "iopub.status.idle": "2025-07-26T10:20:55.188693Z",
     "shell.execute_reply": "2025-07-26T10:20:55.188071Z",
     "shell.execute_reply.started": "2025-07-26T10:20:55.183941Z"
    }
   },
   "outputs": [
    {
     "data": {
      "text/plain": [
       "AnnData object with n_obs × n_vars = 41833 × 41374\n",
       "    obs: 'orig.ident', 'nCount_RNA', 'nFeature_RNA', 'cell_type', 'time', 'merge_type'\n",
       "    var: 'features'\n",
       "    uns: 'cell_type_colors', 'log1p', 'merge_type_colors', 'orig.ident_colors'\n",
       "    obsm: 'X_umap'\n",
       "    layers: 'counts'"
      ]
     },
     "execution_count": 76,
     "metadata": {},
     "output_type": "execute_result"
    }
   ],
   "source": [
    "CS11"
   ]
  },
  {
   "cell_type": "code",
   "execution_count": 16,
   "id": "8996def5-e6cc-49a1-a078-53704afb0d91",
   "metadata": {
    "execution": {
     "iopub.execute_input": "2025-07-26T10:33:17.570184Z",
     "iopub.status.busy": "2025-07-26T10:33:17.569406Z",
     "iopub.status.idle": "2025-07-26T10:33:17.575266Z",
     "shell.execute_reply": "2025-07-26T10:33:17.574582Z",
     "shell.execute_reply.started": "2025-07-26T10:33:17.570149Z"
    }
   },
   "outputs": [
    {
     "data": {
      "text/plain": [
       "View of AnnData object with n_obs × n_vars = 21974 × 32345\n",
       "    obs: 'cell_type', 'embryo', 'time'\n",
       "    var: 'features'\n",
       "    uns: 'log1p'\n",
       "    layers: 'counts'"
      ]
     },
     "execution_count": 16,
     "metadata": {},
     "output_type": "execute_result"
    }
   ],
   "source": [
    "CS12"
   ]
  },
  {
   "cell_type": "code",
   "execution_count": 3,
   "id": "7bf77a75-4f82-4f00-8fc8-6492f3d307f6",
   "metadata": {
    "execution": {
     "iopub.execute_input": "2025-07-26T10:26:47.288331Z",
     "iopub.status.busy": "2025-07-26T10:26:47.287847Z",
     "iopub.status.idle": "2025-07-26T10:26:47.345791Z",
     "shell.execute_reply": "2025-07-26T10:26:47.344956Z",
     "shell.execute_reply.started": "2025-07-26T10:26:47.288295Z"
    },
    "tags": []
   },
   "outputs": [
    {
     "data": {
      "text/plain": [
       "View of AnnData object with n_obs × n_vars = 40078 × 41374\n",
       "    obs: 'orig.ident', 'nCount_RNA', 'nFeature_RNA', 'cell_type', 'time', 'merge_type'\n",
       "    var: 'features'\n",
       "    uns: 'cell_type_colors', 'log1p', 'merge_type_colors', 'orig.ident_colors'\n",
       "    obsm: 'X_umap'\n",
       "    layers: 'counts'"
      ]
     },
     "execution_count": 3,
     "metadata": {},
     "output_type": "execute_result"
    }
   ],
   "source": [
    "CS11 = CS11[CS11.obs['nCount_RNA'] > 500, :]\n",
    "CS11"
   ]
  },
  {
   "cell_type": "code",
   "execution_count": 4,
   "id": "0c7db02a-6744-4d6d-b955-0e34cf5210e2",
   "metadata": {
    "execution": {
     "iopub.execute_input": "2025-07-26T10:26:53.243529Z",
     "iopub.status.busy": "2025-07-26T10:26:53.243096Z",
     "iopub.status.idle": "2025-07-26T10:26:54.529382Z",
     "shell.execute_reply": "2025-07-26T10:26:54.528817Z",
     "shell.execute_reply.started": "2025-07-26T10:26:53.243497Z"
    },
    "tags": []
   },
   "outputs": [],
   "source": [
    "np.random.seed(0)\n",
    "n_cells = CS11.n_obs\n",
    "keep_indices = np.random.choice(n_cells, size=int(n_cells * 0.4), replace=False)\n",
    "CS11_sampled = CS11[keep_indices, :].copy()"
   ]
  },
  {
   "cell_type": "code",
   "execution_count": 5,
   "id": "dcf780f5-6530-4442-a33b-16b2fbcb7ee2",
   "metadata": {
    "execution": {
     "iopub.execute_input": "2025-07-26T10:26:56.266129Z",
     "iopub.status.busy": "2025-07-26T10:26:56.265913Z",
     "iopub.status.idle": "2025-07-26T10:26:56.270695Z",
     "shell.execute_reply": "2025-07-26T10:26:56.270121Z",
     "shell.execute_reply.started": "2025-07-26T10:26:56.266115Z"
    },
    "tags": []
   },
   "outputs": [
    {
     "data": {
      "text/plain": [
       "AnnData object with n_obs × n_vars = 16031 × 41374\n",
       "    obs: 'orig.ident', 'nCount_RNA', 'nFeature_RNA', 'cell_type', 'time', 'merge_type'\n",
       "    var: 'features'\n",
       "    uns: 'cell_type_colors', 'log1p', 'merge_type_colors', 'orig.ident_colors'\n",
       "    obsm: 'X_umap'\n",
       "    layers: 'counts'"
      ]
     },
     "execution_count": 5,
     "metadata": {},
     "output_type": "execute_result"
    }
   ],
   "source": [
    "CS11_sampled"
   ]
  },
  {
   "cell_type": "code",
   "execution_count": 11,
   "id": "8d4ade25-f25d-4ed7-8b26-35df8aecef73",
   "metadata": {
    "execution": {
     "iopub.execute_input": "2025-07-27T09:16:12.439418Z",
     "iopub.status.busy": "2025-07-27T09:16:12.439111Z",
     "iopub.status.idle": "2025-07-27T09:16:37.229584Z",
     "shell.execute_reply": "2025-07-27T09:16:37.229043Z",
     "shell.execute_reply.started": "2025-07-27T09:16:12.439396Z"
    },
    "tags": []
   },
   "outputs": [
    {
     "data": {
      "text/plain": [
       "View of AnnData object with n_obs × n_vars = 34297 × 8000\n",
       "    obs: 'orig.ident', 'nCount_RNA', 'nFeature_RNA', 'cell_type', 'clusters', 'merge_type', 'time', 'developmental system', 'embryo'\n",
       "    var: 'n_cells', 'highly_variable', 'means', 'dispersions', 'dispersions_norm'\n",
       "    uns: 'hvg'\n",
       "    obsm: 'X_UMAP', 'X_pca', 'X_umap'\n",
       "    layers: 'counts'"
      ]
     },
     "execution_count": 11,
     "metadata": {},
     "output_type": "execute_result"
    }
   ],
   "source": [
    "adata = sc.concat([CS10,CS12],\n",
    "                 join = 'outer',\n",
    "                 fill_value=0,\n",
    "                 index_unique='-')\n",
    "sc.pp.filter_genes(adata, min_cells = 3)\n",
    "sc.pp.highly_variable_genes(adata, n_top_genes = 8000)\n",
    "adata = adata[:, adata.var.highly_variable]\n",
    "adata"
   ]
  },
  {
   "cell_type": "code",
   "execution_count": 12,
   "id": "55d1b190-95fc-495a-b4f9-d93e06b8693f",
   "metadata": {
    "execution": {
     "iopub.execute_input": "2025-07-27T09:16:37.230438Z",
     "iopub.status.busy": "2025-07-27T09:16:37.230294Z",
     "iopub.status.idle": "2025-07-27T09:16:37.241057Z",
     "shell.execute_reply": "2025-07-27T09:16:37.240577Z",
     "shell.execute_reply.started": "2025-07-27T09:16:37.230424Z"
    },
    "tags": []
   },
   "outputs": [
    {
     "data": {
      "text/html": [
       "<div>\n",
       "<style scoped>\n",
       "    .dataframe tbody tr th:only-of-type {\n",
       "        vertical-align: middle;\n",
       "    }\n",
       "\n",
       "    .dataframe tbody tr th {\n",
       "        vertical-align: top;\n",
       "    }\n",
       "\n",
       "    .dataframe thead th {\n",
       "        text-align: right;\n",
       "    }\n",
       "</style>\n",
       "<table border=\"1\" class=\"dataframe\">\n",
       "  <thead>\n",
       "    <tr style=\"text-align: right;\">\n",
       "      <th></th>\n",
       "      <th>orig.ident</th>\n",
       "      <th>nCount_RNA</th>\n",
       "      <th>nFeature_RNA</th>\n",
       "      <th>cell_type</th>\n",
       "      <th>clusters</th>\n",
       "      <th>merge_type</th>\n",
       "      <th>time</th>\n",
       "      <th>developmental system</th>\n",
       "      <th>embryo</th>\n",
       "    </tr>\n",
       "  </thead>\n",
       "  <tbody>\n",
       "    <tr>\n",
       "      <th>AAACCTGAGAATGTTG-1-0</th>\n",
       "      <td>0.0</td>\n",
       "      <td>14533.0</td>\n",
       "      <td>3468.0</td>\n",
       "      <td>Lateral plate Mesoderm 1</td>\n",
       "      <td>0.0</td>\n",
       "      <td>Mesoderm</td>\n",
       "      <td>CS10</td>\n",
       "      <td>NaN</td>\n",
       "      <td>NaN</td>\n",
       "    </tr>\n",
       "    <tr>\n",
       "      <th>AAACCTGAGCCAGAAC-1-0</th>\n",
       "      <td>0.0</td>\n",
       "      <td>22344.0</td>\n",
       "      <td>3874.0</td>\n",
       "      <td>Neural tbue 1</td>\n",
       "      <td>6.0</td>\n",
       "      <td>Ectoderm</td>\n",
       "      <td>CS10</td>\n",
       "      <td>NaN</td>\n",
       "      <td>NaN</td>\n",
       "    </tr>\n",
       "    <tr>\n",
       "      <th>AAACCTGAGGCAGTCA-1-0</th>\n",
       "      <td>0.0</td>\n",
       "      <td>31685.0</td>\n",
       "      <td>4640.0</td>\n",
       "      <td>Intermediate Mesoderm</td>\n",
       "      <td>0.0</td>\n",
       "      <td>Mesoderm</td>\n",
       "      <td>CS10</td>\n",
       "      <td>NaN</td>\n",
       "      <td>NaN</td>\n",
       "    </tr>\n",
       "    <tr>\n",
       "      <th>AAACCTGAGGGATGGG-1-0</th>\n",
       "      <td>0.0</td>\n",
       "      <td>21207.0</td>\n",
       "      <td>4248.0</td>\n",
       "      <td>Intermediate Mesoderm</td>\n",
       "      <td>0.0</td>\n",
       "      <td>Mesoderm</td>\n",
       "      <td>CS10</td>\n",
       "      <td>NaN</td>\n",
       "      <td>NaN</td>\n",
       "    </tr>\n",
       "    <tr>\n",
       "      <th>AAACCTGAGTGACATA-1-0</th>\n",
       "      <td>0.0</td>\n",
       "      <td>16551.0</td>\n",
       "      <td>3737.0</td>\n",
       "      <td>Somite</td>\n",
       "      <td>1.0</td>\n",
       "      <td>Mesoderm</td>\n",
       "      <td>CS10</td>\n",
       "      <td>NaN</td>\n",
       "      <td>NaN</td>\n",
       "    </tr>\n",
       "    <tr>\n",
       "      <th>...</th>\n",
       "      <td>...</td>\n",
       "      <td>...</td>\n",
       "      <td>...</td>\n",
       "      <td>...</td>\n",
       "      <td>...</td>\n",
       "      <td>...</td>\n",
       "      <td>...</td>\n",
       "      <td>...</td>\n",
       "      <td>...</td>\n",
       "    </tr>\n",
       "    <tr>\n",
       "      <th>TTGCCGTAGTGCGATG-1-1</th>\n",
       "      <td>NaN</td>\n",
       "      <td>NaN</td>\n",
       "      <td>NaN</td>\n",
       "      <td>erythroid</td>\n",
       "      <td>NaN</td>\n",
       "      <td>Mesoderm</td>\n",
       "      <td>CS12</td>\n",
       "      <td>blood</td>\n",
       "      <td>emb1</td>\n",
       "    </tr>\n",
       "    <tr>\n",
       "      <th>TTGCGTCAGAATTCCC-1-1</th>\n",
       "      <td>NaN</td>\n",
       "      <td>NaN</td>\n",
       "      <td>NaN</td>\n",
       "      <td>erythroid</td>\n",
       "      <td>NaN</td>\n",
       "      <td>Mesoderm</td>\n",
       "      <td>CS12</td>\n",
       "      <td>blood</td>\n",
       "      <td>emb1</td>\n",
       "    </tr>\n",
       "    <tr>\n",
       "      <th>TTTGGTTAGTCGCCGT-1-1</th>\n",
       "      <td>NaN</td>\n",
       "      <td>NaN</td>\n",
       "      <td>NaN</td>\n",
       "      <td>erythroid</td>\n",
       "      <td>NaN</td>\n",
       "      <td>Mesoderm</td>\n",
       "      <td>CS12</td>\n",
       "      <td>blood</td>\n",
       "      <td>emb1</td>\n",
       "    </tr>\n",
       "    <tr>\n",
       "      <th>CCTAGCTGTGTGCGTC-1-1</th>\n",
       "      <td>NaN</td>\n",
       "      <td>NaN</td>\n",
       "      <td>NaN</td>\n",
       "      <td>PGC</td>\n",
       "      <td>NaN</td>\n",
       "      <td>Ectoderm</td>\n",
       "      <td>CS12</td>\n",
       "      <td>PGC</td>\n",
       "      <td>emb1</td>\n",
       "    </tr>\n",
       "    <tr>\n",
       "      <th>CTCAGAACAGACAAAT-1-1</th>\n",
       "      <td>NaN</td>\n",
       "      <td>NaN</td>\n",
       "      <td>NaN</td>\n",
       "      <td>PGC</td>\n",
       "      <td>NaN</td>\n",
       "      <td>Ectoderm</td>\n",
       "      <td>CS12</td>\n",
       "      <td>PGC</td>\n",
       "      <td>emb1</td>\n",
       "    </tr>\n",
       "  </tbody>\n",
       "</table>\n",
       "<p>34297 rows × 9 columns</p>\n",
       "</div>"
      ],
      "text/plain": [
       "                      orig.ident  nCount_RNA  nFeature_RNA  \\\n",
       "AAACCTGAGAATGTTG-1-0         0.0     14533.0        3468.0   \n",
       "AAACCTGAGCCAGAAC-1-0         0.0     22344.0        3874.0   \n",
       "AAACCTGAGGCAGTCA-1-0         0.0     31685.0        4640.0   \n",
       "AAACCTGAGGGATGGG-1-0         0.0     21207.0        4248.0   \n",
       "AAACCTGAGTGACATA-1-0         0.0     16551.0        3737.0   \n",
       "...                          ...         ...           ...   \n",
       "TTGCCGTAGTGCGATG-1-1         NaN         NaN           NaN   \n",
       "TTGCGTCAGAATTCCC-1-1         NaN         NaN           NaN   \n",
       "TTTGGTTAGTCGCCGT-1-1         NaN         NaN           NaN   \n",
       "CCTAGCTGTGTGCGTC-1-1         NaN         NaN           NaN   \n",
       "CTCAGAACAGACAAAT-1-1         NaN         NaN           NaN   \n",
       "\n",
       "                                     cell_type  clusters merge_type  time  \\\n",
       "AAACCTGAGAATGTTG-1-0  Lateral plate Mesoderm 1       0.0   Mesoderm  CS10   \n",
       "AAACCTGAGCCAGAAC-1-0             Neural tbue 1       6.0   Ectoderm  CS10   \n",
       "AAACCTGAGGCAGTCA-1-0     Intermediate Mesoderm       0.0   Mesoderm  CS10   \n",
       "AAACCTGAGGGATGGG-1-0     Intermediate Mesoderm       0.0   Mesoderm  CS10   \n",
       "AAACCTGAGTGACATA-1-0                    Somite       1.0   Mesoderm  CS10   \n",
       "...                                        ...       ...        ...   ...   \n",
       "TTGCCGTAGTGCGATG-1-1                 erythroid       NaN   Mesoderm  CS12   \n",
       "TTGCGTCAGAATTCCC-1-1                 erythroid       NaN   Mesoderm  CS12   \n",
       "TTTGGTTAGTCGCCGT-1-1                 erythroid       NaN   Mesoderm  CS12   \n",
       "CCTAGCTGTGTGCGTC-1-1                       PGC       NaN   Ectoderm  CS12   \n",
       "CTCAGAACAGACAAAT-1-1                       PGC       NaN   Ectoderm  CS12   \n",
       "\n",
       "                     developmental system embryo  \n",
       "AAACCTGAGAATGTTG-1-0                  NaN    NaN  \n",
       "AAACCTGAGCCAGAAC-1-0                  NaN    NaN  \n",
       "AAACCTGAGGCAGTCA-1-0                  NaN    NaN  \n",
       "AAACCTGAGGGATGGG-1-0                  NaN    NaN  \n",
       "AAACCTGAGTGACATA-1-0                  NaN    NaN  \n",
       "...                                   ...    ...  \n",
       "TTGCCGTAGTGCGATG-1-1                blood   emb1  \n",
       "TTGCGTCAGAATTCCC-1-1                blood   emb1  \n",
       "TTTGGTTAGTCGCCGT-1-1                blood   emb1  \n",
       "CCTAGCTGTGTGCGTC-1-1                  PGC   emb1  \n",
       "CTCAGAACAGACAAAT-1-1                  PGC   emb1  \n",
       "\n",
       "[34297 rows x 9 columns]"
      ]
     },
     "execution_count": 12,
     "metadata": {},
     "output_type": "execute_result"
    }
   ],
   "source": [
    "adata.obs"
   ]
  },
  {
   "cell_type": "code",
   "execution_count": 13,
   "id": "ae171f79-c8b0-4c22-a6a7-80ca75eac764",
   "metadata": {
    "execution": {
     "iopub.execute_input": "2025-07-27T09:17:26.205468Z",
     "iopub.status.busy": "2025-07-27T09:17:26.205106Z",
     "iopub.status.idle": "2025-07-27T09:17:26.823495Z",
     "shell.execute_reply": "2025-07-27T09:17:26.822989Z",
     "shell.execute_reply.started": "2025-07-27T09:17:26.205445Z"
    },
    "tags": []
   },
   "outputs": [
    {
     "data": {
      "text/plain": [
       "AnnData object with n_obs × n_vars = 17148 × 8000\n",
       "    obs: 'orig.ident', 'nCount_RNA', 'nFeature_RNA', 'cell_type', 'clusters', 'merge_type', 'time', 'developmental system', 'embryo'\n",
       "    var: 'n_cells', 'highly_variable', 'means', 'dispersions', 'dispersions_norm'\n",
       "    uns: 'hvg'\n",
       "    obsm: 'X_UMAP', 'X_pca', 'X_umap'\n",
       "    layers: 'counts'"
      ]
     },
     "execution_count": 13,
     "metadata": {},
     "output_type": "execute_result"
    }
   ],
   "source": [
    "np.random.seed(0)\n",
    "n_cells = adata.n_obs\n",
    "keep_indices = np.random.choice(n_cells, size=int(n_cells * 0.5), replace=False)\n",
    "adata_sampled = adata[keep_indices, :].copy()\n",
    "adata_sampled"
   ]
  },
  {
   "cell_type": "code",
   "execution_count": 14,
   "id": "7e275440-1d01-4348-bfa3-a2a8174324b6",
   "metadata": {
    "execution": {
     "iopub.execute_input": "2025-07-27T09:17:31.891129Z",
     "iopub.status.busy": "2025-07-27T09:17:31.890577Z",
     "iopub.status.idle": "2025-07-27T09:17:31.894546Z",
     "shell.execute_reply": "2025-07-27T09:17:31.893850Z",
     "shell.execute_reply.started": "2025-07-27T09:17:31.891099Z"
    },
    "tags": []
   },
   "outputs": [],
   "source": [
    "adata = adata_sampled"
   ]
  },
  {
   "cell_type": "code",
   "execution_count": 15,
   "id": "9fd21599-a56e-4d33-896e-2a56cf169507",
   "metadata": {
    "execution": {
     "iopub.execute_input": "2025-07-27T09:17:35.617669Z",
     "iopub.status.busy": "2025-07-27T09:17:35.617076Z",
     "iopub.status.idle": "2025-07-27T09:17:35.621677Z",
     "shell.execute_reply": "2025-07-27T09:17:35.620843Z",
     "shell.execute_reply.started": "2025-07-27T09:17:35.617639Z"
    },
    "tags": []
   },
   "outputs": [],
   "source": [
    "counts = adata.layers['counts'].T\n",
    "gene = adata.var\n",
    "cell = adata.obs"
   ]
  },
  {
   "cell_type": "code",
   "execution_count": 17,
   "id": "5174003e-1638-4535-8e5c-e7802cae7432",
   "metadata": {
    "execution": {
     "iopub.execute_input": "2025-07-27T09:17:37.012331Z",
     "iopub.status.busy": "2025-07-27T09:17:37.011795Z",
     "iopub.status.idle": "2025-07-27T09:17:37.108605Z",
     "shell.execute_reply": "2025-07-27T09:17:37.107936Z",
     "shell.execute_reply.started": "2025-07-27T09:17:37.012303Z"
    },
    "tags": []
   },
   "outputs": [],
   "source": [
    "counts = scipy.sparse.csr_matrix(counts)"
   ]
  },
  {
   "cell_type": "code",
   "execution_count": 19,
   "id": "832daf67-b5fa-4aab-a345-40bc3b01c8b9",
   "metadata": {
    "execution": {
     "iopub.execute_input": "2025-07-27T09:17:45.145916Z",
     "iopub.status.busy": "2025-07-27T09:17:45.145095Z",
     "iopub.status.idle": "2025-07-27T09:17:45.735195Z",
     "shell.execute_reply": "2025-07-27T09:17:45.734778Z",
     "shell.execute_reply.started": "2025-07-27T09:17:45.145881Z"
    },
    "tags": []
   },
   "outputs": [],
   "source": [
    "scipy.io.mmwrite('/slurm/home/yrd/liaolab/caohaoxue/embryo_work/benchmark/source_matrix/CS10_CS12_2CS11_counts.mtx', counts)\n",
    "pd.DataFrame(gene).to_csv('/slurm/home/yrd/liaolab/caohaoxue/embryo_work/benchmark/source_matrix/CS10_CS12_2CS11_gene.csv')\n",
    "pd.DataFrame(cell).to_csv('/slurm/home/yrd/liaolab/caohaoxue/embryo_work/benchmark/source_matrix/CS10_CS12_2CS11_cell.csv')"
   ]
  },
  {
   "cell_type": "markdown",
   "id": "446c57bc-8918-40e9-b911-74d8d7ac3d8d",
   "metadata": {},
   "source": [
    "# Mtrices to anndata"
   ]
  },
  {
   "cell_type": "code",
   "execution_count": 62,
   "id": "6ac5e7da-72a3-4e32-8c99-05fce2dfd1c0",
   "metadata": {
    "execution": {
     "iopub.execute_input": "2025-07-30T03:22:03.953129Z",
     "iopub.status.busy": "2025-07-30T03:22:03.952513Z",
     "iopub.status.idle": "2025-07-30T03:22:04.070735Z",
     "shell.execute_reply": "2025-07-30T03:22:04.070074Z",
     "shell.execute_reply.started": "2025-07-30T03:22:03.953094Z"
    },
    "tags": []
   },
   "outputs": [],
   "source": [
    "count_matrix = mmread('/slurm/home/yrd/liaolab/caohaoxue/embryo_work/benchmark/simulated_matrix/counts.mtx').T.toarray()\n",
    "gene_ids = pd.read_csv('/slurm/home/yrd/liaolab/caohaoxue/embryo_work/benchmark/simulated_matrix/gene.csv')\n",
    "cell_ids = pd.read_csv('/slurm/home/yrd/liaolab/caohaoxue/embryo_work/benchmark/simulated_matrix/cell.csv')"
   ]
  },
  {
   "cell_type": "code",
   "execution_count": 35,
   "id": "f9fce503-a645-426a-8dee-8be490940146",
   "metadata": {
    "execution": {
     "iopub.execute_input": "2025-07-30T05:42:52.078495Z",
     "iopub.status.busy": "2025-07-30T05:42:52.077783Z",
     "iopub.status.idle": "2025-07-30T05:42:52.534086Z",
     "shell.execute_reply": "2025-07-30T05:42:52.533572Z",
     "shell.execute_reply.started": "2025-07-30T05:42:52.078462Z"
    },
    "tags": []
   },
   "outputs": [],
   "source": [
    "count_matrix = pd.read_csv('/slurm/home/yrd/liaolab/caohaoxue/embryo_work/benchmark/simulated_matrix/counts.csv', index_col = 0).T\n",
    "gene_ids = pd.read_csv('/slurm/home/yrd/liaolab/caohaoxue/embryo_work/benchmark/simulated_matrix/gene.csv')\n",
    "cell_ids = pd.read_csv('/slurm/home/yrd/liaolab/caohaoxue/embryo_work/benchmark/simulated_matrix/cell.csv')"
   ]
  },
  {
   "cell_type": "markdown",
   "id": "7a2d7e8e-052b-4208-bb96-779585885e5c",
   "metadata": {
    "tags": []
   },
   "source": [
    "## Splatter"
   ]
  },
  {
   "cell_type": "code",
   "execution_count": 66,
   "id": "8436a49c-bbab-48c3-b042-e6ef6046a69b",
   "metadata": {
    "collapsed": true,
    "execution": {
     "iopub.execute_input": "2025-07-30T03:22:18.072272Z",
     "iopub.status.busy": "2025-07-30T03:22:18.071945Z",
     "iopub.status.idle": "2025-07-30T03:22:18.083357Z",
     "shell.execute_reply": "2025-07-30T03:22:18.082573Z",
     "shell.execute_reply.started": "2025-07-30T03:22:18.072248Z"
    },
    "jupyter": {
     "outputs_hidden": true
    },
    "tags": []
   },
   "outputs": [
    {
     "data": {
      "text/html": [
       "<div>\n",
       "<style scoped>\n",
       "    .dataframe tbody tr th:only-of-type {\n",
       "        vertical-align: middle;\n",
       "    }\n",
       "\n",
       "    .dataframe tbody tr th {\n",
       "        vertical-align: top;\n",
       "    }\n",
       "\n",
       "    .dataframe thead th {\n",
       "        text-align: right;\n",
       "    }\n",
       "</style>\n",
       "<table border=\"1\" class=\"dataframe\">\n",
       "  <thead>\n",
       "    <tr style=\"text-align: right;\">\n",
       "      <th></th>\n",
       "      <th>Cell</th>\n",
       "      <th>time</th>\n",
       "    </tr>\n",
       "    <tr>\n",
       "      <th>Cell</th>\n",
       "      <th></th>\n",
       "      <th></th>\n",
       "    </tr>\n",
       "  </thead>\n",
       "  <tbody>\n",
       "    <tr>\n",
       "      <th>Cell1</th>\n",
       "      <td>Cell1</td>\n",
       "      <td>E14-splatter-simple</td>\n",
       "    </tr>\n",
       "    <tr>\n",
       "      <th>Cell2</th>\n",
       "      <td>Cell2</td>\n",
       "      <td>E14-splatter-simple</td>\n",
       "    </tr>\n",
       "    <tr>\n",
       "      <th>Cell3</th>\n",
       "      <td>Cell3</td>\n",
       "      <td>E14-splatter-simple</td>\n",
       "    </tr>\n",
       "    <tr>\n",
       "      <th>Cell4</th>\n",
       "      <td>Cell4</td>\n",
       "      <td>E14-splatter-simple</td>\n",
       "    </tr>\n",
       "    <tr>\n",
       "      <th>Cell5</th>\n",
       "      <td>Cell5</td>\n",
       "      <td>E14-splatter-simple</td>\n",
       "    </tr>\n",
       "    <tr>\n",
       "      <th>...</th>\n",
       "      <td>...</td>\n",
       "      <td>...</td>\n",
       "    </tr>\n",
       "    <tr>\n",
       "      <th>Cell1276</th>\n",
       "      <td>Cell1276</td>\n",
       "      <td>E14-splatter-simple</td>\n",
       "    </tr>\n",
       "    <tr>\n",
       "      <th>Cell1277</th>\n",
       "      <td>Cell1277</td>\n",
       "      <td>E14-splatter-simple</td>\n",
       "    </tr>\n",
       "    <tr>\n",
       "      <th>Cell1278</th>\n",
       "      <td>Cell1278</td>\n",
       "      <td>E14-splatter-simple</td>\n",
       "    </tr>\n",
       "    <tr>\n",
       "      <th>Cell1279</th>\n",
       "      <td>Cell1279</td>\n",
       "      <td>E14-splatter-simple</td>\n",
       "    </tr>\n",
       "    <tr>\n",
       "      <th>Cell1280</th>\n",
       "      <td>Cell1280</td>\n",
       "      <td>E14-splatter-simple</td>\n",
       "    </tr>\n",
       "  </tbody>\n",
       "</table>\n",
       "<p>1280 rows × 2 columns</p>\n",
       "</div>"
      ],
      "text/plain": [
       "              Cell                 time\n",
       "Cell                                   \n",
       "Cell1        Cell1  E14-splatter-simple\n",
       "Cell2        Cell2  E14-splatter-simple\n",
       "Cell3        Cell3  E14-splatter-simple\n",
       "Cell4        Cell4  E14-splatter-simple\n",
       "Cell5        Cell5  E14-splatter-simple\n",
       "...            ...                  ...\n",
       "Cell1276  Cell1276  E14-splatter-simple\n",
       "Cell1277  Cell1277  E14-splatter-simple\n",
       "Cell1278  Cell1278  E14-splatter-simple\n",
       "Cell1279  Cell1279  E14-splatter-simple\n",
       "Cell1280  Cell1280  E14-splatter-simple\n",
       "\n",
       "[1280 rows x 2 columns]"
      ]
     },
     "execution_count": 66,
     "metadata": {},
     "output_type": "execute_result"
    }
   ],
   "source": [
    "adata.obs.drop(columns=['Unnamed: 0'], inplace=True)\n",
    "adata.obs.index = adata.obs.Cell\n",
    "adata.obs['time'] = \"E14-splatter-simple\"\n",
    "adata.obs"
   ]
  },
  {
   "cell_type": "code",
   "execution_count": 67,
   "id": "d0d26aa6-2a3b-429d-9240-ac2d1b690bc2",
   "metadata": {
    "collapsed": true,
    "execution": {
     "iopub.execute_input": "2025-07-30T03:22:25.691587Z",
     "iopub.status.busy": "2025-07-30T03:22:25.691014Z",
     "iopub.status.idle": "2025-07-30T03:22:25.703689Z",
     "shell.execute_reply": "2025-07-30T03:22:25.703014Z",
     "shell.execute_reply.started": "2025-07-30T03:22:25.691528Z"
    },
    "jupyter": {
     "outputs_hidden": true
    },
    "tags": []
   },
   "outputs": [
    {
     "data": {
      "text/html": [
       "<div>\n",
       "<style scoped>\n",
       "    .dataframe tbody tr th:only-of-type {\n",
       "        vertical-align: middle;\n",
       "    }\n",
       "\n",
       "    .dataframe tbody tr th {\n",
       "        vertical-align: top;\n",
       "    }\n",
       "\n",
       "    .dataframe thead th {\n",
       "        text-align: right;\n",
       "    }\n",
       "</style>\n",
       "<table border=\"1\" class=\"dataframe\">\n",
       "  <thead>\n",
       "    <tr style=\"text-align: right;\">\n",
       "      <th></th>\n",
       "      <th>features</th>\n",
       "    </tr>\n",
       "    <tr>\n",
       "      <th>features</th>\n",
       "      <th></th>\n",
       "    </tr>\n",
       "  </thead>\n",
       "  <tbody>\n",
       "    <tr>\n",
       "      <th>A1BG.AS1</th>\n",
       "      <td>A1BG.AS1</td>\n",
       "    </tr>\n",
       "    <tr>\n",
       "      <th>A1CF</th>\n",
       "      <td>A1CF</td>\n",
       "    </tr>\n",
       "    <tr>\n",
       "      <th>A2M</th>\n",
       "      <td>A2M</td>\n",
       "    </tr>\n",
       "    <tr>\n",
       "      <th>A2ML1</th>\n",
       "      <td>A2ML1</td>\n",
       "    </tr>\n",
       "    <tr>\n",
       "      <th>AACS</th>\n",
       "      <td>AACS</td>\n",
       "    </tr>\n",
       "    <tr>\n",
       "      <th>...</th>\n",
       "      <td>...</td>\n",
       "    </tr>\n",
       "    <tr>\n",
       "      <th>ZXDC</th>\n",
       "      <td>ZXDC</td>\n",
       "    </tr>\n",
       "    <tr>\n",
       "      <th>ZYG11A</th>\n",
       "      <td>ZYG11A</td>\n",
       "    </tr>\n",
       "    <tr>\n",
       "      <th>ZYG11B</th>\n",
       "      <td>ZYG11B</td>\n",
       "    </tr>\n",
       "    <tr>\n",
       "      <th>ZYX</th>\n",
       "      <td>ZYX</td>\n",
       "    </tr>\n",
       "    <tr>\n",
       "      <th>ZZEF1</th>\n",
       "      <td>ZZEF1</td>\n",
       "    </tr>\n",
       "  </tbody>\n",
       "</table>\n",
       "<p>8000 rows × 1 columns</p>\n",
       "</div>"
      ],
      "text/plain": [
       "          features\n",
       "features          \n",
       "A1BG.AS1  A1BG.AS1\n",
       "A1CF          A1CF\n",
       "A2M            A2M\n",
       "A2ML1        A2ML1\n",
       "AACS          AACS\n",
       "...            ...\n",
       "ZXDC          ZXDC\n",
       "ZYG11A      ZYG11A\n",
       "ZYG11B      ZYG11B\n",
       "ZYX            ZYX\n",
       "ZZEF1        ZZEF1\n",
       "\n",
       "[8000 rows x 1 columns]"
      ]
     },
     "execution_count": 67,
     "metadata": {},
     "output_type": "execute_result"
    }
   ],
   "source": [
    "adata.var.drop(columns=['Unnamed: 0'], inplace=True)\n",
    "adata.var = adata.var.rename(columns = {'value':'features'})\n",
    "adata.var.index = adata.var.features\n",
    "adata.var"
   ]
  },
  {
   "cell_type": "markdown",
   "id": "33623f13-230e-438d-b95d-3ab2b89605ba",
   "metadata": {},
   "source": [
    "## scDesign3"
   ]
  },
  {
   "cell_type": "code",
   "execution_count": 41,
   "id": "a0a7d4c7-f239-42c0-abca-1e70edf0c960",
   "metadata": {
    "execution": {
     "iopub.execute_input": "2025-07-30T05:44:40.805555Z",
     "iopub.status.busy": "2025-07-30T05:44:40.804967Z",
     "iopub.status.idle": "2025-07-30T05:44:40.819769Z",
     "shell.execute_reply": "2025-07-30T05:44:40.819092Z",
     "shell.execute_reply.started": "2025-07-30T05:44:40.805524Z"
    },
    "tags": []
   },
   "outputs": [
    {
     "data": {
      "text/html": [
       "<div>\n",
       "<style scoped>\n",
       "    .dataframe tbody tr th:only-of-type {\n",
       "        vertical-align: middle;\n",
       "    }\n",
       "\n",
       "    .dataframe tbody tr th {\n",
       "        vertical-align: top;\n",
       "    }\n",
       "\n",
       "    .dataframe thead th {\n",
       "        text-align: right;\n",
       "    }\n",
       "</style>\n",
       "<table border=\"1\" class=\"dataframe\">\n",
       "  <thead>\n",
       "    <tr style=\"text-align: right;\">\n",
       "      <th></th>\n",
       "      <th>barcode</th>\n",
       "      <th>merge_type</th>\n",
       "      <th>pseudotime</th>\n",
       "      <th>time</th>\n",
       "    </tr>\n",
       "    <tr>\n",
       "      <th>barcode</th>\n",
       "      <th></th>\n",
       "      <th></th>\n",
       "      <th></th>\n",
       "      <th></th>\n",
       "    </tr>\n",
       "  </thead>\n",
       "  <tbody>\n",
       "    <tr>\n",
       "      <th>SS.sc7785290</th>\n",
       "      <td>SS.sc7785290</td>\n",
       "      <td>Mesoderm</td>\n",
       "      <td>31.221305</td>\n",
       "      <td>E14-scDesign3</td>\n",
       "    </tr>\n",
       "    <tr>\n",
       "      <th>SS.sc7786612</th>\n",
       "      <td>SS.sc7786612</td>\n",
       "      <td>Endoderm</td>\n",
       "      <td>9.080529</td>\n",
       "      <td>E14-scDesign3</td>\n",
       "    </tr>\n",
       "    <tr>\n",
       "      <th>SS.sc7786605</th>\n",
       "      <td>SS.sc7786605</td>\n",
       "      <td>Mesoderm</td>\n",
       "      <td>12.042689</td>\n",
       "      <td>E14-scDesign3</td>\n",
       "    </tr>\n",
       "    <tr>\n",
       "      <th>SS.sc7785737</th>\n",
       "      <td>SS.sc7785737</td>\n",
       "      <td>Primitive Streak</td>\n",
       "      <td>5.356720</td>\n",
       "      <td>E14-scDesign3</td>\n",
       "    </tr>\n",
       "    <tr>\n",
       "      <th>SS.sc7785398</th>\n",
       "      <td>SS.sc7785398</td>\n",
       "      <td>YolkSac</td>\n",
       "      <td>16.457844</td>\n",
       "      <td>E14-scDesign3</td>\n",
       "    </tr>\n",
       "    <tr>\n",
       "      <th>...</th>\n",
       "      <td>...</td>\n",
       "      <td>...</td>\n",
       "      <td>...</td>\n",
       "      <td>...</td>\n",
       "    </tr>\n",
       "    <tr>\n",
       "      <th>D12A4B9</th>\n",
       "      <td>D12A4B9</td>\n",
       "      <td>Trophoblast</td>\n",
       "      <td>7.680723</td>\n",
       "      <td>E14-scDesign3</td>\n",
       "    </tr>\n",
       "    <tr>\n",
       "      <th>D12A3B10</th>\n",
       "      <td>D12A3B10</td>\n",
       "      <td>Trophoblast</td>\n",
       "      <td>7.683735</td>\n",
       "      <td>E14-scDesign3</td>\n",
       "    </tr>\n",
       "    <tr>\n",
       "      <th>D12A3B11</th>\n",
       "      <td>D12A3B11</td>\n",
       "      <td>Trophoblast</td>\n",
       "      <td>7.678798</td>\n",
       "      <td>E14-scDesign3</td>\n",
       "    </tr>\n",
       "    <tr>\n",
       "      <th>D12A3B12</th>\n",
       "      <td>D12A3B12</td>\n",
       "      <td>Trophoblast</td>\n",
       "      <td>7.844780</td>\n",
       "      <td>E14-scDesign3</td>\n",
       "    </tr>\n",
       "    <tr>\n",
       "      <th>D12A3B13</th>\n",
       "      <td>D12A3B13</td>\n",
       "      <td>Trophoblast</td>\n",
       "      <td>7.684046</td>\n",
       "      <td>E14-scDesign3</td>\n",
       "    </tr>\n",
       "  </tbody>\n",
       "</table>\n",
       "<p>1280 rows × 4 columns</p>\n",
       "</div>"
      ],
      "text/plain": [
       "                   barcode        merge_type  pseudotime           time\n",
       "barcode                                                                \n",
       "SS.sc7785290  SS.sc7785290          Mesoderm   31.221305  E14-scDesign3\n",
       "SS.sc7786612  SS.sc7786612          Endoderm    9.080529  E14-scDesign3\n",
       "SS.sc7786605  SS.sc7786605          Mesoderm   12.042689  E14-scDesign3\n",
       "SS.sc7785737  SS.sc7785737  Primitive Streak    5.356720  E14-scDesign3\n",
       "SS.sc7785398  SS.sc7785398           YolkSac   16.457844  E14-scDesign3\n",
       "...                    ...               ...         ...            ...\n",
       "D12A4B9            D12A4B9       Trophoblast    7.680723  E14-scDesign3\n",
       "D12A3B10          D12A3B10       Trophoblast    7.683735  E14-scDesign3\n",
       "D12A3B11          D12A3B11       Trophoblast    7.678798  E14-scDesign3\n",
       "D12A3B12          D12A3B12       Trophoblast    7.844780  E14-scDesign3\n",
       "D12A3B13          D12A3B13       Trophoblast    7.684046  E14-scDesign3\n",
       "\n",
       "[1280 rows x 4 columns]"
      ]
     },
     "execution_count": 41,
     "metadata": {},
     "output_type": "execute_result"
    }
   ],
   "source": [
    "adata.obs = adata.obs.rename(columns = {'Unnamed: 0':'barcode'})\n",
    "adata.obs.index = adata.obs.barcode\n",
    "adata.obs['time'] = \"E14-scDesign3\"\n",
    "adata.obs"
   ]
  },
  {
   "cell_type": "code",
   "execution_count": 42,
   "id": "b125c118-5cd9-424f-b619-30e7f46fae1b",
   "metadata": {
    "execution": {
     "iopub.execute_input": "2025-07-30T05:44:44.106972Z",
     "iopub.status.busy": "2025-07-30T05:44:44.106391Z",
     "iopub.status.idle": "2025-07-30T05:44:44.117088Z",
     "shell.execute_reply": "2025-07-30T05:44:44.116419Z",
     "shell.execute_reply.started": "2025-07-30T05:44:44.106941Z"
    },
    "tags": []
   },
   "outputs": [
    {
     "data": {
      "text/html": [
       "<div>\n",
       "<style scoped>\n",
       "    .dataframe tbody tr th:only-of-type {\n",
       "        vertical-align: middle;\n",
       "    }\n",
       "\n",
       "    .dataframe tbody tr th {\n",
       "        vertical-align: top;\n",
       "    }\n",
       "\n",
       "    .dataframe thead th {\n",
       "        text-align: right;\n",
       "    }\n",
       "</style>\n",
       "<table border=\"1\" class=\"dataframe\">\n",
       "  <thead>\n",
       "    <tr style=\"text-align: right;\">\n",
       "      <th></th>\n",
       "      <th>features</th>\n",
       "    </tr>\n",
       "    <tr>\n",
       "      <th>features</th>\n",
       "      <th></th>\n",
       "    </tr>\n",
       "  </thead>\n",
       "  <tbody>\n",
       "    <tr>\n",
       "      <th>A1BG.AS1</th>\n",
       "      <td>A1BG.AS1</td>\n",
       "    </tr>\n",
       "    <tr>\n",
       "      <th>A1CF</th>\n",
       "      <td>A1CF</td>\n",
       "    </tr>\n",
       "    <tr>\n",
       "      <th>A2M</th>\n",
       "      <td>A2M</td>\n",
       "    </tr>\n",
       "    <tr>\n",
       "      <th>A2ML1</th>\n",
       "      <td>A2ML1</td>\n",
       "    </tr>\n",
       "    <tr>\n",
       "      <th>AACS</th>\n",
       "      <td>AACS</td>\n",
       "    </tr>\n",
       "    <tr>\n",
       "      <th>...</th>\n",
       "      <td>...</td>\n",
       "    </tr>\n",
       "    <tr>\n",
       "      <th>ZXDC</th>\n",
       "      <td>ZXDC</td>\n",
       "    </tr>\n",
       "    <tr>\n",
       "      <th>ZYG11A</th>\n",
       "      <td>ZYG11A</td>\n",
       "    </tr>\n",
       "    <tr>\n",
       "      <th>ZYG11B</th>\n",
       "      <td>ZYG11B</td>\n",
       "    </tr>\n",
       "    <tr>\n",
       "      <th>ZYX</th>\n",
       "      <td>ZYX</td>\n",
       "    </tr>\n",
       "    <tr>\n",
       "      <th>ZZEF1</th>\n",
       "      <td>ZZEF1</td>\n",
       "    </tr>\n",
       "  </tbody>\n",
       "</table>\n",
       "<p>8000 rows × 1 columns</p>\n",
       "</div>"
      ],
      "text/plain": [
       "          features\n",
       "features          \n",
       "A1BG.AS1  A1BG.AS1\n",
       "A1CF          A1CF\n",
       "A2M            A2M\n",
       "A2ML1        A2ML1\n",
       "AACS          AACS\n",
       "...            ...\n",
       "ZXDC          ZXDC\n",
       "ZYG11A      ZYG11A\n",
       "ZYG11B      ZYG11B\n",
       "ZYX            ZYX\n",
       "ZZEF1        ZZEF1\n",
       "\n",
       "[8000 rows x 1 columns]"
      ]
     },
     "execution_count": 42,
     "metadata": {},
     "output_type": "execute_result"
    }
   ],
   "source": [
    "adata.var['features'] = adata.var.index\n",
    "adata.var.index = adata.var.features\n",
    "adata.var"
   ]
  },
  {
   "cell_type": "markdown",
   "id": "2d0894ca-ba7a-43a1-8fd9-7869167b841b",
   "metadata": {},
   "source": [
    "# Export"
   ]
  },
  {
   "cell_type": "code",
   "execution_count": 43,
   "id": "22812de4-37c3-49a8-a5bf-5f020bbfc2cd",
   "metadata": {
    "execution": {
     "iopub.execute_input": "2025-07-30T05:44:50.084173Z",
     "iopub.status.busy": "2025-07-30T05:44:50.083751Z",
     "iopub.status.idle": "2025-07-30T05:44:50.211634Z",
     "shell.execute_reply": "2025-07-30T05:44:50.211005Z",
     "shell.execute_reply.started": "2025-07-30T05:44:50.084141Z"
    },
    "tags": []
   },
   "outputs": [],
   "source": [
    "adata.write_h5ad('/slurm/home/yrd/liaolab/caohaoxue/embryo_work/benchmark/simulated_matrix/h5ad_format/E14f_scDesign3.h5ad')"
   ]
  }
 ],
 "metadata": {
  "kernelspec": {
   "display_name": "my_env",
   "language": "python",
   "name": "my_env"
  },
  "language_info": {
   "codemirror_mode": {
    "name": "ipython",
    "version": 3
   },
   "file_extension": ".py",
   "mimetype": "text/x-python",
   "name": "python",
   "nbconvert_exporter": "python",
   "pygments_lexer": "ipython3",
   "version": "3.13.2"
  }
 },
 "nbformat": 4,
 "nbformat_minor": 5
}
