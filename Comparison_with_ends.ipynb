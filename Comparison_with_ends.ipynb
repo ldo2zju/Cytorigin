{
 "cells": [
  {
   "cell_type": "code",
   "execution_count": 1,
   "id": "f012dd36-6ffa-42a7-9eb0-2d6114c6ca46",
   "metadata": {
    "execution": {
     "iopub.execute_input": "2025-08-19T09:12:14.140749Z",
     "iopub.status.busy": "2025-08-19T09:12:14.140172Z",
     "iopub.status.idle": "2025-08-19T09:12:49.579544Z",
     "shell.execute_reply": "2025-08-19T09:12:49.578936Z",
     "shell.execute_reply.started": "2025-08-19T09:12:14.140713Z"
    },
    "tags": []
   },
   "outputs": [],
   "source": [
    "import numpy as np, pandas as pd\n",
    "from scipy.stats import trim_mean\n",
    "from scipy.sparse import csr_matrix\n",
    "from scipy.spatial.distance import cdist\n",
    "import warnings, numpy as np, scanpy as sc, pandas as pd\n",
    "warnings.filterwarnings(\"ignore\")\n",
    "from tqdm.auto import tqdm\n",
    "\n",
    "def calculate_centroids(X, labels):\n",
    "    centroids = dict()\n",
    "    for label in labels.unique():\n",
    "        centroids[label] = np.mean(X[labels == label], axis=0)\n",
    "    return centroids\n",
    "\n",
    "\n",
    "def calculate_trimmed_means(X, labels, trim_proportion=0.2, ignore_=[]):\n",
    "    centroids = dict()\n",
    "    if isinstance(X, csr_matrix):\n",
    "        X = X.toarray()\n",
    "    for label in labels.unique():\n",
    "        if label in ignore_:\n",
    "            continue\n",
    "        centroids[label] = trim_mean(X[labels == label], proportiontocut=trim_proportion, axis=0)\n",
    "    return centroids\n",
    "\n",
    "\n",
    "def compute_classwise_distances(centroids):\n",
    "    centroid_vectors = np.array([centroids[key] for key in sorted(centroids.keys())])\n",
    "    distances = cdist(centroid_vectors, centroid_vectors, \"euclidean\")\n",
    "    return pd.DataFrame(distances, columns=sorted(centroids.keys()), index=sorted(centroids.keys()))"
   ]
  },
  {
   "cell_type": "code",
   "execution_count": 2,
   "id": "f320de13-a3f1-4fbf-94cb-36ce289573eb",
   "metadata": {
    "execution": {
     "iopub.execute_input": "2025-08-19T09:12:49.580897Z",
     "iopub.status.busy": "2025-08-19T09:12:49.580389Z",
     "iopub.status.idle": "2025-08-19T09:12:49.588274Z",
     "shell.execute_reply": "2025-08-19T09:12:49.587724Z",
     "shell.execute_reply.started": "2025-08-19T09:12:49.580879Z"
    },
    "tags": []
   },
   "outputs": [],
   "source": [
    "def corr_diff(df1, df2):\n",
    "    pearson_corr = {}\n",
    "    for col in df1.columns:\n",
    "        paired_non_nan = pd.concat([df1[col], df2[col]], axis=1).dropna()\n",
    "        pearson_corr[col] = paired_non_nan.iloc[:, 0].corr(paired_non_nan.iloc[:, 1], method=\"pearson\")\n",
    "    return pd.DataFrame.from_dict(pearson_corr, orient=\"index\", columns=[\"Pearson Correlation\"])"
   ]
  },
  {
   "cell_type": "code",
   "execution_count": 3,
   "id": "12898bc0-14c9-4db8-a2ee-0ba20aaa2052",
   "metadata": {
    "execution": {
     "iopub.execute_input": "2025-08-19T09:12:49.589133Z",
     "iopub.status.busy": "2025-08-19T09:12:49.588919Z",
     "iopub.status.idle": "2025-08-19T09:12:49.826179Z",
     "shell.execute_reply": "2025-08-19T09:12:49.825525Z",
     "shell.execute_reply.started": "2025-08-19T09:12:49.589112Z"
    },
    "tags": []
   },
   "outputs": [],
   "source": [
    "from scipy.io import mmread\n",
    "import anndata as an"
   ]
  },
  {
   "cell_type": "markdown",
   "id": "578829f0-8b48-45d3-aa39-fe1f6c16f8f8",
   "metadata": {
    "tags": []
   },
   "source": [
    "# E12"
   ]
  },
  {
   "cell_type": "code",
   "execution_count": 3,
   "id": "454c45e4-e528-40b3-8c2e-51025a944325",
   "metadata": {
    "execution": {
     "iopub.execute_input": "2025-08-19T02:52:27.027620Z",
     "iopub.status.busy": "2025-08-19T02:52:27.027107Z",
     "iopub.status.idle": "2025-08-19T02:52:27.999894Z",
     "shell.execute_reply": "2025-08-19T02:52:27.999109Z",
     "shell.execute_reply.started": "2025-08-19T02:52:27.027588Z"
    },
    "tags": []
   },
   "outputs": [],
   "source": [
    "cyto = sc.read_h5ad('/slurm/home/yrd/liaolab/caohaoxue/embryo_work/benchmark/simulated_matrix/h5ad_format/E12f_CytO.h5ad')\n",
    "spla = sc.read_h5ad('/slurm/home/yrd/liaolab/caohaoxue/embryo_work/benchmark/simulated_matrix/h5ad_format/E12f_splatter.h5ad')\n",
    "simp = sc.read_h5ad('/slurm/home/yrd/liaolab/caohaoxue/embryo_work/benchmark/simulated_matrix/h5ad_format/E12f_splatter_simple.h5ad')\n",
    "scde = sc.read_h5ad('/slurm/home/yrd/liaolab/caohaoxue/embryo_work/benchmark/simulated_matrix/h5ad_format/E12f_scDesign3.h5ad')\n",
    "scva = sc.read_h5ad('/slurm/home/yrd/liaolab/caohaoxue/embryo_work/benchmark/simulated_matrix/h5ad_format/E12f_scVAEDer.h5ad')\n",
    "real = sc.read_h5ad('/slurm/home/yrd/liaolab/caohaoxue/embryo_work/data_standard/Zygote_to_CS7.h5ad')"
   ]
  },
  {
   "cell_type": "code",
   "execution_count": 4,
   "id": "69522142-4d77-4cd8-a80d-493ad1528747",
   "metadata": {
    "execution": {
     "iopub.execute_input": "2025-08-19T02:52:28.001749Z",
     "iopub.status.busy": "2025-08-19T02:52:28.001371Z",
     "iopub.status.idle": "2025-08-19T02:52:28.185940Z",
     "shell.execute_reply": "2025-08-19T02:52:28.185402Z",
     "shell.execute_reply.started": "2025-08-19T02:52:28.001718Z"
    },
    "tags": []
   },
   "outputs": [],
   "source": [
    "real = real[real.obs.time.isin (['E12','E10','E14'])]\n",
    "real.var = real.var.rename(columns = {'x':'features'})\n",
    "real.var.index = real.var.features"
   ]
  },
  {
   "cell_type": "code",
   "execution_count": 5,
   "id": "87d00357-d111-4612-8b00-87c5b42da096",
   "metadata": {
    "execution": {
     "iopub.execute_input": "2025-08-19T02:52:28.186554Z",
     "iopub.status.busy": "2025-08-19T02:52:28.186415Z",
     "iopub.status.idle": "2025-08-19T02:52:28.454751Z",
     "shell.execute_reply": "2025-08-19T02:52:28.454181Z",
     "shell.execute_reply.started": "2025-08-19T02:52:28.186539Z"
    },
    "tags": []
   },
   "outputs": [],
   "source": [
    "adata_int = sc.concat([cyto,spla,simp,scde,scva],\n",
    "                      join = 'outer',\n",
    "                      fill_value = 0)\n",
    "\n",
    "adata = sc.concat([real,adata_int],\n",
    "                 label = 'source',\n",
    "                 keys = ['real','simulated'],\n",
    "                 index_unique = '-')"
   ]
  },
  {
   "cell_type": "code",
   "execution_count": 6,
   "id": "e2b996c0-b3c2-4584-ac8c-40551d03b99f",
   "metadata": {
    "execution": {
     "iopub.execute_input": "2025-08-19T02:52:28.455806Z",
     "iopub.status.busy": "2025-08-19T02:52:28.455587Z",
     "iopub.status.idle": "2025-08-19T02:52:40.188618Z",
     "shell.execute_reply": "2025-08-19T02:52:40.188164Z",
     "shell.execute_reply.started": "2025-08-19T02:52:28.455792Z"
    },
    "tags": []
   },
   "outputs": [
    {
     "name": "stdout",
     "output_type": "stream",
     "text": [
      "WARNING: consider updating your call to make use of `computation`\n"
     ]
    }
   ],
   "source": [
    "sc.tl.pca(adata, svd_solver='arpack')\n",
    "sc.external.pp.bbknn(adata, batch_key='source')\n",
    "sc.tl.umap(adata)"
   ]
  },
  {
   "cell_type": "code",
   "execution_count": 7,
   "id": "2a36ae23-345b-4395-9afc-eda60577712f",
   "metadata": {
    "execution": {
     "iopub.execute_input": "2025-08-19T02:52:40.189811Z",
     "iopub.status.busy": "2025-08-19T02:52:40.189348Z",
     "iopub.status.idle": "2025-08-19T02:52:40.240035Z",
     "shell.execute_reply": "2025-08-19T02:52:40.239448Z",
     "shell.execute_reply.started": "2025-08-19T02:52:40.189795Z"
    },
    "tags": []
   },
   "outputs": [],
   "source": [
    "adata_full = adata.copy()"
   ]
  },
  {
   "cell_type": "code",
   "execution_count": 8,
   "id": "8cd258f4-a6d6-4801-8bcd-4cf19b91d430",
   "metadata": {
    "execution": {
     "iopub.execute_input": "2025-08-19T02:52:40.240833Z",
     "iopub.status.busy": "2025-08-19T02:52:40.240634Z",
     "iopub.status.idle": "2025-08-19T02:52:44.320635Z",
     "shell.execute_reply": "2025-08-19T02:52:44.320124Z",
     "shell.execute_reply.started": "2025-08-19T02:52:40.240818Z"
    },
    "tags": []
   },
   "outputs": [
    {
     "name": "stdout",
     "output_type": "stream",
     "text": [
      "WARNING: consider updating your call to make use of `computation`\n",
      "WARNING: consider updating your call to make use of `computation`\n",
      "WARNING: consider updating your call to make use of `computation`\n",
      "WARNING: consider updating your call to make use of `computation`\n",
      "WARNING: consider updating your call to make use of `computation`\n",
      "WARNING: consider updating your call to make use of `computation`\n"
     ]
    }
   ],
   "source": [
    "adata = adata_full[adata_full.obs.time.isin(['E12','E14','E10'])]\n",
    "sc.tl.pca(adata, svd_solver='arpack')\n",
    "sc.external.pp.bbknn(adata, batch_key='source')\n",
    "sc.tl.umap(adata)\n",
    "centroids_pca = calculate_trimmed_means(\n",
    "                adata.obsm[\"X_umap\"],\n",
    "                adata.obs[\"time\"],\n",
    "                trim_proportion=0.05,\n",
    "            )\n",
    "pca_pairdist_real = compute_classwise_distances(centroids_pca)\n",
    "\n",
    "adata = adata_full[adata_full.obs.time.isin(['E12-CytOrigin','E14','E10'])]\n",
    "sc.tl.pca(adata, svd_solver='arpack')\n",
    "sc.external.pp.bbknn(adata, batch_key='source')\n",
    "sc.tl.umap(adata)\n",
    "centroids_pca = calculate_trimmed_means(\n",
    "                adata.obsm[\"X_umap\"],\n",
    "                adata.obs[\"time\"],\n",
    "                trim_proportion=0.05,\n",
    "            )\n",
    "pca_pairdist_cyto = compute_classwise_distances(centroids_pca)\n",
    "\n",
    "adata = adata_full[adata_full.obs.time.isin(['E12-Splatter','E14','E10'])]\n",
    "sc.tl.pca(adata, svd_solver='arpack')\n",
    "sc.external.pp.bbknn(adata, batch_key='source')\n",
    "sc.tl.umap(adata)\n",
    "centroids_pca = calculate_trimmed_means(\n",
    "                adata.obsm[\"X_umap\"],\n",
    "                adata.obs[\"time\"],\n",
    "                trim_proportion=0.05,\n",
    "            )\n",
    "pca_pairdist_spla = compute_classwise_distances(centroids_pca)\n",
    "\n",
    "adata = adata_full[adata_full.obs.time.isin(['E12-Splatter-Simple','E14','E10'])]\n",
    "sc.tl.pca(adata, svd_solver='arpack')\n",
    "sc.external.pp.bbknn(adata, batch_key='source')\n",
    "sc.tl.umap(adata)\n",
    "centroids_pca = calculate_trimmed_means(\n",
    "                adata.obsm[\"X_umap\"],\n",
    "                adata.obs[\"time\"],\n",
    "                trim_proportion=0.05,\n",
    "            )\n",
    "pca_pairdist_simp = compute_classwise_distances(centroids_pca)\n",
    "\n",
    "adata = adata_full[adata_full.obs.time.isin(['E12-scDesign3','E14','E10'])]\n",
    "sc.tl.pca(adata, svd_solver='arpack')\n",
    "sc.external.pp.bbknn(adata, batch_key='source')\n",
    "sc.tl.umap(adata)\n",
    "centroids_pca = calculate_trimmed_means(\n",
    "                adata.obsm[\"X_umap\"],\n",
    "                adata.obs[\"time\"],\n",
    "                trim_proportion=0.05,\n",
    "            )\n",
    "pca_pairdist_scde = compute_classwise_distances(centroids_pca)\n",
    "\n",
    "adata = adata_full[adata_full.obs.time.isin(['E12-scVAEDer','E14','E10'])]\n",
    "sc.tl.pca(adata, svd_solver='arpack')\n",
    "sc.external.pp.bbknn(adata, batch_key='source')\n",
    "sc.tl.umap(adata)\n",
    "centroids_pca = calculate_trimmed_means(\n",
    "                adata.obsm[\"X_umap\"],\n",
    "                adata.obs[\"time\"],\n",
    "                trim_proportion=0.05,\n",
    "            )\n",
    "pca_pairdist_scva = compute_classwise_distances(centroids_pca)"
   ]
  },
  {
   "cell_type": "code",
   "execution_count": 9,
   "id": "2bf2d157-d3ff-493b-b57b-f967078888e2",
   "metadata": {
    "execution": {
     "iopub.execute_input": "2025-08-19T02:52:44.321830Z",
     "iopub.status.busy": "2025-08-19T02:52:44.321634Z",
     "iopub.status.idle": "2025-08-19T02:52:44.325360Z",
     "shell.execute_reply": "2025-08-19T02:52:44.325049Z",
     "shell.execute_reply.started": "2025-08-19T02:52:44.321814Z"
    },
    "tags": []
   },
   "outputs": [],
   "source": [
    "pca_pairdist_cyto.index = ['E10','E12','E14']\n",
    "pca_pairdist_cyto.columns = ['E10','E12','E14']\n",
    "\n",
    "pca_pairdist_scde.index = ['E10','E12','E14']\n",
    "pca_pairdist_scde.columns = ['E10','E12','E14']\n",
    "\n",
    "pca_pairdist_scva.index = ['E10','E12','E14']\n",
    "pca_pairdist_scva.columns = ['E10','E12','E14']\n",
    "\n",
    "pca_pairdist_spla.index = ['E10','E12','E14']\n",
    "pca_pairdist_spla.columns = ['E10','E12','E14']\n",
    "\n",
    "pca_pairdist_simp.index = ['E10','E12','E14']\n",
    "pca_pairdist_simp.columns = ['E10','E12','E14']"
   ]
  },
  {
   "cell_type": "code",
   "execution_count": 10,
   "id": "d4636e82-3400-412d-a221-ce32e7a673cb",
   "metadata": {
    "execution": {
     "iopub.execute_input": "2025-08-19T02:52:44.326008Z",
     "iopub.status.busy": "2025-08-19T02:52:44.325745Z",
     "iopub.status.idle": "2025-08-19T02:52:44.346614Z",
     "shell.execute_reply": "2025-08-19T02:52:44.346293Z",
     "shell.execute_reply.started": "2025-08-19T02:52:44.325994Z"
    },
    "tags": []
   },
   "outputs": [],
   "source": [
    "index_pearson_cyto = corr_diff(pca_pairdist_real, pca_pairdist_cyto)\n",
    "index_pearson_scva = corr_diff(pca_pairdist_real, pca_pairdist_scva)\n",
    "index_pearson_scde = corr_diff(pca_pairdist_real, pca_pairdist_scde)\n",
    "index_pearson_spla = corr_diff(pca_pairdist_real, pca_pairdist_spla)\n",
    "index_pearson_simp = corr_diff(pca_pairdist_real, pca_pairdist_simp)"
   ]
  },
  {
   "cell_type": "code",
   "execution_count": 11,
   "id": "43ef7b03-acf1-442a-be04-f706ec2c5f26",
   "metadata": {
    "execution": {
     "iopub.execute_input": "2025-08-19T02:52:44.347162Z",
     "iopub.status.busy": "2025-08-19T02:52:44.347028Z",
     "iopub.status.idle": "2025-08-19T02:52:44.353097Z",
     "shell.execute_reply": "2025-08-19T02:52:44.352657Z",
     "shell.execute_reply.started": "2025-08-19T02:52:44.347149Z"
    },
    "tags": []
   },
   "outputs": [],
   "source": [
    "index_pearson = pd.concat([index_pearson_cyto,index_pearson_scva,index_pearson_scde,index_pearson_spla,index_pearson_simp], axis = 1)\n",
    "index_pearson.columns = ['CytOrigin','scVAEDer','scDesign3','Splatter','Splatter-Simple']\n",
    "index_pearson.to_csv('/slurm/home/yrd/liaolab/caohaoxue/embryo_work/benchmark/E12_index_pearson.csv')"
   ]
  },
  {
   "cell_type": "code",
   "execution_count": 12,
   "id": "582e46ee-a715-403f-8dfd-efaca2303902",
   "metadata": {
    "execution": {
     "iopub.execute_input": "2025-08-19T02:52:44.353778Z",
     "iopub.status.busy": "2025-08-19T02:52:44.353588Z",
     "iopub.status.idle": "2025-08-19T02:52:44.359400Z",
     "shell.execute_reply": "2025-08-19T02:52:44.359090Z",
     "shell.execute_reply.started": "2025-08-19T02:52:44.353764Z"
    },
    "tags": []
   },
   "outputs": [],
   "source": [
    "pca_relative_real = pd.DataFrame.from_dict({'E10': pca_pairdist_real['E12']['E10']/pca_pairdist_real['E14']['E10'],\n",
    "                                            'E12': 0,\n",
    "                                            'E14': pca_pairdist_real['E12']['E14']/pca_pairdist_real['E14']['E10']},\n",
    "                                           orient='index', columns = ['E12'])\n",
    "pca_relative_cyto = pd.DataFrame.from_dict({'E10': pca_pairdist_cyto['E12']['E10']/pca_pairdist_cyto['E14']['E10'],\n",
    "                                            'E12': 0,\n",
    "                                            'E14': pca_pairdist_cyto['E12']['E14']/pca_pairdist_cyto['E14']['E10']},\n",
    "                                           orient='index', columns = ['E12'])\n",
    "pca_relative_scva = pd.DataFrame.from_dict({'E10': pca_pairdist_scva['E12']['E10']/pca_pairdist_scva['E14']['E10'],\n",
    "                                            'E12': 0,\n",
    "                                            'E14': pca_pairdist_scva['E12']['E14']/pca_pairdist_scva['E14']['E10']},\n",
    "                                           orient='index', columns = ['E12'])\n",
    "pca_relative_scde = pd.DataFrame.from_dict({'E10': pca_pairdist_scde['E12']['E10']/pca_pairdist_scde['E14']['E10'],\n",
    "                                            'E12': 0,\n",
    "                                            'E14': pca_pairdist_scde['E12']['E14']/pca_pairdist_scde['E14']['E10']},\n",
    "                                           orient='index', columns = ['E12'])\n",
    "pca_relative_spla = pd.DataFrame.from_dict({'E10': pca_pairdist_spla['E12']['E10']/pca_pairdist_spla['E14']['E10'],\n",
    "                                            'E12': 0,\n",
    "                                            'E14': pca_pairdist_spla['E12']['E14']/pca_pairdist_spla['E14']['E10']},\n",
    "                                           orient='index', columns = ['E12'])\n",
    "pca_relative_simp = pd.DataFrame.from_dict({'E10': pca_pairdist_simp['E12']['E10']/pca_pairdist_simp['E14']['E10'],\n",
    "                                            'E12': 0,\n",
    "                                            'E14': pca_pairdist_simp['E12']['E14']/pca_pairdist_simp['E14']['E10']},\n",
    "                                           orient='index', columns = ['E12'])"
   ]
  },
  {
   "cell_type": "code",
   "execution_count": 13,
   "id": "fd51fa5c-503c-43b3-8c23-6745409a37d1",
   "metadata": {
    "execution": {
     "iopub.execute_input": "2025-08-19T02:52:44.360347Z",
     "iopub.status.busy": "2025-08-19T02:52:44.359955Z",
     "iopub.status.idle": "2025-08-19T02:52:44.374852Z",
     "shell.execute_reply": "2025-08-19T02:52:44.374423Z",
     "shell.execute_reply.started": "2025-08-19T02:52:44.360324Z"
    },
    "tags": []
   },
   "outputs": [],
   "source": [
    "rela_pearson_cyto = corr_diff(pca_relative_real, pca_relative_cyto)\n",
    "rela_pearson_scva = corr_diff(pca_relative_real, pca_relative_scva)\n",
    "rela_pearson_scde = corr_diff(pca_relative_real, pca_relative_scde)\n",
    "rela_pearson_spla = corr_diff(pca_relative_real, pca_relative_spla)\n",
    "rela_pearson_simp = corr_diff(pca_relative_real, pca_relative_simp)"
   ]
  },
  {
   "cell_type": "code",
   "execution_count": 16,
   "id": "19f26bfd-9d76-4482-9d12-ab5a53a3d531",
   "metadata": {
    "execution": {
     "iopub.execute_input": "2025-08-19T02:53:10.269546Z",
     "iopub.status.busy": "2025-08-19T02:53:10.268971Z",
     "iopub.status.idle": "2025-08-19T02:53:10.277356Z",
     "shell.execute_reply": "2025-08-19T02:53:10.276653Z",
     "shell.execute_reply.started": "2025-08-19T02:53:10.269516Z"
    },
    "tags": []
   },
   "outputs": [],
   "source": [
    "rela_pearson = pd.concat([rela_pearson_cyto,rela_pearson_scva,rela_pearson_scde,rela_pearson_spla,rela_pearson_simp], axis = 1)\n",
    "rela_pearson.columns = ['CytOrigin','scVAEDer','scDesign3','Splatter','Splatter-Simple']\n",
    "rela_pearson.to_csv('/slurm/home/yrd/liaolab/caohaoxue/embryo_work/benchmark/E12_relative_pearson.csv')"
   ]
  },
  {
   "cell_type": "markdown",
   "id": "2f6e5ea7-540e-4d7a-9817-9d974ba79d6e",
   "metadata": {
    "tags": []
   },
   "source": [
    "# E14"
   ]
  },
  {
   "cell_type": "code",
   "execution_count": 122,
   "id": "9f343d0a-d9fc-4fe2-9af5-0c612daed463",
   "metadata": {
    "execution": {
     "iopub.execute_input": "2025-08-19T02:42:18.801882Z",
     "iopub.status.busy": "2025-08-19T02:42:18.801310Z",
     "iopub.status.idle": "2025-08-19T02:42:20.855488Z",
     "shell.execute_reply": "2025-08-19T02:42:20.854948Z",
     "shell.execute_reply.started": "2025-08-19T02:42:18.801845Z"
    }
   },
   "outputs": [],
   "source": [
    "cyto = sc.read_h5ad('/slurm/home/yrd/liaolab/caohaoxue/embryo_work/benchmark/simulated_matrix/h5ad_format/E14f_CytO.h5ad')\n",
    "spla = sc.read_h5ad('/slurm/home/yrd/liaolab/caohaoxue/embryo_work/benchmark/simulated_matrix/h5ad_format/E14f_splatter.h5ad')\n",
    "simp = sc.read_h5ad('/slurm/home/yrd/liaolab/caohaoxue/embryo_work/benchmark/simulated_matrix/h5ad_format/E14f_splatter_simple.h5ad')\n",
    "scde = sc.read_h5ad('/slurm/home/yrd/liaolab/caohaoxue/embryo_work/benchmark/simulated_matrix/h5ad_format/E14f_scDesign3.h5ad')\n",
    "scva = sc.read_h5ad('/slurm/home/yrd/liaolab/caohaoxue/embryo_work/benchmark/simulated_matrix/h5ad_format/E14f_scVAEDer.h5ad')\n",
    "real = sc.read_h5ad('/slurm/home/yrd/liaolab/caohaoxue/embryo_work/data_standard/Zygote_to_CS7.h5ad')"
   ]
  },
  {
   "cell_type": "code",
   "execution_count": 124,
   "id": "0d3f17d0-2977-4a6b-8074-63d79f6010f1",
   "metadata": {
    "execution": {
     "iopub.execute_input": "2025-08-19T02:42:57.919658Z",
     "iopub.status.busy": "2025-08-19T02:42:57.919053Z",
     "iopub.status.idle": "2025-08-19T02:42:58.326995Z",
     "shell.execute_reply": "2025-08-19T02:42:58.326387Z",
     "shell.execute_reply.started": "2025-08-19T02:42:57.919622Z"
    }
   },
   "outputs": [],
   "source": [
    "real = real[real.obs.time.isin (['E12','CS7','E14'])]\n",
    "real.var = real.var.rename(columns = {'x':'features'})\n",
    "real.var.index = real.var.features"
   ]
  },
  {
   "cell_type": "code",
   "execution_count": 125,
   "id": "615b2e15-1e71-4b3c-883e-ec47758f60f2",
   "metadata": {
    "execution": {
     "iopub.execute_input": "2025-08-19T02:43:37.577204Z",
     "iopub.status.busy": "2025-08-19T02:43:37.576576Z",
     "iopub.status.idle": "2025-08-19T02:43:38.183714Z",
     "shell.execute_reply": "2025-08-19T02:43:38.183154Z",
     "shell.execute_reply.started": "2025-08-19T02:43:37.577172Z"
    }
   },
   "outputs": [],
   "source": [
    "adata_int = sc.concat([cyto,spla,simp,scde,scva],\n",
    "                      join = 'outer',\n",
    "                      fill_value = 0)\n",
    "\n",
    "adata_full = sc.concat([real,adata_int],\n",
    "                       label = 'source',\n",
    "                       keys = ['real','simulated'],\n",
    "                       index_unique = '-')"
   ]
  },
  {
   "cell_type": "code",
   "execution_count": 127,
   "id": "fa644bbe-5825-44ab-9e6a-2e69657660c2",
   "metadata": {
    "execution": {
     "iopub.execute_input": "2025-08-19T02:45:55.396961Z",
     "iopub.status.busy": "2025-08-19T02:45:55.396297Z",
     "iopub.status.idle": "2025-08-19T02:46:14.788345Z",
     "shell.execute_reply": "2025-08-19T02:46:14.787799Z",
     "shell.execute_reply.started": "2025-08-19T02:45:55.396912Z"
    }
   },
   "outputs": [
    {
     "name": "stdout",
     "output_type": "stream",
     "text": [
      "WARNING: consider updating your call to make use of `computation`\n",
      "WARNING: consider updating your call to make use of `computation`\n",
      "WARNING: consider updating your call to make use of `computation`\n",
      "WARNING: consider updating your call to make use of `computation`\n",
      "WARNING: consider updating your call to make use of `computation`\n",
      "WARNING: consider updating your call to make use of `computation`\n"
     ]
    }
   ],
   "source": [
    "adata = adata_full[adata_full.obs.time.isin(['E14','CS7','E12'])]\n",
    "sc.tl.pca(adata, svd_solver='arpack')\n",
    "sc.external.pp.bbknn(adata, batch_key='source')\n",
    "sc.tl.umap(adata)\n",
    "centroids_pca = calculate_trimmed_means(\n",
    "                adata.obsm[\"X_umap\"],\n",
    "                adata.obs[\"time\"],\n",
    "                trim_proportion=0.05,\n",
    "            )\n",
    "pca_pairdist_real = compute_classwise_distances(centroids_pca)\n",
    "\n",
    "adata = adata_full[adata_full.obs.time.isin(['E14-CytOrigin','CS7','E12'])]\n",
    "sc.tl.pca(adata, svd_solver='arpack')\n",
    "sc.external.pp.bbknn(adata, batch_key='source')\n",
    "sc.tl.umap(adata)\n",
    "centroids_pca = calculate_trimmed_means(\n",
    "                adata.obsm[\"X_umap\"],\n",
    "                adata.obs[\"time\"],\n",
    "                trim_proportion=0.05,\n",
    "            )\n",
    "pca_pairdist_cyto = compute_classwise_distances(centroids_pca)\n",
    "\n",
    "adata = adata_full[adata_full.obs.time.isin(['E14-Splatter','CS7','E12'])]\n",
    "sc.tl.pca(adata, svd_solver='arpack')\n",
    "sc.external.pp.bbknn(adata, batch_key='source')\n",
    "sc.tl.umap(adata)\n",
    "centroids_pca = calculate_trimmed_means(\n",
    "                adata.obsm[\"X_umap\"],\n",
    "                adata.obs[\"time\"],\n",
    "                trim_proportion=0.05,\n",
    "            )\n",
    "pca_pairdist_spla = compute_classwise_distances(centroids_pca)\n",
    "\n",
    "adata = adata_full[adata_full.obs.time.isin(['E14-Splatter-Simple','CS7','E12'])]\n",
    "sc.tl.pca(adata, svd_solver='arpack')\n",
    "sc.external.pp.bbknn(adata, batch_key='source')\n",
    "sc.tl.umap(adata)\n",
    "centroids_pca = calculate_trimmed_means(\n",
    "                adata.obsm[\"X_umap\"],\n",
    "                adata.obs[\"time\"],\n",
    "                trim_proportion=0.05,\n",
    "            )\n",
    "pca_pairdist_simp = compute_classwise_distances(centroids_pca)\n",
    "\n",
    "adata = adata_full[adata_full.obs.time.isin(['E14-scDesign3','CS7','E12'])]\n",
    "sc.tl.pca(adata, svd_solver='arpack')\n",
    "sc.external.pp.bbknn(adata, batch_key='source')\n",
    "sc.tl.umap(adata)\n",
    "centroids_pca = calculate_trimmed_means(\n",
    "                adata.obsm[\"X_umap\"],\n",
    "                adata.obs[\"time\"],\n",
    "                trim_proportion=0.05,\n",
    "            )\n",
    "pca_pairdist_scde = compute_classwise_distances(centroids_pca)\n",
    "\n",
    "adata = adata_full[adata_full.obs.time.isin(['E14-scVAEDer','CS7','E12'])]\n",
    "sc.tl.pca(adata, svd_solver='arpack')\n",
    "sc.external.pp.bbknn(adata, batch_key='source')\n",
    "sc.tl.umap(adata)\n",
    "centroids_pca = calculate_trimmed_means(\n",
    "                adata.obsm[\"X_umap\"],\n",
    "                adata.obs[\"time\"],\n",
    "                trim_proportion=0.05,\n",
    "            )\n",
    "pca_pairdist_scva = compute_classwise_distances(centroids_pca)"
   ]
  },
  {
   "cell_type": "code",
   "execution_count": null,
   "id": "cbb1fc8f-58ff-4bf1-9288-9772683ed6ad",
   "metadata": {
    "execution": {
     "iopub.execute_input": "2025-08-19T02:48:51.869536Z",
     "iopub.status.busy": "2025-08-19T02:48:51.869184Z",
     "iopub.status.idle": "2025-08-19T02:48:51.874760Z",
     "shell.execute_reply": "2025-08-19T02:48:51.874196Z",
     "shell.execute_reply.started": "2025-08-19T02:48:51.869511Z"
    },
    "tags": []
   },
   "outputs": [],
   "source": [
    "pca_pairdist_cyto.index = ['CS7','E12','E14']\n",
    "pca_pairdist_cyto.columns = ['CS7','E12','E14']\n",
    "\n",
    "pca_pairdist_scde.index = ['CS7','E12','E14']\n",
    "pca_pairdist_scde.columns = ['CS7','E12','E14']\n",
    "\n",
    "pca_pairdist_scva.index = ['CS7','E12','E14']\n",
    "pca_pairdist_scva.columns = ['CS7','E12','E14']\n",
    "\n",
    "pca_pairdist_spla.index = ['CS7','E12','E14']\n",
    "pca_pairdist_spla.columns = ['CS7','E12','E14']\n",
    "\n",
    "pca_pairdist_simp.index = ['CS7','E12','E14']\n",
    "pca_pairdist_simp.columns = ['CS7','E12','E14']"
   ]
  },
  {
   "cell_type": "code",
   "execution_count": null,
   "id": "8a39cea3-d504-4ccf-9ea7-32c3c3152950",
   "metadata": {
    "execution": {
     "iopub.execute_input": "2025-08-19T02:49:09.819846Z",
     "iopub.status.busy": "2025-08-19T02:49:09.819391Z",
     "iopub.status.idle": "2025-08-19T02:49:09.851802Z",
     "shell.execute_reply": "2025-08-19T02:49:09.851212Z",
     "shell.execute_reply.started": "2025-08-19T02:49:09.819813Z"
    },
    "tags": []
   },
   "outputs": [],
   "source": [
    "index_pearson_cyto = corr_diff(pca_pairdist_real, pca_pairdist_cyto)\n",
    "index_pearson_scva = corr_diff(pca_pairdist_real, pca_pairdist_scva)\n",
    "index_pearson_scde = corr_diff(pca_pairdist_real, pca_pairdist_scde)\n",
    "index_pearson_spla = corr_diff(pca_pairdist_real, pca_pairdist_spla)\n",
    "index_pearson_simp = corr_diff(pca_pairdist_real, pca_pairdist_simp)"
   ]
  },
  {
   "cell_type": "code",
   "execution_count": null,
   "id": "03359084-fe5f-4e5c-96a0-3eeb1386cdc5",
   "metadata": {
    "execution": {
     "iopub.execute_input": "2025-08-19T02:49:41.161503Z",
     "iopub.status.busy": "2025-08-19T02:49:41.160877Z",
     "iopub.status.idle": "2025-08-19T02:49:41.168343Z",
     "shell.execute_reply": "2025-08-19T02:49:41.167674Z",
     "shell.execute_reply.started": "2025-08-19T02:49:41.161470Z"
    },
    "tags": []
   },
   "outputs": [
    {
     "data": {
      "text/html": [
       "<div>\n",
       "<style scoped>\n",
       "    .dataframe tbody tr th:only-of-type {\n",
       "        vertical-align: middle;\n",
       "    }\n",
       "\n",
       "    .dataframe tbody tr th {\n",
       "        vertical-align: top;\n",
       "    }\n",
       "\n",
       "    .dataframe thead th {\n",
       "        text-align: right;\n",
       "    }\n",
       "</style>\n",
       "<table border=\"1\" class=\"dataframe\">\n",
       "  <thead>\n",
       "    <tr style=\"text-align: right;\">\n",
       "      <th></th>\n",
       "      <th>CytOrigin</th>\n",
       "      <th>scVAEDer</th>\n",
       "      <th>scDesign3</th>\n",
       "      <th>Splatter</th>\n",
       "      <th>Splatter-Simple</th>\n",
       "    </tr>\n",
       "  </thead>\n",
       "  <tbody>\n",
       "    <tr>\n",
       "      <th>CS10</th>\n",
       "      <td>0.411863</td>\n",
       "      <td>0.393602</td>\n",
       "      <td>-0.007683</td>\n",
       "      <td>0.984130</td>\n",
       "      <td>0.999602</td>\n",
       "    </tr>\n",
       "    <tr>\n",
       "      <th>CS11</th>\n",
       "      <td>0.773717</td>\n",
       "      <td>0.233569</td>\n",
       "      <td>0.787159</td>\n",
       "      <td>0.996481</td>\n",
       "      <td>0.999859</td>\n",
       "    </tr>\n",
       "    <tr>\n",
       "      <th>CS9</th>\n",
       "      <td>0.960968</td>\n",
       "      <td>0.939361</td>\n",
       "      <td>0.791428</td>\n",
       "      <td>0.966340</td>\n",
       "      <td>0.999933</td>\n",
       "    </tr>\n",
       "  </tbody>\n",
       "</table>\n",
       "</div>"
      ],
      "text/plain": [
       "      CytOrigin  scVAEDer  scDesign3  Splatter  Splatter-Simple\n",
       "CS10   0.411863  0.393602  -0.007683  0.984130         0.999602\n",
       "CS11   0.773717  0.233569   0.787159  0.996481         0.999859\n",
       "CS9    0.960968  0.939361   0.791428  0.966340         0.999933"
      ]
     },
     "execution_count": 17,
     "metadata": {},
     "output_type": "execute_result"
    }
   ],
   "source": [
    "index_pearson = pd.concat([index_pearson_cyto,index_pearson_scva,index_pearson_scde,index_pearson_spla,index_pearson_simp], axis = 1)\n",
    "index_pearson.columns = ['CytOrigin','scVAEDer','scDesign3','Splatter','Splatter-Simple']\n",
    "index_pearson.to_csv('/slurm/home/yrd/liaolab/caohaoxue/embryo_work/benchmark/E14_index_pearson.csv')"
   ]
  },
  {
   "cell_type": "code",
   "execution_count": 136,
   "id": "5f1a7a2d-47ae-4b82-9041-d5d16f65a69c",
   "metadata": {
    "execution": {
     "iopub.execute_input": "2025-08-19T02:50:58.782352Z",
     "iopub.status.busy": "2025-08-19T02:50:58.781710Z",
     "iopub.status.idle": "2025-08-19T02:50:58.793254Z",
     "shell.execute_reply": "2025-08-19T02:50:58.792548Z",
     "shell.execute_reply.started": "2025-08-19T02:50:58.782314Z"
    }
   },
   "outputs": [],
   "source": [
    "pca_relative_real = pd.DataFrame.from_dict({'E12': pca_pairdist_real['E14']['E12']/pca_pairdist_real['CS7']['E12'],\n",
    "                                            'E14': 0,\n",
    "                                            'CS7': pca_pairdist_real['E14']['CS7']/pca_pairdist_real['CS7']['E12']},\n",
    "                                           orient='index', columns = ['E14'])\n",
    "pca_relative_cyto = pd.DataFrame.from_dict({'E12': pca_pairdist_cyto['E14']['E12']/pca_pairdist_cyto['CS7']['E12'],\n",
    "                                            'E14': 0,\n",
    "                                            'CS7': pca_pairdist_cyto['E14']['CS7']/pca_pairdist_cyto['CS7']['E12']},\n",
    "                                           orient='index', columns = ['E14'])\n",
    "pca_relative_scva = pd.DataFrame.from_dict({'E12': pca_pairdist_scva['E14']['E12']/pca_pairdist_scva['CS7']['E12'],\n",
    "                                            'E14': 0,\n",
    "                                            'CS7': pca_pairdist_scva['E14']['CS7']/pca_pairdist_scva['CS7']['E12']},\n",
    "                                           orient='index', columns = ['E14'])\n",
    "pca_relative_scde = pd.DataFrame.from_dict({'E12': pca_pairdist_scde['E14']['E12']/pca_pairdist_scde['CS7']['E12'],\n",
    "                                            'E14': 0,\n",
    "                                            'CS7': pca_pairdist_scde['E14']['CS7']/pca_pairdist_scde['CS7']['E12']},\n",
    "                                           orient='index', columns = ['E14'])\n",
    "pca_relative_spla = pd.DataFrame.from_dict({'E12': pca_pairdist_spla['E14']['E12']/pca_pairdist_spla['CS7']['E12'],\n",
    "                                            'E14': 0,\n",
    "                                            'CS7': pca_pairdist_spla['E14']['CS7']/pca_pairdist_spla['CS7']['E12']},\n",
    "                                           orient='index', columns = ['E14'])\n",
    "pca_relative_simp = pd.DataFrame.from_dict({'E12': pca_pairdist_simp['E14']['E12']/pca_pairdist_simp['CS7']['E12'],\n",
    "                                            'E14': 0,\n",
    "                                            'CS7': pca_pairdist_simp['E14']['CS7']/pca_pairdist_simp['CS7']['E12']},\n",
    "                                           orient='index', columns = ['E14'])"
   ]
  },
  {
   "cell_type": "code",
   "execution_count": 137,
   "id": "3f0c7e3b-1b47-4f55-bda3-89971417df4c",
   "metadata": {
    "execution": {
     "iopub.execute_input": "2025-08-19T02:51:08.134305Z",
     "iopub.status.busy": "2025-08-19T02:51:08.133700Z",
     "iopub.status.idle": "2025-08-19T02:51:08.150545Z",
     "shell.execute_reply": "2025-08-19T02:51:08.149859Z",
     "shell.execute_reply.started": "2025-08-19T02:51:08.134273Z"
    }
   },
   "outputs": [],
   "source": [
    "rela_pearson_cyto = corr_diff(pca_relative_real, pca_relative_cyto)\n",
    "rela_pearson_scva = corr_diff(pca_relative_real, pca_relative_scva)\n",
    "rela_pearson_scde = corr_diff(pca_relative_real, pca_relative_scde)\n",
    "rela_pearson_spla = corr_diff(pca_relative_real, pca_relative_spla)\n",
    "rela_pearson_simp = corr_diff(pca_relative_real, pca_relative_simp)"
   ]
  },
  {
   "cell_type": "code",
   "execution_count": 141,
   "id": "53318585-229f-47f2-8551-f23063b1543c",
   "metadata": {
    "execution": {
     "iopub.execute_input": "2025-08-19T02:51:55.876425Z",
     "iopub.status.busy": "2025-08-19T02:51:55.875850Z",
     "iopub.status.idle": "2025-08-19T02:51:55.884872Z",
     "shell.execute_reply": "2025-08-19T02:51:55.884203Z",
     "shell.execute_reply.started": "2025-08-19T02:51:55.876394Z"
    },
    "tags": []
   },
   "outputs": [],
   "source": [
    "rela_pearson = pd.concat([rela_pearson_cyto,rela_pearson_scva,rela_pearson_scde,rela_pearson_spla,rela_pearson_simp], axis = 1)\n",
    "rela_pearson.columns = ['CytOrigin','scVAEDer','scDesign3','Splatter','Splatter-Simple']\n",
    "rela_pearson.to_csv('/slurm/home/yrd/liaolab/caohaoxue/embryo_work/benchmark/E14_relative_pearson.csv')"
   ]
  },
  {
   "cell_type": "markdown",
   "id": "35b1359d-6b7f-4a22-b0a7-37dff7ce0aa8",
   "metadata": {
    "execution": {
     "iopub.execute_input": "2025-08-19T02:56:54.869412Z",
     "iopub.status.busy": "2025-08-19T02:56:54.868948Z",
     "iopub.status.idle": "2025-08-19T02:56:54.873143Z",
     "shell.execute_reply": "2025-08-19T02:56:54.872262Z",
     "shell.execute_reply.started": "2025-08-19T02:56:54.869380Z"
    }
   },
   "source": [
    "# CS10"
   ]
  },
  {
   "cell_type": "code",
   "execution_count": 4,
   "id": "d158ba3f-d9b3-4f51-89d1-f671cc89005a",
   "metadata": {
    "execution": {
     "iopub.execute_input": "2025-08-19T09:12:49.828179Z",
     "iopub.status.busy": "2025-08-19T09:12:49.827615Z",
     "iopub.status.idle": "2025-08-19T09:13:23.125547Z",
     "shell.execute_reply": "2025-08-19T09:13:23.124881Z",
     "shell.execute_reply.started": "2025-08-19T09:12:49.828148Z"
    },
    "tags": []
   },
   "outputs": [],
   "source": [
    "cyto = sc.read_h5ad('/slurm/home/yrd/liaolab/caohaoxue/embryo_work/benchmark/simulated_matrix/h5ad_format/CS10f_CytO.h5ad')\n",
    "spla = sc.read_h5ad('/slurm/home/yrd/liaolab/caohaoxue/embryo_work/benchmark/simulated_matrix/h5ad_format/CS10f_splatter.h5ad')\n",
    "simp = sc.read_h5ad('/slurm/home/yrd/liaolab/caohaoxue/embryo_work/benchmark/simulated_matrix/h5ad_format/CS10f_splatter_simple.h5ad')\n",
    "scde = sc.read_h5ad('/slurm/home/yrd/liaolab/caohaoxue/embryo_work/benchmark/simulated_matrix/h5ad_format/CS10f_scDesign3.h5ad')\n",
    "scva = sc.read_h5ad('/slurm/home/yrd/liaolab/caohaoxue/embryo_work/benchmark/simulated_matrix/h5ad_format/CS10f_scVAEDer.h5ad')\n",
    "#real1 = sc.read_h5ad('/slurm/home/yrd/liaolab/caohaoxue/embryo_work/data_standard/CS9.h5ad')\n",
    "real2 = sc.read_h5ad('/slurm/home/yrd/liaolab/caohaoxue/embryo_work/data_standard/CS10.h5ad')\n",
    "#real3 = sc.read_h5ad('/slurm/home/yrd/liaolab/caohaoxue/embryo_work/data_standard/CS11.h5ad')"
   ]
  },
  {
   "cell_type": "code",
   "execution_count": 5,
   "id": "07e4aff5-83e2-42c6-bb19-793755afc8a8",
   "metadata": {
    "execution": {
     "iopub.execute_input": "2025-08-19T09:13:23.126336Z",
     "iopub.status.busy": "2025-08-19T09:13:23.126185Z",
     "iopub.status.idle": "2025-08-19T09:13:23.154213Z",
     "shell.execute_reply": "2025-08-19T09:13:23.153687Z",
     "shell.execute_reply.started": "2025-08-19T09:13:23.126320Z"
    },
    "tags": []
   },
   "outputs": [],
   "source": [
    "real2.var = real2.var.rename(columns = {'x':'features'})\n",
    "real2.var.index = real2.var.features\n",
    "real2.obs['time'] = 'CS10'"
   ]
  },
  {
   "cell_type": "code",
   "execution_count": 6,
   "id": "61960af8-cca7-42fa-87bf-4a62575023ad",
   "metadata": {
    "execution": {
     "iopub.execute_input": "2025-08-19T09:13:23.154799Z",
     "iopub.status.busy": "2025-08-19T09:13:23.154662Z",
     "iopub.status.idle": "2025-08-19T09:13:24.037051Z",
     "shell.execute_reply": "2025-08-19T09:13:24.036229Z",
     "shell.execute_reply.started": "2025-08-19T09:13:23.154785Z"
    },
    "tags": []
   },
   "outputs": [],
   "source": [
    "count_matrix = mmread('/slurm/home/yrd/liaolab/caohaoxue/embryo_work/benchmark/source_matrix/CS9_CS11_2CS10_counts.mtx').T\n",
    "barcodes = pd.read_csv('/slurm/home/yrd/liaolab/caohaoxue/embryo_work/benchmark/source_matrix/CS9_CS11_2CS10_cell.csv', index_col = 0)\n",
    "gene_ids = pd.read_csv('/slurm/home/yrd/liaolab/caohaoxue/embryo_work/benchmark/source_matrix/CS9_CS11_2CS10_gene.csv', index_col = 0)\n",
    "real1 = an.AnnData(X = count_matrix.toarray(),\n",
    "                   obs = barcodes,\n",
    "                   var = gene_ids)"
   ]
  },
  {
   "cell_type": "code",
   "execution_count": 16,
   "id": "f8dbcd3d-b465-4268-aebe-60eeb49e6fd8",
   "metadata": {
    "execution": {
     "iopub.execute_input": "2025-08-19T09:31:56.701695Z",
     "iopub.status.busy": "2025-08-19T09:31:56.701068Z",
     "iopub.status.idle": "2025-08-19T09:31:58.048422Z",
     "shell.execute_reply": "2025-08-19T09:31:58.047872Z",
     "shell.execute_reply.started": "2025-08-19T09:31:56.701663Z"
    },
    "tags": []
   },
   "outputs": [],
   "source": [
    "sc.pp.normalize_total(real1, target_sum=1e4)\n",
    "sc.pp.log1p(real1)"
   ]
  },
  {
   "cell_type": "code",
   "execution_count": 17,
   "id": "2ab8066f-f0cf-45b0-b883-47fad84cc8ff",
   "metadata": {
    "execution": {
     "iopub.execute_input": "2025-08-19T09:31:59.694027Z",
     "iopub.status.busy": "2025-08-19T09:31:59.693377Z",
     "iopub.status.idle": "2025-08-19T09:32:11.959622Z",
     "shell.execute_reply": "2025-08-19T09:32:11.958942Z",
     "shell.execute_reply.started": "2025-08-19T09:31:59.693993Z"
    },
    "tags": []
   },
   "outputs": [],
   "source": [
    "real = sc.concat([real1,real2],\n",
    "                      join = 'outer',\n",
    "                      fill_value = 0)"
   ]
  },
  {
   "cell_type": "code",
   "execution_count": 18,
   "id": "b7f72bf5-7726-4ff5-9af1-ad250f69ff13",
   "metadata": {
    "execution": {
     "iopub.execute_input": "2025-08-19T09:32:11.961434Z",
     "iopub.status.busy": "2025-08-19T09:32:11.960800Z",
     "iopub.status.idle": "2025-08-19T09:32:21.835668Z",
     "shell.execute_reply": "2025-08-19T09:32:21.835098Z",
     "shell.execute_reply.started": "2025-08-19T09:32:11.961401Z"
    },
    "tags": []
   },
   "outputs": [],
   "source": [
    "adata_int = sc.concat([cyto,spla,simp,scde,scva],\n",
    "                      join = 'outer',\n",
    "                      fill_value = 0)\n",
    "\n",
    "adata_full = sc.concat([real,adata_int],\n",
    "                       label = 'source',\n",
    "                       keys = ['real','simulated'],\n",
    "                       index_unique = '-')"
   ]
  },
  {
   "cell_type": "code",
   "execution_count": 28,
   "id": "2f92e5b0-ec5f-4040-9293-f58dc1955881",
   "metadata": {
    "execution": {
     "iopub.execute_input": "2025-08-19T15:58:00.202261Z",
     "iopub.status.busy": "2025-08-19T15:58:00.201654Z",
     "iopub.status.idle": "2025-08-19T15:58:00.208378Z",
     "shell.execute_reply": "2025-08-19T15:58:00.207747Z",
     "shell.execute_reply.started": "2025-08-19T15:58:00.202224Z"
    },
    "tags": []
   },
   "outputs": [
    {
     "data": {
      "text/plain": [
       "View of AnnData object with n_obs × n_vars = 120254 × 8000\n",
       "    obs: 'orig.ident', 'nCount_RNA', 'nFeature_RNA', 'cell_type', 'time', 'merge_type', 'source'\n",
       "    var: 'highly_variable', 'means', 'dispersions', 'dispersions_norm'\n",
       "    uns: 'hvg'\n",
       "    obsm: 'X_pca', 'X_umap'"
      ]
     },
     "execution_count": 28,
     "metadata": {},
     "output_type": "execute_result"
    }
   ],
   "source": [
    "adata_full"
   ]
  },
  {
   "cell_type": "code",
   "execution_count": 27,
   "id": "a34550c3-1c28-40ef-b33a-1548eec21c68",
   "metadata": {
    "execution": {
     "iopub.execute_input": "2025-08-19T15:57:44.570645Z",
     "iopub.status.busy": "2025-08-19T15:57:44.569831Z",
     "iopub.status.idle": "2025-08-19T15:57:55.666331Z",
     "shell.execute_reply": "2025-08-19T15:57:55.665262Z",
     "shell.execute_reply.started": "2025-08-19T15:57:44.570612Z"
    },
    "tags": []
   },
   "outputs": [],
   "source": [
    "sc.pp.highly_variable_genes(adata_full, n_top_genes = 8000)\n",
    "adata_full = adata_full[:, adata_full.var.highly_variable]"
   ]
  },
  {
   "cell_type": "code",
   "execution_count": 29,
   "id": "568e4f73-8f54-4545-9508-2e1d2c611b04",
   "metadata": {
    "execution": {
     "iopub.execute_input": "2025-08-19T15:58:01.495154Z",
     "iopub.status.busy": "2025-08-19T15:58:01.494576Z",
     "iopub.status.idle": "2025-08-19T16:01:14.550684Z",
     "shell.execute_reply": "2025-08-19T16:01:14.550281Z",
     "shell.execute_reply.started": "2025-08-19T15:58:01.495123Z"
    },
    "tags": []
   },
   "outputs": [
    {
     "name": "stdout",
     "output_type": "stream",
     "text": [
      "WARNING: consider updating your call to make use of `computation`\n",
      "WARNING: consider updating your call to make use of `computation`\n",
      "WARNING: consider updating your call to make use of `computation`\n",
      "WARNING: consider updating your call to make use of `computation`\n",
      "WARNING: consider updating your call to make use of `computation`\n",
      "WARNING: consider updating your call to make use of `computation`\n"
     ]
    }
   ],
   "source": [
    "adata = adata_full[adata_full.obs.time.isin(['CS10','CS11','CS9'])]\n",
    "sc.tl.pca(adata, svd_solver='arpack')\n",
    "sc.external.pp.bbknn(adata, batch_key='source')\n",
    "sc.tl.umap(adata)\n",
    "centroids_pca = calculate_trimmed_means(\n",
    "                adata.obsm[\"X_umap\"],\n",
    "                adata.obs[\"time\"],\n",
    "                trim_proportion=0.05,\n",
    "            )\n",
    "pca_pairdist_real = compute_classwise_distances(centroids_pca)\n",
    "\n",
    "adata = adata_full[adata_full.obs.time.isin(['CS10-CytOrigin','CS11','CS9'])]\n",
    "sc.tl.pca(adata, svd_solver='arpack')\n",
    "sc.external.pp.bbknn(adata, batch_key='source')\n",
    "sc.tl.umap(adata)\n",
    "centroids_pca = calculate_trimmed_means(\n",
    "                adata.obsm[\"X_umap\"],\n",
    "                adata.obs[\"time\"],\n",
    "                trim_proportion=0.05,\n",
    "            )\n",
    "pca_pairdist_cyto = compute_classwise_distances(centroids_pca)\n",
    "\n",
    "adata = adata_full[adata_full.obs.time.isin(['CS10-Splatter','CS11','CS9'])]\n",
    "sc.tl.pca(adata, svd_solver='arpack')\n",
    "sc.external.pp.bbknn(adata, batch_key='source')\n",
    "sc.tl.umap(adata)\n",
    "centroids_pca = calculate_trimmed_means(\n",
    "                adata.obsm[\"X_umap\"],\n",
    "                adata.obs[\"time\"],\n",
    "                trim_proportion=0.05,\n",
    "            )\n",
    "pca_pairdist_spla = compute_classwise_distances(centroids_pca)\n",
    "\n",
    "adata = adata_full[adata_full.obs.time.isin(['CS10-Splatter-Simple','CS11','CS9'])]\n",
    "sc.tl.pca(adata, svd_solver='arpack')\n",
    "sc.external.pp.bbknn(adata, batch_key='source')\n",
    "sc.tl.umap(adata)\n",
    "centroids_pca = calculate_trimmed_means(\n",
    "                adata.obsm[\"X_umap\"],\n",
    "                adata.obs[\"time\"],\n",
    "                trim_proportion=0.05,\n",
    "            )\n",
    "pca_pairdist_simp = compute_classwise_distances(centroids_pca)\n",
    "\n",
    "adata = adata_full[adata_full.obs.time.isin(['CS10-scDesign3','CS11','CS9'])]\n",
    "sc.tl.pca(adata, svd_solver='arpack')\n",
    "sc.external.pp.bbknn(adata, batch_key='source')\n",
    "sc.tl.umap(adata)\n",
    "centroids_pca = calculate_trimmed_means(\n",
    "                adata.obsm[\"X_umap\"],\n",
    "                adata.obs[\"time\"],\n",
    "                trim_proportion=0.05,\n",
    "            )\n",
    "pca_pairdist_scde = compute_classwise_distances(centroids_pca)\n",
    "\n",
    "adata = adata_full[adata_full.obs.time.isin(['CS10-scVAEDer','CS11','CS9'])]\n",
    "sc.tl.pca(adata, svd_solver='arpack')\n",
    "sc.external.pp.bbknn(adata, batch_key='source')\n",
    "sc.tl.umap(adata)\n",
    "centroids_pca = calculate_trimmed_means(\n",
    "                adata.obsm[\"X_umap\"],\n",
    "                adata.obs[\"time\"],\n",
    "                trim_proportion=0.05,\n",
    "            )\n",
    "pca_pairdist_scva = compute_classwise_distances(centroids_pca)"
   ]
  },
  {
   "cell_type": "code",
   "execution_count": 30,
   "id": "834edbd0-12c0-41e8-9930-7e973f2a29c0",
   "metadata": {
    "execution": {
     "iopub.execute_input": "2025-08-19T16:01:16.943313Z",
     "iopub.status.busy": "2025-08-19T16:01:16.943047Z",
     "iopub.status.idle": "2025-08-19T16:01:16.946826Z",
     "shell.execute_reply": "2025-08-19T16:01:16.946529Z",
     "shell.execute_reply.started": "2025-08-19T16:01:16.943299Z"
    },
    "tags": []
   },
   "outputs": [],
   "source": [
    "pca_pairdist_cyto.index = ['CS10','CS11','CS9']\n",
    "pca_pairdist_cyto.columns = ['CS10','CS11','CS9']\n",
    "\n",
    "pca_pairdist_scde.index = ['CS10','CS11','CS9']\n",
    "pca_pairdist_scde.columns = ['CS10','CS11','CS9']\n",
    "\n",
    "pca_pairdist_scva.index = ['CS10','CS11','CS9']\n",
    "pca_pairdist_scva.columns = ['CS10','CS11','CS9']\n",
    "\n",
    "pca_pairdist_spla.index = ['CS10','CS11','CS9']\n",
    "pca_pairdist_spla.columns = ['CS10','CS11','CS9']\n",
    "\n",
    "pca_pairdist_simp.index = ['CS10','CS11','CS9']\n",
    "pca_pairdist_simp.columns = ['CS10','CS11','CS9']"
   ]
  },
  {
   "cell_type": "code",
   "execution_count": 31,
   "id": "fe6f1b75-2e4c-492e-86fb-d95c080a3385",
   "metadata": {
    "execution": {
     "iopub.execute_input": "2025-08-19T16:01:18.140991Z",
     "iopub.status.busy": "2025-08-19T16:01:18.140541Z",
     "iopub.status.idle": "2025-08-19T16:01:18.167454Z",
     "shell.execute_reply": "2025-08-19T16:01:18.166924Z",
     "shell.execute_reply.started": "2025-08-19T16:01:18.140974Z"
    },
    "tags": []
   },
   "outputs": [],
   "source": [
    "index_pearson_cyto = corr_diff(pca_pairdist_real, pca_pairdist_cyto)\n",
    "index_pearson_scva = corr_diff(pca_pairdist_real, pca_pairdist_scva)\n",
    "index_pearson_scde = corr_diff(pca_pairdist_real, pca_pairdist_scde)\n",
    "index_pearson_spla = corr_diff(pca_pairdist_real, pca_pairdist_spla)\n",
    "index_pearson_simp = corr_diff(pca_pairdist_real, pca_pairdist_simp)"
   ]
  },
  {
   "cell_type": "code",
   "execution_count": 36,
   "id": "a131ffe4-ef0b-4a05-8674-bbd93b9e373e",
   "metadata": {
    "execution": {
     "iopub.execute_input": "2025-08-19T16:02:45.127326Z",
     "iopub.status.busy": "2025-08-19T16:02:45.126550Z",
     "iopub.status.idle": "2025-08-19T16:02:45.183940Z",
     "shell.execute_reply": "2025-08-19T16:02:45.183278Z",
     "shell.execute_reply.started": "2025-08-19T16:02:45.127292Z"
    },
    "tags": []
   },
   "outputs": [],
   "source": [
    "index_pearson = pd.concat([index_pearson_cyto,index_pearson_scva,index_pearson_scde,index_pearson_spla,index_pearson_simp], axis = 1)\n",
    "index_pearson.columns = ['CytOrigin','scVAEDer','scDesign3','Splatter','Splatter-Simple']\n",
    "index_pearson.to_csv('/slurm/home/yrd/liaolab/caohaoxue/embryo_work/benchmark/CS10_index_pearson.csv') #8kgene"
   ]
  },
  {
   "cell_type": "code",
   "execution_count": 33,
   "id": "6c98930d-71db-4d67-8c57-264d115c40e6",
   "metadata": {
    "execution": {
     "iopub.execute_input": "2025-08-19T16:01:55.469138Z",
     "iopub.status.busy": "2025-08-19T16:01:55.468590Z",
     "iopub.status.idle": "2025-08-19T16:01:55.480086Z",
     "shell.execute_reply": "2025-08-19T16:01:55.479301Z",
     "shell.execute_reply.started": "2025-08-19T16:01:55.469107Z"
    },
    "tags": []
   },
   "outputs": [],
   "source": [
    "pca_relative_real = pd.DataFrame.from_dict({'CS9': pca_pairdist_real['CS10']['CS9']/pca_pairdist_real['CS11']['CS9'],\n",
    "                                            'CS10': 0,\n",
    "                                            'CS11': pca_pairdist_real['CS10']['CS11']/pca_pairdist_real['CS11']['CS9']},\n",
    "                                           orient='index', columns = ['CS10'])\n",
    "pca_relative_cyto = pd.DataFrame.from_dict({'CS9': pca_pairdist_cyto['CS10']['CS9']/pca_pairdist_cyto['CS11']['CS9'],\n",
    "                                            'CS10': 0,\n",
    "                                            'CS11': pca_pairdist_cyto['CS10']['CS11']/pca_pairdist_cyto['CS11']['CS9']},\n",
    "                                           orient='index', columns = ['CS10'])\n",
    "pca_relative_scva = pd.DataFrame.from_dict({'CS9': pca_pairdist_scva['CS10']['CS9']/pca_pairdist_scva['CS11']['CS9'],\n",
    "                                            'CS10': 0,\n",
    "                                            'CS11': pca_pairdist_scva['CS10']['CS11']/pca_pairdist_scva['CS11']['CS9']},\n",
    "                                           orient='index', columns = ['CS10'])\n",
    "pca_relative_scde = pd.DataFrame.from_dict({'CS9': pca_pairdist_scde['CS10']['CS9']/pca_pairdist_scde['CS11']['CS9'],\n",
    "                                            'CS10': 0,\n",
    "                                            'CS11': pca_pairdist_scde['CS10']['CS11']/pca_pairdist_scde['CS11']['CS9']},\n",
    "                                           orient='index', columns = ['CS10'])\n",
    "pca_relative_spla = pd.DataFrame.from_dict({'CS9': pca_pairdist_spla['CS10']['CS9']/pca_pairdist_spla['CS11']['CS9'],\n",
    "                                            'CS10': 0,\n",
    "                                            'CS11': pca_pairdist_spla['CS10']['CS11']/pca_pairdist_spla['CS11']['CS9']},\n",
    "                                           orient='index', columns = ['CS10'])\n",
    "pca_relative_simp = pd.DataFrame.from_dict({'CS9': pca_pairdist_simp['CS10']['CS9']/pca_pairdist_simp['CS11']['CS9'],\n",
    "                                            'CS10': 0,\n",
    "                                            'CS11': pca_pairdist_simp['CS10']['CS11']/pca_pairdist_simp['CS11']['CS9']},\n",
    "                                           orient='index', columns = ['CS10'])"
   ]
  },
  {
   "cell_type": "code",
   "execution_count": 34,
   "id": "8ab69d1b-3d5d-40f9-b702-e1b01602cd78",
   "metadata": {
    "execution": {
     "iopub.execute_input": "2025-08-19T16:01:56.647711Z",
     "iopub.status.busy": "2025-08-19T16:01:56.647217Z",
     "iopub.status.idle": "2025-08-19T16:01:56.663214Z",
     "shell.execute_reply": "2025-08-19T16:01:56.662565Z",
     "shell.execute_reply.started": "2025-08-19T16:01:56.647680Z"
    },
    "tags": []
   },
   "outputs": [],
   "source": [
    "rela_pearson_cyto = corr_diff(pca_relative_real, pca_relative_cyto)\n",
    "rela_pearson_scva = corr_diff(pca_relative_real, pca_relative_scva)\n",
    "rela_pearson_scde = corr_diff(pca_relative_real, pca_relative_scde)\n",
    "rela_pearson_spla = corr_diff(pca_relative_real, pca_relative_spla)\n",
    "rela_pearson_simp = corr_diff(pca_relative_real, pca_relative_simp)"
   ]
  },
  {
   "cell_type": "code",
   "execution_count": 37,
   "id": "d61061ab-863e-464c-bbdf-1b8dd6ebfabc",
   "metadata": {
    "execution": {
     "iopub.execute_input": "2025-08-19T16:02:55.799734Z",
     "iopub.status.busy": "2025-08-19T16:02:55.798887Z",
     "iopub.status.idle": "2025-08-19T16:02:55.806937Z",
     "shell.execute_reply": "2025-08-19T16:02:55.806185Z",
     "shell.execute_reply.started": "2025-08-19T16:02:55.799697Z"
    },
    "tags": []
   },
   "outputs": [],
   "source": [
    "rela_pearson = pd.concat([rela_pearson_cyto,rela_pearson_scva,rela_pearson_scde,rela_pearson_spla,rela_pearson_simp], axis = 1)\n",
    "rela_pearson.columns = ['CytOrigin','scVAEDer','scDesign3','Splatter','Splatter-Simple']\n",
    "rela_pearson.to_csv('/slurm/home/yrd/liaolab/caohaoxue/embryo_work/benchmark/CS10_relative_pearson.csv') #8kgene"
   ]
  },
  {
   "cell_type": "markdown",
   "id": "96d7b750-1e20-48c8-b02d-040a12d62776",
   "metadata": {},
   "source": [
    "# CS11"
   ]
  },
  {
   "cell_type": "code",
   "execution_count": 38,
   "id": "23fbd603-837d-4d2b-a0c9-279cb1428eec",
   "metadata": {
    "execution": {
     "iopub.execute_input": "2025-08-19T16:05:53.575449Z",
     "iopub.status.busy": "2025-08-19T16:05:53.574678Z",
     "iopub.status.idle": "2025-08-19T16:06:10.109007Z",
     "shell.execute_reply": "2025-08-19T16:06:10.108305Z",
     "shell.execute_reply.started": "2025-08-19T16:05:53.575406Z"
    }
   },
   "outputs": [],
   "source": [
    "cyto = sc.read_h5ad('/slurm/home/yrd/liaolab/caohaoxue/embryo_work/benchmark/simulated_matrix/h5ad_format/CS11f_CytO.h5ad')\n",
    "spla = sc.read_h5ad('/slurm/home/yrd/liaolab/caohaoxue/embryo_work/benchmark/simulated_matrix/h5ad_format/CS11f_splatter.h5ad')\n",
    "simp = sc.read_h5ad('/slurm/home/yrd/liaolab/caohaoxue/embryo_work/benchmark/simulated_matrix/h5ad_format/CS11f_splatter_simple.h5ad')\n",
    "scde = sc.read_h5ad('/slurm/home/yrd/liaolab/caohaoxue/embryo_work/benchmark/simulated_matrix/h5ad_format/CS11f_scDesign3.h5ad')\n",
    "scva = sc.read_h5ad('/slurm/home/yrd/liaolab/caohaoxue/embryo_work/benchmark/simulated_matrix/h5ad_format/CS11f_scVAEDer.h5ad')\n",
    "real2 = sc.read_h5ad('/slurm/home/yrd/liaolab/caohaoxue/embryo_work/data_standard/CS11.h5ad')"
   ]
  },
  {
   "cell_type": "code",
   "execution_count": 39,
   "id": "a58cd97f-709f-4c12-84e0-d92709c75afc",
   "metadata": {
    "execution": {
     "iopub.execute_input": "2025-08-19T16:06:21.869553Z",
     "iopub.status.busy": "2025-08-19T16:06:21.869000Z",
     "iopub.status.idle": "2025-08-19T16:06:22.683652Z",
     "shell.execute_reply": "2025-08-19T16:06:22.682936Z",
     "shell.execute_reply.started": "2025-08-19T16:06:21.869520Z"
    }
   },
   "outputs": [],
   "source": [
    "count_matrix = mmread('/slurm/home/yrd/liaolab/caohaoxue/embryo_work/benchmark/source_matrix/CS10_CS12_2CS11_counts.mtx').T\n",
    "barcodes = pd.read_csv('/slurm/home/yrd/liaolab/caohaoxue/embryo_work/benchmark/source_matrix/CS10_CS12_2CS11_cell.csv', index_col = 0)\n",
    "gene_ids = pd.read_csv('/slurm/home/yrd/liaolab/caohaoxue/embryo_work/benchmark/source_matrix/CS10_CS12_2CS11_gene.csv', index_col = 0)\n",
    "real1 = an.AnnData(X = count_matrix.toarray(),\n",
    "                   obs = barcodes,\n",
    "                   var = gene_ids)"
   ]
  },
  {
   "cell_type": "code",
   "execution_count": 41,
   "id": "2175f9ef-3106-4568-a7e3-d8f8fd361bcf",
   "metadata": {
    "execution": {
     "iopub.execute_input": "2025-08-19T16:06:46.188889Z",
     "iopub.status.busy": "2025-08-19T16:06:46.188183Z",
     "iopub.status.idle": "2025-08-19T16:06:47.333964Z",
     "shell.execute_reply": "2025-08-19T16:06:47.333167Z",
     "shell.execute_reply.started": "2025-08-19T16:06:46.188856Z"
    },
    "tags": []
   },
   "outputs": [],
   "source": [
    "sc.pp.normalize_total(real1, target_sum=1e4)\n",
    "sc.pp.log1p(real1)"
   ]
  },
  {
   "cell_type": "code",
   "execution_count": 42,
   "id": "76328c20-ad91-4d72-a2a8-cbdf705b8156",
   "metadata": {
    "execution": {
     "iopub.execute_input": "2025-08-19T16:06:57.323337Z",
     "iopub.status.busy": "2025-08-19T16:06:57.322707Z",
     "iopub.status.idle": "2025-08-19T16:07:15.361899Z",
     "shell.execute_reply": "2025-08-19T16:07:15.361141Z",
     "shell.execute_reply.started": "2025-08-19T16:06:57.323302Z"
    }
   },
   "outputs": [],
   "source": [
    "real = sc.concat([real1,real2],\n",
    "                      join = 'outer',\n",
    "                      fill_value = 0)"
   ]
  },
  {
   "cell_type": "code",
   "execution_count": 43,
   "id": "641cd4e5-5c2a-4a60-b6b9-bd994725582e",
   "metadata": {
    "execution": {
     "iopub.execute_input": "2025-08-19T16:07:56.508762Z",
     "iopub.status.busy": "2025-08-19T16:07:56.508106Z",
     "iopub.status.idle": "2025-08-19T16:08:08.377267Z",
     "shell.execute_reply": "2025-08-19T16:08:08.376864Z",
     "shell.execute_reply.started": "2025-08-19T16:07:56.508729Z"
    }
   },
   "outputs": [],
   "source": [
    "adata_int = sc.concat([cyto,spla,simp,scde,scva],\n",
    "                      join = 'outer',\n",
    "                      fill_value = 0)\n",
    "\n",
    "adata_full = sc.concat([real,adata_int],\n",
    "                       label = 'source',\n",
    "                       keys = ['real','simulated'],\n",
    "                       index_unique = '-')"
   ]
  },
  {
   "cell_type": "code",
   "execution_count": 44,
   "id": "d8e1710f-6e77-4f8f-a65e-56782d22f556",
   "metadata": {
    "execution": {
     "iopub.execute_input": "2025-08-19T16:10:04.407117Z",
     "iopub.status.busy": "2025-08-19T16:10:04.406528Z",
     "iopub.status.idle": "2025-08-19T16:10:07.996372Z",
     "shell.execute_reply": "2025-08-19T16:10:07.995682Z",
     "shell.execute_reply.started": "2025-08-19T16:10:04.407085Z"
    }
   },
   "outputs": [],
   "source": [
    "sc.pp.highly_variable_genes(adata_full, n_top_genes = 8000)\n",
    "adata_full = adata_full[:, adata_full.var.highly_variable]"
   ]
  },
  {
   "cell_type": "code",
   "execution_count": 45,
   "id": "7551de20-4295-4e8f-8852-446d22e42b2a",
   "metadata": {
    "execution": {
     "iopub.execute_input": "2025-08-19T16:10:48.150206Z",
     "iopub.status.busy": "2025-08-19T16:10:48.149578Z",
     "iopub.status.idle": "2025-08-19T16:12:59.799772Z",
     "shell.execute_reply": "2025-08-19T16:12:59.799252Z",
     "shell.execute_reply.started": "2025-08-19T16:10:48.150172Z"
    }
   },
   "outputs": [
    {
     "name": "stdout",
     "output_type": "stream",
     "text": [
      "WARNING: consider updating your call to make use of `computation`\n",
      "WARNING: consider updating your call to make use of `computation`\n",
      "WARNING: consider updating your call to make use of `computation`\n",
      "WARNING: consider updating your call to make use of `computation`\n",
      "WARNING: consider updating your call to make use of `computation`\n",
      "WARNING: consider updating your call to make use of `computation`\n"
     ]
    }
   ],
   "source": [
    "adata = adata_full[adata_full.obs.time.isin(['CS11','CS12','CS10'])]\n",
    "sc.tl.pca(adata, svd_solver='arpack')\n",
    "sc.external.pp.bbknn(adata, batch_key='source')\n",
    "sc.tl.umap(adata)\n",
    "centroids_pca = calculate_trimmed_means(\n",
    "                adata.obsm[\"X_umap\"],\n",
    "                adata.obs[\"time\"],\n",
    "                trim_proportion=0.05,\n",
    "            )\n",
    "pca_pairdist_real = compute_classwise_distances(centroids_pca)\n",
    "\n",
    "adata = adata_full[adata_full.obs.time.isin(['CS11-CytOrigin','CS12','CS10'])]\n",
    "sc.tl.pca(adata, svd_solver='arpack')\n",
    "sc.external.pp.bbknn(adata, batch_key='source')\n",
    "sc.tl.umap(adata)\n",
    "centroids_pca = calculate_trimmed_means(\n",
    "                adata.obsm[\"X_umap\"],\n",
    "                adata.obs[\"time\"],\n",
    "                trim_proportion=0.05,\n",
    "            )\n",
    "pca_pairdist_cyto = compute_classwise_distances(centroids_pca)\n",
    "\n",
    "adata = adata_full[adata_full.obs.time.isin(['CS11-Splatter','CS12','CS10'])]\n",
    "sc.tl.pca(adata, svd_solver='arpack')\n",
    "sc.external.pp.bbknn(adata, batch_key='source')\n",
    "sc.tl.umap(adata)\n",
    "centroids_pca = calculate_trimmed_means(\n",
    "                adata.obsm[\"X_umap\"],\n",
    "                adata.obs[\"time\"],\n",
    "                trim_proportion=0.05,\n",
    "            )\n",
    "pca_pairdist_spla = compute_classwise_distances(centroids_pca)\n",
    "\n",
    "adata = adata_full[adata_full.obs.time.isin(['CS11-Splatter-Simple','CS12','CS10'])]\n",
    "sc.tl.pca(adata, svd_solver='arpack')\n",
    "sc.external.pp.bbknn(adata, batch_key='source')\n",
    "sc.tl.umap(adata)\n",
    "centroids_pca = calculate_trimmed_means(\n",
    "                adata.obsm[\"X_umap\"],\n",
    "                adata.obs[\"time\"],\n",
    "                trim_proportion=0.05,\n",
    "            )\n",
    "pca_pairdist_simp = compute_classwise_distances(centroids_pca)\n",
    "\n",
    "adata = adata_full[adata_full.obs.time.isin(['CS11-scDesign3','CS12','CS10'])]\n",
    "sc.tl.pca(adata, svd_solver='arpack')\n",
    "sc.external.pp.bbknn(adata, batch_key='source')\n",
    "sc.tl.umap(adata)\n",
    "centroids_pca = calculate_trimmed_means(\n",
    "                adata.obsm[\"X_umap\"],\n",
    "                adata.obs[\"time\"],\n",
    "                trim_proportion=0.05,\n",
    "            )\n",
    "pca_pairdist_scde = compute_classwise_distances(centroids_pca)\n",
    "\n",
    "adata = adata_full[adata_full.obs.time.isin(['CS11-scVAEDer','CS12','CS10'])]\n",
    "sc.tl.pca(adata, svd_solver='arpack')\n",
    "sc.external.pp.bbknn(adata, batch_key='source')\n",
    "sc.tl.umap(adata)\n",
    "centroids_pca = calculate_trimmed_means(\n",
    "                adata.obsm[\"X_umap\"],\n",
    "                adata.obs[\"time\"],\n",
    "                trim_proportion=0.05,\n",
    "            )\n",
    "pca_pairdist_scva = compute_classwise_distances(centroids_pca)"
   ]
  },
  {
   "cell_type": "code",
   "execution_count": 48,
   "id": "f83eacfc-1997-45a1-bb7c-c2abdeae3c17",
   "metadata": {
    "execution": {
     "iopub.execute_input": "2025-08-19T16:13:53.148032Z",
     "iopub.status.busy": "2025-08-19T16:13:53.147527Z",
     "iopub.status.idle": "2025-08-19T16:13:53.154956Z",
     "shell.execute_reply": "2025-08-19T16:13:53.154266Z",
     "shell.execute_reply.started": "2025-08-19T16:13:53.147997Z"
    }
   },
   "outputs": [],
   "source": [
    "pca_pairdist_cyto.index = ['CS10','CS11','CS12']\n",
    "pca_pairdist_cyto.columns = ['CS10','CS11','CS12']\n",
    "\n",
    "pca_pairdist_scde.index = ['CS10','CS11','CS12']\n",
    "pca_pairdist_scde.columns = ['CS10','CS11','CS12']\n",
    "\n",
    "pca_pairdist_scva.index = ['CS10','CS11','CS12']\n",
    "pca_pairdist_scva.columns = ['CS10','CS11','CS12']\n",
    "\n",
    "pca_pairdist_spla.index = ['CS10','CS11','CS12']\n",
    "pca_pairdist_spla.columns = ['CS10','CS11','CS12']\n",
    "\n",
    "pca_pairdist_simp.index = ['CS10','CS11','CS12']\n",
    "pca_pairdist_simp.columns = ['CS10','CS11','CS12']"
   ]
  },
  {
   "cell_type": "code",
   "execution_count": 49,
   "id": "25669425-5f33-4eda-8691-17f35c9c2d1d",
   "metadata": {
    "execution": {
     "iopub.execute_input": "2025-08-19T16:14:04.328812Z",
     "iopub.status.busy": "2025-08-19T16:14:04.328194Z",
     "iopub.status.idle": "2025-08-19T16:14:04.362968Z",
     "shell.execute_reply": "2025-08-19T16:14:04.362315Z",
     "shell.execute_reply.started": "2025-08-19T16:14:04.328780Z"
    }
   },
   "outputs": [],
   "source": [
    "index_pearson_cyto = corr_diff(pca_pairdist_real, pca_pairdist_cyto)\n",
    "index_pearson_scva = corr_diff(pca_pairdist_real, pca_pairdist_scva)\n",
    "index_pearson_scde = corr_diff(pca_pairdist_real, pca_pairdist_scde)\n",
    "index_pearson_spla = corr_diff(pca_pairdist_real, pca_pairdist_spla)\n",
    "index_pearson_simp = corr_diff(pca_pairdist_real, pca_pairdist_simp)"
   ]
  },
  {
   "cell_type": "code",
   "execution_count": 51,
   "id": "ecd77466-32d0-4486-b9b0-b9c6fd4dbc34",
   "metadata": {
    "execution": {
     "iopub.execute_input": "2025-08-19T16:14:32.005216Z",
     "iopub.status.busy": "2025-08-19T16:14:32.004745Z",
     "iopub.status.idle": "2025-08-19T16:14:32.012495Z",
     "shell.execute_reply": "2025-08-19T16:14:32.011803Z",
     "shell.execute_reply.started": "2025-08-19T16:14:32.005183Z"
    },
    "tags": []
   },
   "outputs": [],
   "source": [
    "index_pearson = pd.concat([index_pearson_cyto,index_pearson_scva,index_pearson_scde,index_pearson_spla,index_pearson_simp], axis = 1)\n",
    "index_pearson.columns = ['CytOrigin','scVAEDer','scDesign3','Splatter','Splatter-Simple']\n",
    "index_pearson.to_csv('/slurm/home/yrd/liaolab/caohaoxue/embryo_work/benchmark/CS11_index_pearson.csv') #8kgene"
   ]
  },
  {
   "cell_type": "code",
   "execution_count": null,
   "id": "54e11efc-be95-47f2-9be8-2a7c61e4ec84",
   "metadata": {},
   "outputs": [],
   "source": []
  }
 ],
 "metadata": {
  "kernelspec": {
   "display_name": "my_env",
   "language": "python",
   "name": "my_env"
  },
  "language_info": {
   "codemirror_mode": {
    "name": "ipython",
    "version": 3
   },
   "file_extension": ".py",
   "mimetype": "text/x-python",
   "name": "python",
   "nbconvert_exporter": "python",
   "pygments_lexer": "ipython3",
   "version": "3.13.2"
  }
 },
 "nbformat": 4,
 "nbformat_minor": 5
}
